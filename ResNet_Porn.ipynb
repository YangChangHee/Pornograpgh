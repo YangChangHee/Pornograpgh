{
 "cells": [
  {
   "cell_type": "code",
   "execution_count": 1,
   "id": "under-better",
   "metadata": {},
   "outputs": [],
   "source": [
    "import torch\n",
    "import torch.nn as nn"
   ]
  },
  {
   "cell_type": "code",
   "execution_count": 2,
   "id": "impressive-favorite",
   "metadata": {},
   "outputs": [],
   "source": [
    "class BasicBlock(nn.Module):\n",
    "    expansion=1\n",
    "    def __init__(self, in_channels, out_channels, stride=1):\n",
    "        super().__init__()\n",
    "        self.residual_function = nn.Sequential(\n",
    "            nn.Conv2d(in_channels, out_channels, kernel_size=1, bias=False),\n",
    "            nn.BatchNorm2d(out_channels),\n",
    "            nn.ReLU(inplace=True),\n",
    "            nn.Conv2d(out_channels, out_channels, stride=stride, kernel_size=3, padding=1, bias=False),\n",
    "            nn.BatchNorm2d(out_channels*BasicBlock.expansion)\n",
    "        )\n",
    "        self.shortcut=nn.Sequential()\n",
    "        if stride != 1 or in_channels != BasicBlock.expansion * out_channels:\n",
    "            self.shortcut = nn.Sequential(\n",
    "                nn.Conv2d(in_channels, out_channels * BasicBlock.expansion, kernel_size=1, stride=stride, bias=False),\n",
    "                nn.BatchNorm2d(out_channels * BasicBlock.expansion))\n",
    "    def forward(self,x):\n",
    "        return nn.ReLU(inplace=True)(self.residual_function(x)+self.shortcut(x))"
   ]
  },
  {
   "cell_type": "code",
   "execution_count": 3,
   "id": "embedded-lighting",
   "metadata": {},
   "outputs": [],
   "source": [
    "def dimension_check():\n",
    "    net=BasicBlock(3,3,2)\n",
    "    print(net.residual_function)\n",
    "    print(net.shortcut)\n",
    "    x= torch.randn(1,3,50,50)\n",
    "    y=net(x)\n",
    "    print(y.size())"
   ]
  },
  {
   "cell_type": "code",
   "execution_count": 4,
   "id": "skilled-direction",
   "metadata": {},
   "outputs": [
    {
     "name": "stdout",
     "output_type": "stream",
     "text": [
      "Sequential(\n",
      "  (0): Conv2d(3, 3, kernel_size=(1, 1), stride=(1, 1), bias=False)\n",
      "  (1): BatchNorm2d(3, eps=1e-05, momentum=0.1, affine=True, track_running_stats=True)\n",
      "  (2): ReLU(inplace=True)\n",
      "  (3): Conv2d(3, 3, kernel_size=(3, 3), stride=(2, 2), padding=(1, 1), bias=False)\n",
      "  (4): BatchNorm2d(3, eps=1e-05, momentum=0.1, affine=True, track_running_stats=True)\n",
      ")\n",
      "Sequential(\n",
      "  (0): Conv2d(3, 3, kernel_size=(1, 1), stride=(2, 2), bias=False)\n",
      "  (1): BatchNorm2d(3, eps=1e-05, momentum=0.1, affine=True, track_running_stats=True)\n",
      ")\n",
      "torch.Size([1, 3, 25, 25])\n"
     ]
    }
   ],
   "source": [
    "dimension_check()"
   ]
  },
  {
   "cell_type": "code",
   "execution_count": 5,
   "id": "scheduled-demographic",
   "metadata": {},
   "outputs": [],
   "source": [
    "class BottleNeck(nn.Module):\n",
    "    expansion = 4\n",
    "    def __init__(self, in_channels, out_channels, stride=1):\n",
    "        super().__init__()\n",
    "        self.residual_function = nn.Sequential(\n",
    "        nn.Conv2d(in_channels, out_channels, kernel_size=1, bias=False),\n",
    "        nn.BatchNorm2d(out_channels),\n",
    "        nn.ReLU(inplace=True),\n",
    "        nn.Conv2d(out_channels, out_channels, stride=stride, kernel_size=3, padding=1, bias=False),\n",
    "        nn.BatchNorm2d(out_channels),\n",
    "        nn.ReLU(inplace=True),\n",
    "        nn.Conv2d(out_channels, out_channels * BottleNeck.expansion, kernel_size=1, bias=False),\n",
    "        nn.BatchNorm2d(out_channels * BottleNeck.expansion),\n",
    "        )\n",
    "        \n",
    "        self.shortcut = nn.Sequential()\n",
    "        \n",
    "        if stride != 1 or in_channels != out_channels * BottleNeck.expansion:\n",
    "            self.shortcut = nn.Sequential(\n",
    "                nn.Conv2d(in_channels, out_channels * BottleNeck.expansion, stride=stride, kernel_size=1, bias=False),\n",
    "                nn.BatchNorm2d(out_channels * BottleNeck.expansion))\n",
    "    def forward(self, x):\n",
    "        return nn.ReLU(inplace=True)(self.residual_function(x) + self.shortcut(x))\n",
    "            "
   ]
  },
  {
   "cell_type": "code",
   "execution_count": 6,
   "id": "linear-classic",
   "metadata": {},
   "outputs": [],
   "source": [
    "def dimension_check():\n",
    "    net=BottleNeck(3,3,1)\n",
    "    print(net.residual_function)\n",
    "    print(net.shortcut)\n",
    "    x= torch.randn(1,3,50,50)\n",
    "    y=net(x)\n",
    "    print(y.size())"
   ]
  },
  {
   "cell_type": "code",
   "execution_count": 7,
   "id": "mobile-vietnam",
   "metadata": {},
   "outputs": [
    {
     "name": "stdout",
     "output_type": "stream",
     "text": [
      "Sequential(\n",
      "  (0): Conv2d(3, 3, kernel_size=(1, 1), stride=(1, 1), bias=False)\n",
      "  (1): BatchNorm2d(3, eps=1e-05, momentum=0.1, affine=True, track_running_stats=True)\n",
      "  (2): ReLU(inplace=True)\n",
      "  (3): Conv2d(3, 3, kernel_size=(3, 3), stride=(1, 1), padding=(1, 1), bias=False)\n",
      "  (4): BatchNorm2d(3, eps=1e-05, momentum=0.1, affine=True, track_running_stats=True)\n",
      "  (5): ReLU(inplace=True)\n",
      "  (6): Conv2d(3, 12, kernel_size=(1, 1), stride=(1, 1), bias=False)\n",
      "  (7): BatchNorm2d(12, eps=1e-05, momentum=0.1, affine=True, track_running_stats=True)\n",
      ")\n",
      "Sequential(\n",
      "  (0): Conv2d(3, 12, kernel_size=(1, 1), stride=(1, 1), bias=False)\n",
      "  (1): BatchNorm2d(12, eps=1e-05, momentum=0.1, affine=True, track_running_stats=True)\n",
      ")\n",
      "torch.Size([1, 12, 50, 50])\n"
     ]
    }
   ],
   "source": [
    "dimension_check()"
   ]
  },
  {
   "cell_type": "code",
   "execution_count": 8,
   "id": "relative-breed",
   "metadata": {},
   "outputs": [],
   "source": [
    "class ResNet(nn.Module):\n",
    "    \n",
    "    def __init__(self, block, num_block, num_classes=2):\n",
    "        super().__init__()\n",
    "        self.in_channels = 64\n",
    "        self.conv1 = nn.Sequential(\n",
    "            nn.Conv2d(3, 64, kernel_size=3, padding=1, bias=False),\n",
    "            nn.BatchNorm2d(64),\n",
    "            nn.ReLU(inplace=True))\n",
    "        self.conv2_x = self._make_layer(block, 64, num_block[0], 1)\n",
    "        self.conv3_x = self._make_layer(block, 128, num_block[1], 2)\n",
    "        self.conv4_x = self._make_layer(block, 256, num_block[2], 2)\n",
    "        self.conv5_x = self._make_layer(block, 512, num_block[3], 2)\n",
    "        self.avg_pool = nn.AdaptiveAvgPool2d((1, 1))\n",
    "        self.fc = nn.Linear(512 * block.expansion, num_classes)\n",
    "\n",
    "    def _make_layer(self, block, out_channels, num_blocks, stride):\n",
    "        strides = [stride] + [1] * (num_blocks - 1)\n",
    "        layers = []\n",
    "        for stride in strides:\n",
    "            layers.append(block(self.in_channels, out_channels, stride))\n",
    "            self.in_channels = out_channels * block.expansion\n",
    "        return nn.Sequential(*layers)\n",
    "\n",
    "    def forward(self, x):\n",
    "        output = self.conv1(x)\n",
    "        output = self.conv2_x(output)\n",
    "        output = self.conv3_x(output)\n",
    "        output = self.conv4_x(output)\n",
    "        output = self.conv5_x(output)\n",
    "        output = self.avg_pool(output)\n",
    "        output = output.view(output.size(0), -1)\n",
    "        output = self.fc(output) # => 이미지 크기가 \n",
    "                                 #바뀌면 이 줄 코드를 # 하고 dimension 확인\n",
    "\n",
    "        return output"
   ]
  },
  {
   "cell_type": "code",
   "execution_count": 9,
   "id": "hawaiian-termination",
   "metadata": {},
   "outputs": [],
   "source": [
    "def resnet18():\n",
    "    return ResNet(BasicBlock, [2, 2, 2, 2])\n",
    "def resnet34():\n",
    "    return ResNet(BasicBlock, [3, 4, 6, 3])\n",
    "def resnet50():\n",
    "    return ResNet(BottleNeck, [3, 4, 6, 3])\n",
    "def resnet101():\n",
    "    return ResNet(BottleNeck, [3, 4, 23, 3])\n",
    "def resnet152():\n",
    "    return ResNet(BottleNeck, [3, 8, 36, 3])"
   ]
  },
  {
   "cell_type": "code",
   "execution_count": 10,
   "id": "architectural-bracelet",
   "metadata": {},
   "outputs": [],
   "source": [
    "def dimension_check():\n",
    "    net=resnet50()\n",
    "    x= torch.randn(1,3,50,50) # 28 이미지\n",
    "    y=net(x)\n",
    "    print(y.size())"
   ]
  },
  {
   "cell_type": "code",
   "execution_count": 11,
   "id": "fewer-canada",
   "metadata": {},
   "outputs": [
    {
     "name": "stdout",
     "output_type": "stream",
     "text": [
      "torch.Size([1, 2])\n"
     ]
    }
   ],
   "source": [
    "dimension_check()"
   ]
  },
  {
   "cell_type": "code",
   "execution_count": 12,
   "id": "regulated-mistake",
   "metadata": {},
   "outputs": [],
   "source": [
    "import matplotlib.pyplot as plt\n",
    "import numpy as np\n",
    "import random\n",
    "import torch\n",
    "import torchvision\n",
    "import torchvision.transforms as transforms\n",
    "import torch.nn as nn\n",
    "import torch.nn.functional as F\n",
    "import torch.optim as optim\n",
    "import argparse\n",
    "import numpy as np\n",
    "import time\n",
    "from copy import deepcopy\n",
    "import seaborn as sns \n",
    "import matplotlib.pyplot as plt"
   ]
  },
  {
   "cell_type": "code",
   "execution_count": 13,
   "id": "saved-spending",
   "metadata": {},
   "outputs": [],
   "source": [
    "Porn=np.load(\"Porn_data.npy\")\n",
    "Non_Porn=np.load(\"Non_Porn_data.npy\")"
   ]
  },
  {
   "cell_type": "code",
   "execution_count": 14,
   "id": "ethical-mainstream",
   "metadata": {},
   "outputs": [],
   "source": [
    "input_data=[]\n",
    "for i in range(2):\n",
    "    if i == 0:\n",
    "        for j in range(len(Non_Porn)):\n",
    "            input_data.append(Non_Porn[j])\n",
    "    else :\n",
    "        for j in range(len(Porn)):\n",
    "            input_data.append(Porn[j])"
   ]
  },
  {
   "cell_type": "code",
   "execution_count": 15,
   "id": "reported-slovak",
   "metadata": {},
   "outputs": [],
   "source": [
    "input_data=np.array(input_data)"
   ]
  },
  {
   "cell_type": "code",
   "execution_count": 16,
   "id": "competent-converter",
   "metadata": {},
   "outputs": [],
   "source": [
    "label=[]\n",
    "for i in range(len(Non_Porn)+len(Porn)):\n",
    "    if i>len(Non_Porn):\n",
    "        label.append(0)\n",
    "    else:\n",
    "        label.append(1)"
   ]
  },
  {
   "cell_type": "code",
   "execution_count": 17,
   "id": "soviet-break",
   "metadata": {},
   "outputs": [],
   "source": [
    "label=np.array(label)"
   ]
  },
  {
   "cell_type": "code",
   "execution_count": 18,
   "id": "generic-ladder",
   "metadata": {},
   "outputs": [],
   "source": [
    "input_data= (input_data*(1/256)-0.5)/0.5"
   ]
  },
  {
   "cell_type": "code",
   "execution_count": 19,
   "id": "interested-point",
   "metadata": {},
   "outputs": [],
   "source": [
    "input_data=torch.FloatTensor(input_data)\n",
    "label=torch.LongTensor(label)"
   ]
  },
  {
   "cell_type": "code",
   "execution_count": 20,
   "id": "peaceful-permission",
   "metadata": {},
   "outputs": [],
   "source": [
    "input_data=input_data.transpose(1,3)"
   ]
  },
  {
   "cell_type": "code",
   "execution_count": 21,
   "id": "traditional-treat",
   "metadata": {},
   "outputs": [],
   "source": [
    "from torch.utils.data import TensorDataset\n",
    "from torch.utils.data import DataLoader\n",
    "dataset = TensorDataset(input_data,label)"
   ]
  },
  {
   "cell_type": "code",
   "execution_count": 22,
   "id": "suspected-private",
   "metadata": {},
   "outputs": [],
   "source": [
    "trainset,valset=torch.utils.data.random_split(dataset,[116681,20000])\n",
    "trainset,testset=torch.utils.data.random_split(trainset,[96681,20000])\n",
    "\n",
    "partition={'train':trainset,'val':valset,'test':testset}"
   ]
  },
  {
   "cell_type": "code",
   "execution_count": 23,
   "id": "atomic-product",
   "metadata": {},
   "outputs": [],
   "source": [
    "def train(net,partition,optimizer,criterion):\n",
    "    trainloader = torch.utils.data.DataLoader(partition['train'],\n",
    "                                             batch_size=256,\n",
    "                                             shuffle=True)\n",
    "    net.train()\n",
    "    correct = 0\n",
    "    total =0\n",
    "    train_loss = 0.0\n",
    "    for i, data in enumerate(tqdm(trainloader, 0)):\n",
    "        time.sleep(0.0000001)\n",
    "        optimizer.zero_grad()\n",
    "        inputs, labels = data\n",
    "        inputs = inputs.cuda()\n",
    "        labels = labels.cuda()\n",
    "        outputs = net(inputs)\n",
    "        #break\n",
    "        loss = criterion(outputs, labels)\n",
    "        loss.backward()\n",
    "        optimizer.step()\n",
    "        \n",
    "        train_loss += loss.item()\n",
    "        _, predicted = torch.max(outputs.data, 1)\n",
    "        total += labels.size(0)\n",
    "        correct += (predicted == labels).sum().item()\n",
    "        #if i % 200 == 0:\n",
    "        #    print(correct,train_loss)\n",
    "    train_loss = train_loss / len(trainloader)\n",
    "    train_acc = 100 * correct / total\n",
    "    return net, train_loss, train_acc"
   ]
  },
  {
   "cell_type": "code",
   "execution_count": 24,
   "id": "equal-operator",
   "metadata": {},
   "outputs": [],
   "source": [
    "def test(net):\n",
    "    testloader = torch.utils.data.DataLoader(partition['test'], \n",
    "                                             batch_size=256, \n",
    "                                             shuffle=False, num_workers=2)\n",
    "    net.eval()\n",
    "    \n",
    "    correct = 0\n",
    "    total = 0\n",
    "    with torch.no_grad():\n",
    "        for data in tqdm(testloader):\n",
    "            time.sleep(0.0000001)\n",
    "            images, labels = data\n",
    "            images = images.cuda()\n",
    "            labels = labels.cuda()\n",
    "\n",
    "            outputs = net(images)\n",
    "            _, predicted = torch.max(outputs.data, 1)\n",
    "            total += labels.size(0)\n",
    "            correct += (predicted == labels).sum().item()\n",
    "\n",
    "        test_acc = 100 * correct / total\n",
    "    return test_acc"
   ]
  },
  {
   "cell_type": "code",
   "execution_count": 25,
   "id": "fluid-guinea",
   "metadata": {},
   "outputs": [],
   "source": [
    "def validate(net, partition, criterion):\n",
    "    valloader = torch.utils.data.DataLoader(partition['val'], \n",
    "                                            batch_size=256, \n",
    "                                            shuffle=False, num_workers=2)\n",
    "    net.eval()\n",
    "\n",
    "    correct = 0\n",
    "    total = 0\n",
    "    val_loss = 0 \n",
    "    with torch.no_grad():\n",
    "        for data in tqdm(valloader):\n",
    "            time.sleep(0.0000001)\n",
    "            images, labels = data\n",
    "            images = images.cuda()\n",
    "            labels = labels.cuda()\n",
    "            outputs = net(images)\n",
    "\n",
    "            loss = criterion(outputs, labels)\n",
    "            \n",
    "            val_loss += loss.item()\n",
    "            _, predicted = torch.max(outputs.data, 1)\n",
    "            total += labels.size(0)\n",
    "            correct += (predicted == labels).sum().item()\n",
    "\n",
    "        val_loss = val_loss / len(valloader)\n",
    "        val_acc = 100 * correct / total\n",
    "    return val_loss, val_acc"
   ]
  },
  {
   "cell_type": "code",
   "execution_count": 26,
   "id": "intense-award",
   "metadata": {},
   "outputs": [],
   "source": [
    "from tqdm import tqdm, tqdm_notebook\n",
    "from tqdm import trange\n",
    "import time"
   ]
  },
  {
   "cell_type": "code",
   "execution_count": 27,
   "id": "roman-columbia",
   "metadata": {},
   "outputs": [
    {
     "name": "stderr",
     "output_type": "stream",
     "text": [
      "100%|██████████| 378/378 [02:22<00:00,  2.64it/s]\n",
      "100%|██████████| 79/79 [00:08<00:00,  9.59it/s]\n",
      "  0%|          | 0/378 [00:00<?, ?it/s]"
     ]
    },
    {
     "name": "stdout",
     "output_type": "stream",
     "text": [
      "time : 151.19, train_loss : 0.31, train_acc : 87.90,val_acc : 88.17,val_loss : 0.30\n"
     ]
    },
    {
     "name": "stderr",
     "output_type": "stream",
     "text": [
      "100%|██████████| 378/378 [02:24<00:00,  2.61it/s]\n",
      "100%|██████████| 79/79 [00:08<00:00,  9.57it/s]\n",
      "  0%|          | 0/378 [00:00<?, ?it/s]"
     ]
    },
    {
     "name": "stdout",
     "output_type": "stream",
     "text": [
      "time : 153.20, train_loss : 0.21, train_acc : 92.13,val_acc : 91.81,val_loss : 0.21\n"
     ]
    },
    {
     "name": "stderr",
     "output_type": "stream",
     "text": [
      "100%|██████████| 378/378 [02:25<00:00,  2.60it/s]\n",
      "100%|██████████| 79/79 [00:08<00:00,  9.57it/s]\n",
      "  0%|          | 0/378 [00:00<?, ?it/s]"
     ]
    },
    {
     "name": "stdout",
     "output_type": "stream",
     "text": [
      "time : 153.60, train_loss : 0.16, train_acc : 93.98,val_acc : 92.17,val_loss : 0.20\n"
     ]
    },
    {
     "name": "stderr",
     "output_type": "stream",
     "text": [
      "100%|██████████| 378/378 [02:25<00:00,  2.60it/s]\n",
      "100%|██████████| 79/79 [00:08<00:00,  9.55it/s]\n",
      "  0%|          | 0/378 [00:00<?, ?it/s]"
     ]
    },
    {
     "name": "stdout",
     "output_type": "stream",
     "text": [
      "time : 153.51, train_loss : 0.14, train_acc : 95.05,val_acc : 94.44,val_loss : 0.15\n"
     ]
    },
    {
     "name": "stderr",
     "output_type": "stream",
     "text": [
      "100%|██████████| 378/378 [02:25<00:00,  2.60it/s]\n",
      "100%|██████████| 79/79 [00:08<00:00,  9.53it/s]\n",
      "  0%|          | 0/378 [00:00<?, ?it/s]"
     ]
    },
    {
     "name": "stdout",
     "output_type": "stream",
     "text": [
      "time : 153.62, train_loss : 0.12, train_acc : 95.72,val_acc : 93.47,val_loss : 0.18\n"
     ]
    },
    {
     "name": "stderr",
     "output_type": "stream",
     "text": [
      "100%|██████████| 378/378 [02:25<00:00,  2.60it/s]\n",
      "100%|██████████| 79/79 [00:08<00:00,  9.52it/s]\n",
      "  0%|          | 0/378 [00:00<?, ?it/s]"
     ]
    },
    {
     "name": "stdout",
     "output_type": "stream",
     "text": [
      "time : 153.56, train_loss : 0.10, train_acc : 96.34,val_acc : 96.38,val_loss : 0.10\n"
     ]
    },
    {
     "name": "stderr",
     "output_type": "stream",
     "text": [
      "100%|██████████| 378/378 [02:25<00:00,  2.60it/s]\n",
      "100%|██████████| 79/79 [00:08<00:00,  9.53it/s]\n",
      "  0%|          | 0/378 [00:00<?, ?it/s]"
     ]
    },
    {
     "name": "stdout",
     "output_type": "stream",
     "text": [
      "time : 153.63, train_loss : 0.09, train_acc : 96.87,val_acc : 91.79,val_loss : 0.22\n"
     ]
    },
    {
     "name": "stderr",
     "output_type": "stream",
     "text": [
      "100%|██████████| 378/378 [02:25<00:00,  2.60it/s]\n",
      "100%|██████████| 79/79 [00:08<00:00,  9.55it/s]\n",
      "  0%|          | 0/378 [00:00<?, ?it/s]"
     ]
    },
    {
     "name": "stdout",
     "output_type": "stream",
     "text": [
      "time : 153.69, train_loss : 0.08, train_acc : 97.25,val_acc : 95.80,val_loss : 0.11\n"
     ]
    },
    {
     "name": "stderr",
     "output_type": "stream",
     "text": [
      "100%|██████████| 378/378 [02:25<00:00,  2.60it/s]\n",
      "100%|██████████| 79/79 [00:08<00:00,  9.57it/s]\n",
      "  0%|          | 0/378 [00:00<?, ?it/s]"
     ]
    },
    {
     "name": "stdout",
     "output_type": "stream",
     "text": [
      "time : 153.58, train_loss : 0.07, train_acc : 97.52,val_acc : 96.70,val_loss : 0.09\n"
     ]
    },
    {
     "name": "stderr",
     "output_type": "stream",
     "text": [
      "100%|██████████| 378/378 [02:25<00:00,  2.60it/s]\n",
      "100%|██████████| 79/79 [00:08<00:00,  9.51it/s]\n",
      "  0%|          | 0/378 [00:00<?, ?it/s]"
     ]
    },
    {
     "name": "stdout",
     "output_type": "stream",
     "text": [
      "time : 153.61, train_loss : 0.06, train_acc : 97.90,val_acc : 94.44,val_loss : 0.15\n"
     ]
    },
    {
     "name": "stderr",
     "output_type": "stream",
     "text": [
      "100%|██████████| 378/378 [02:25<00:00,  2.60it/s]\n",
      "100%|██████████| 79/79 [00:08<00:00,  9.52it/s]\n",
      "  0%|          | 0/378 [00:00<?, ?it/s]"
     ]
    },
    {
     "name": "stdout",
     "output_type": "stream",
     "text": [
      "time : 153.72, train_loss : 0.05, train_acc : 98.16,val_acc : 94.83,val_loss : 0.16\n"
     ]
    },
    {
     "name": "stderr",
     "output_type": "stream",
     "text": [
      "100%|██████████| 378/378 [02:25<00:00,  2.60it/s]\n",
      "100%|██████████| 79/79 [00:08<00:00,  9.55it/s]\n",
      "  0%|          | 0/378 [00:00<?, ?it/s]"
     ]
    },
    {
     "name": "stdout",
     "output_type": "stream",
     "text": [
      "time : 153.45, train_loss : 0.05, train_acc : 98.33,val_acc : 97.00,val_loss : 0.09\n"
     ]
    },
    {
     "name": "stderr",
     "output_type": "stream",
     "text": [
      "100%|██████████| 378/378 [02:25<00:00,  2.61it/s]\n",
      "100%|██████████| 79/79 [00:08<00:00,  9.54it/s]\n",
      "  0%|          | 0/378 [00:00<?, ?it/s]"
     ]
    },
    {
     "name": "stdout",
     "output_type": "stream",
     "text": [
      "time : 153.35, train_loss : 0.04, train_acc : 98.45,val_acc : 97.24,val_loss : 0.08\n"
     ]
    },
    {
     "name": "stderr",
     "output_type": "stream",
     "text": [
      "100%|██████████| 378/378 [02:25<00:00,  2.60it/s]\n",
      "100%|██████████| 79/79 [00:08<00:00,  9.52it/s]\n",
      "  0%|          | 0/378 [00:00<?, ?it/s]"
     ]
    },
    {
     "name": "stdout",
     "output_type": "stream",
     "text": [
      "time : 153.42, train_loss : 0.04, train_acc : 98.48,val_acc : 97.81,val_loss : 0.06\n"
     ]
    },
    {
     "name": "stderr",
     "output_type": "stream",
     "text": [
      "100%|██████████| 378/378 [02:25<00:00,  2.60it/s]\n",
      "100%|██████████| 79/79 [00:08<00:00,  9.58it/s]\n",
      "  0%|          | 0/378 [00:00<?, ?it/s]"
     ]
    },
    {
     "name": "stdout",
     "output_type": "stream",
     "text": [
      "time : 153.40, train_loss : 0.04, train_acc : 98.77,val_acc : 97.81,val_loss : 0.07\n"
     ]
    },
    {
     "name": "stderr",
     "output_type": "stream",
     "text": [
      "100%|██████████| 378/378 [02:24<00:00,  2.61it/s]\n",
      "100%|██████████| 79/79 [00:08<00:00,  9.59it/s]\n",
      "  0%|          | 0/378 [00:00<?, ?it/s]"
     ]
    },
    {
     "name": "stdout",
     "output_type": "stream",
     "text": [
      "time : 153.08, train_loss : 0.03, train_acc : 98.84,val_acc : 97.85,val_loss : 0.07\n"
     ]
    },
    {
     "name": "stderr",
     "output_type": "stream",
     "text": [
      "100%|██████████| 378/378 [02:24<00:00,  2.61it/s]\n",
      "100%|██████████| 79/79 [00:08<00:00,  9.60it/s]\n",
      "  0%|          | 0/378 [00:00<?, ?it/s]"
     ]
    },
    {
     "name": "stdout",
     "output_type": "stream",
     "text": [
      "time : 152.91, train_loss : 0.03, train_acc : 98.90,val_acc : 95.63,val_loss : 0.13\n"
     ]
    },
    {
     "name": "stderr",
     "output_type": "stream",
     "text": [
      "100%|██████████| 378/378 [02:24<00:00,  2.61it/s]\n",
      "100%|██████████| 79/79 [00:08<00:00,  9.59it/s]\n",
      "  0%|          | 0/378 [00:00<?, ?it/s]"
     ]
    },
    {
     "name": "stdout",
     "output_type": "stream",
     "text": [
      "time : 152.92, train_loss : 0.03, train_acc : 98.97,val_acc : 96.77,val_loss : 0.11\n"
     ]
    },
    {
     "name": "stderr",
     "output_type": "stream",
     "text": [
      "100%|██████████| 378/378 [02:24<00:00,  2.61it/s]\n",
      "100%|██████████| 79/79 [00:08<00:00,  9.60it/s]\n",
      "  0%|          | 0/378 [00:00<?, ?it/s]"
     ]
    },
    {
     "name": "stdout",
     "output_type": "stream",
     "text": [
      "time : 153.01, train_loss : 0.03, train_acc : 99.07,val_acc : 98.05,val_loss : 0.06\n"
     ]
    },
    {
     "name": "stderr",
     "output_type": "stream",
     "text": [
      "100%|██████████| 378/378 [02:24<00:00,  2.62it/s]\n",
      "100%|██████████| 79/79 [00:08<00:00,  9.58it/s]\n",
      "  0%|          | 0/378 [00:00<?, ?it/s]"
     ]
    },
    {
     "name": "stdout",
     "output_type": "stream",
     "text": [
      "time : 152.78, train_loss : 0.03, train_acc : 99.11,val_acc : 98.00,val_loss : 0.06\n"
     ]
    },
    {
     "name": "stderr",
     "output_type": "stream",
     "text": [
      "100%|██████████| 378/378 [02:24<00:00,  2.62it/s]\n",
      "100%|██████████| 79/79 [00:08<00:00,  9.57it/s]\n",
      "  0%|          | 0/378 [00:00<?, ?it/s]"
     ]
    },
    {
     "name": "stdout",
     "output_type": "stream",
     "text": [
      "time : 152.77, train_loss : 0.02, train_acc : 99.24,val_acc : 98.05,val_loss : 0.07\n"
     ]
    },
    {
     "name": "stderr",
     "output_type": "stream",
     "text": [
      "100%|██████████| 378/378 [02:24<00:00,  2.62it/s]\n",
      "100%|██████████| 79/79 [00:08<00:00,  9.58it/s]\n",
      "  0%|          | 0/378 [00:00<?, ?it/s]"
     ]
    },
    {
     "name": "stdout",
     "output_type": "stream",
     "text": [
      "time : 152.66, train_loss : 0.02, train_acc : 99.21,val_acc : 96.45,val_loss : 0.11\n"
     ]
    },
    {
     "name": "stderr",
     "output_type": "stream",
     "text": [
      "100%|██████████| 378/378 [02:24<00:00,  2.61it/s]\n",
      "100%|██████████| 79/79 [00:08<00:00,  9.59it/s]\n",
      "  0%|          | 0/378 [00:00<?, ?it/s]"
     ]
    },
    {
     "name": "stdout",
     "output_type": "stream",
     "text": [
      "time : 152.80, train_loss : 0.02, train_acc : 99.26,val_acc : 97.59,val_loss : 0.08\n"
     ]
    },
    {
     "name": "stderr",
     "output_type": "stream",
     "text": [
      "100%|██████████| 378/378 [02:24<00:00,  2.62it/s]\n",
      "100%|██████████| 79/79 [00:08<00:00,  9.60it/s]\n",
      "  0%|          | 0/378 [00:00<?, ?it/s]"
     ]
    },
    {
     "name": "stdout",
     "output_type": "stream",
     "text": [
      "time : 152.50, train_loss : 0.02, train_acc : 99.33,val_acc : 98.02,val_loss : 0.07\n"
     ]
    },
    {
     "name": "stderr",
     "output_type": "stream",
     "text": [
      "100%|██████████| 378/378 [02:24<00:00,  2.62it/s]\n",
      "100%|██████████| 79/79 [00:08<00:00,  9.59it/s]\n",
      "  0%|          | 0/378 [00:00<?, ?it/s]"
     ]
    },
    {
     "name": "stdout",
     "output_type": "stream",
     "text": [
      "time : 152.41, train_loss : 0.02, train_acc : 99.30,val_acc : 98.50,val_loss : 0.05\n"
     ]
    },
    {
     "name": "stderr",
     "output_type": "stream",
     "text": [
      "100%|██████████| 378/378 [02:24<00:00,  2.62it/s]\n",
      "100%|██████████| 79/79 [00:08<00:00,  9.60it/s]\n",
      "  0%|          | 0/378 [00:00<?, ?it/s]"
     ]
    },
    {
     "name": "stdout",
     "output_type": "stream",
     "text": [
      "time : 152.42, train_loss : 0.02, train_acc : 99.41,val_acc : 97.53,val_loss : 0.08\n"
     ]
    },
    {
     "name": "stderr",
     "output_type": "stream",
     "text": [
      "100%|██████████| 378/378 [02:24<00:00,  2.62it/s]\n",
      "100%|██████████| 79/79 [00:08<00:00,  9.60it/s]\n",
      "  0%|          | 0/378 [00:00<?, ?it/s]"
     ]
    },
    {
     "name": "stdout",
     "output_type": "stream",
     "text": [
      "time : 152.50, train_loss : 0.02, train_acc : 99.35,val_acc : 98.06,val_loss : 0.06\n"
     ]
    },
    {
     "name": "stderr",
     "output_type": "stream",
     "text": [
      "100%|██████████| 378/378 [02:23<00:00,  2.63it/s]\n",
      "100%|██████████| 79/79 [00:08<00:00,  9.63it/s]\n",
      "  0%|          | 0/378 [00:00<?, ?it/s]"
     ]
    },
    {
     "name": "stdout",
     "output_type": "stream",
     "text": [
      "time : 152.17, train_loss : 0.02, train_acc : 99.41,val_acc : 97.58,val_loss : 0.08\n"
     ]
    },
    {
     "name": "stderr",
     "output_type": "stream",
     "text": [
      "100%|██████████| 378/378 [02:23<00:00,  2.63it/s]\n",
      "100%|██████████| 79/79 [00:08<00:00,  9.63it/s]\n",
      "  0%|          | 0/378 [00:00<?, ?it/s]"
     ]
    },
    {
     "name": "stdout",
     "output_type": "stream",
     "text": [
      "time : 152.16, train_loss : 0.02, train_acc : 99.45,val_acc : 98.00,val_loss : 0.06\n"
     ]
    },
    {
     "name": "stderr",
     "output_type": "stream",
     "text": [
      "100%|██████████| 378/378 [02:24<00:00,  2.62it/s]\n",
      "100%|██████████| 79/79 [00:08<00:00,  9.61it/s]\n",
      "  0%|          | 0/378 [00:00<?, ?it/s]"
     ]
    },
    {
     "name": "stdout",
     "output_type": "stream",
     "text": [
      "time : 152.40, train_loss : 0.02, train_acc : 99.46,val_acc : 97.58,val_loss : 0.08\n"
     ]
    },
    {
     "name": "stderr",
     "output_type": "stream",
     "text": [
      "100%|██████████| 378/378 [02:23<00:00,  2.63it/s]\n",
      "100%|██████████| 79/79 [00:08<00:00,  9.59it/s]\n",
      "  0%|          | 0/378 [00:00<?, ?it/s]"
     ]
    },
    {
     "name": "stdout",
     "output_type": "stream",
     "text": [
      "time : 152.06, train_loss : 0.01, train_acc : 99.48,val_acc : 98.20,val_loss : 0.06\n"
     ]
    },
    {
     "name": "stderr",
     "output_type": "stream",
     "text": [
      "100%|██████████| 378/378 [02:23<00:00,  2.63it/s]\n",
      "100%|██████████| 79/79 [00:08<00:00,  9.59it/s]\n",
      "  0%|          | 0/378 [00:00<?, ?it/s]"
     ]
    },
    {
     "name": "stdout",
     "output_type": "stream",
     "text": [
      "time : 152.07, train_loss : 0.02, train_acc : 99.46,val_acc : 98.11,val_loss : 0.07\n"
     ]
    },
    {
     "name": "stderr",
     "output_type": "stream",
     "text": [
      "100%|██████████| 378/378 [02:23<00:00,  2.63it/s]\n",
      "100%|██████████| 79/79 [00:08<00:00,  9.59it/s]\n",
      "  0%|          | 0/378 [00:00<?, ?it/s]"
     ]
    },
    {
     "name": "stdout",
     "output_type": "stream",
     "text": [
      "time : 152.01, train_loss : 0.01, train_acc : 99.50,val_acc : 97.86,val_loss : 0.07\n"
     ]
    },
    {
     "name": "stderr",
     "output_type": "stream",
     "text": [
      "100%|██████████| 378/378 [02:23<00:00,  2.63it/s]\n",
      "100%|██████████| 79/79 [00:08<00:00,  9.61it/s]\n",
      "  0%|          | 0/378 [00:00<?, ?it/s]"
     ]
    },
    {
     "name": "stdout",
     "output_type": "stream",
     "text": [
      "time : 152.13, train_loss : 0.01, train_acc : 99.48,val_acc : 98.34,val_loss : 0.05\n"
     ]
    },
    {
     "name": "stderr",
     "output_type": "stream",
     "text": [
      "100%|██████████| 378/378 [02:23<00:00,  2.63it/s]\n",
      "100%|██████████| 79/79 [00:08<00:00,  9.63it/s]\n",
      "  0%|          | 0/378 [00:00<?, ?it/s]"
     ]
    },
    {
     "name": "stdout",
     "output_type": "stream",
     "text": [
      "time : 151.83, train_loss : 0.01, train_acc : 99.59,val_acc : 97.80,val_loss : 0.09\n"
     ]
    },
    {
     "name": "stderr",
     "output_type": "stream",
     "text": [
      "100%|██████████| 378/378 [02:23<00:00,  2.63it/s]\n",
      "100%|██████████| 79/79 [00:08<00:00,  9.63it/s]\n",
      "  0%|          | 0/378 [00:00<?, ?it/s]"
     ]
    },
    {
     "name": "stdout",
     "output_type": "stream",
     "text": [
      "time : 151.90, train_loss : 0.01, train_acc : 99.49,val_acc : 98.29,val_loss : 0.06\n"
     ]
    },
    {
     "name": "stderr",
     "output_type": "stream",
     "text": [
      "100%|██████████| 378/378 [02:23<00:00,  2.63it/s]\n",
      "100%|██████████| 79/79 [00:08<00:00,  9.60it/s]\n",
      "  0%|          | 0/378 [00:00<?, ?it/s]"
     ]
    },
    {
     "name": "stdout",
     "output_type": "stream",
     "text": [
      "time : 152.16, train_loss : 0.01, train_acc : 99.55,val_acc : 98.05,val_loss : 0.07\n"
     ]
    },
    {
     "name": "stderr",
     "output_type": "stream",
     "text": [
      "100%|██████████| 378/378 [02:23<00:00,  2.63it/s]\n",
      "100%|██████████| 79/79 [00:08<00:00,  9.66it/s]\n",
      "  0%|          | 0/378 [00:00<?, ?it/s]"
     ]
    },
    {
     "name": "stdout",
     "output_type": "stream",
     "text": [
      "time : 151.77, train_loss : 0.01, train_acc : 99.51,val_acc : 97.71,val_loss : 0.08\n"
     ]
    },
    {
     "name": "stderr",
     "output_type": "stream",
     "text": [
      "100%|██████████| 378/378 [02:23<00:00,  2.63it/s]\n",
      "100%|██████████| 79/79 [00:08<00:00,  9.63it/s]\n",
      "  0%|          | 0/378 [00:00<?, ?it/s]"
     ]
    },
    {
     "name": "stdout",
     "output_type": "stream",
     "text": [
      "time : 151.70, train_loss : 0.01, train_acc : 99.55,val_acc : 98.23,val_loss : 0.06\n"
     ]
    },
    {
     "name": "stderr",
     "output_type": "stream",
     "text": [
      "100%|██████████| 378/378 [02:23<00:00,  2.63it/s]\n",
      "100%|██████████| 79/79 [00:08<00:00,  9.57it/s]\n",
      "  0%|          | 0/378 [00:00<?, ?it/s]"
     ]
    },
    {
     "name": "stdout",
     "output_type": "stream",
     "text": [
      "time : 151.94, train_loss : 0.01, train_acc : 99.59,val_acc : 97.72,val_loss : 0.07\n"
     ]
    },
    {
     "name": "stderr",
     "output_type": "stream",
     "text": [
      "100%|██████████| 378/378 [02:23<00:00,  2.63it/s]\n",
      "100%|██████████| 79/79 [00:08<00:00,  9.60it/s]\n",
      "  0%|          | 0/378 [00:00<?, ?it/s]"
     ]
    },
    {
     "name": "stdout",
     "output_type": "stream",
     "text": [
      "time : 152.00, train_loss : 0.01, train_acc : 99.60,val_acc : 97.59,val_loss : 0.08\n"
     ]
    },
    {
     "name": "stderr",
     "output_type": "stream",
     "text": [
      "100%|██████████| 378/378 [02:23<00:00,  2.63it/s]\n",
      "100%|██████████| 79/79 [00:08<00:00,  9.63it/s]\n",
      "  0%|          | 0/378 [00:00<?, ?it/s]"
     ]
    },
    {
     "name": "stdout",
     "output_type": "stream",
     "text": [
      "time : 151.68, train_loss : 0.01, train_acc : 99.60,val_acc : 98.27,val_loss : 0.07\n"
     ]
    },
    {
     "name": "stderr",
     "output_type": "stream",
     "text": [
      "100%|██████████| 378/378 [02:23<00:00,  2.63it/s]\n",
      "100%|██████████| 79/79 [00:08<00:00,  9.60it/s]\n",
      "  0%|          | 0/378 [00:00<?, ?it/s]"
     ]
    },
    {
     "name": "stdout",
     "output_type": "stream",
     "text": [
      "time : 151.79, train_loss : 0.01, train_acc : 99.61,val_acc : 98.47,val_loss : 0.05\n"
     ]
    },
    {
     "name": "stderr",
     "output_type": "stream",
     "text": [
      "100%|██████████| 378/378 [02:23<00:00,  2.63it/s]\n",
      "100%|██████████| 79/79 [00:08<00:00,  9.62it/s]\n",
      "  0%|          | 0/378 [00:00<?, ?it/s]"
     ]
    },
    {
     "name": "stdout",
     "output_type": "stream",
     "text": [
      "time : 151.95, train_loss : 0.01, train_acc : 99.52,val_acc : 98.16,val_loss : 0.07\n"
     ]
    },
    {
     "name": "stderr",
     "output_type": "stream",
     "text": [
      "100%|██████████| 378/378 [02:23<00:00,  2.63it/s]\n",
      "100%|██████████| 79/79 [00:08<00:00,  9.66it/s]\n",
      "  0%|          | 0/378 [00:00<?, ?it/s]"
     ]
    },
    {
     "name": "stdout",
     "output_type": "stream",
     "text": [
      "time : 151.66, train_loss : 0.01, train_acc : 99.65,val_acc : 98.41,val_loss : 0.06\n"
     ]
    },
    {
     "name": "stderr",
     "output_type": "stream",
     "text": [
      "100%|██████████| 378/378 [02:23<00:00,  2.64it/s]\n",
      "100%|██████████| 79/79 [00:08<00:00,  9.63it/s]\n",
      "  0%|          | 0/378 [00:00<?, ?it/s]"
     ]
    },
    {
     "name": "stdout",
     "output_type": "stream",
     "text": [
      "time : 151.60, train_loss : 0.01, train_acc : 99.61,val_acc : 98.58,val_loss : 0.05\n"
     ]
    },
    {
     "name": "stderr",
     "output_type": "stream",
     "text": [
      "100%|██████████| 378/378 [02:23<00:00,  2.63it/s]\n",
      "100%|██████████| 79/79 [00:08<00:00,  9.62it/s]\n",
      "  0%|          | 0/378 [00:00<?, ?it/s]"
     ]
    },
    {
     "name": "stdout",
     "output_type": "stream",
     "text": [
      "time : 151.70, train_loss : 0.01, train_acc : 99.57,val_acc : 98.08,val_loss : 0.07\n"
     ]
    },
    {
     "name": "stderr",
     "output_type": "stream",
     "text": [
      "100%|██████████| 378/378 [02:23<00:00,  2.63it/s]\n",
      "100%|██████████| 79/79 [00:08<00:00,  9.59it/s]\n",
      "  0%|          | 0/378 [00:00<?, ?it/s]"
     ]
    },
    {
     "name": "stdout",
     "output_type": "stream",
     "text": [
      "time : 151.94, train_loss : 0.01, train_acc : 99.64,val_acc : 98.25,val_loss : 0.06\n"
     ]
    },
    {
     "name": "stderr",
     "output_type": "stream",
     "text": [
      "100%|██████████| 378/378 [02:23<00:00,  2.64it/s]\n",
      "100%|██████████| 79/79 [00:08<00:00,  9.66it/s]\n",
      "  0%|          | 0/378 [00:00<?, ?it/s]"
     ]
    },
    {
     "name": "stdout",
     "output_type": "stream",
     "text": [
      "time : 151.53, train_loss : 0.01, train_acc : 99.66,val_acc : 98.18,val_loss : 0.07\n"
     ]
    },
    {
     "name": "stderr",
     "output_type": "stream",
     "text": [
      "100%|██████████| 378/378 [02:23<00:00,  2.64it/s]\n",
      "100%|██████████| 79/79 [00:08<00:00,  9.63it/s]\n",
      "  0%|          | 0/378 [00:00<?, ?it/s]"
     ]
    },
    {
     "name": "stdout",
     "output_type": "stream",
     "text": [
      "time : 151.44, train_loss : 0.01, train_acc : 99.63,val_acc : 98.06,val_loss : 0.07\n"
     ]
    },
    {
     "name": "stderr",
     "output_type": "stream",
     "text": [
      "100%|██████████| 378/378 [02:23<00:00,  2.64it/s]\n",
      "100%|██████████| 79/79 [00:08<00:00,  9.63it/s]\n",
      "  0%|          | 0/378 [00:00<?, ?it/s]"
     ]
    },
    {
     "name": "stdout",
     "output_type": "stream",
     "text": [
      "time : 151.40, train_loss : 0.01, train_acc : 99.63,val_acc : 97.55,val_loss : 0.08\n"
     ]
    },
    {
     "name": "stderr",
     "output_type": "stream",
     "text": [
      "100%|██████████| 378/378 [02:23<00:00,  2.63it/s]\n",
      "100%|██████████| 79/79 [00:08<00:00,  9.62it/s]\n",
      "  0%|          | 0/378 [00:00<?, ?it/s]"
     ]
    },
    {
     "name": "stdout",
     "output_type": "stream",
     "text": [
      "time : 151.73, train_loss : 0.01, train_acc : 99.74,val_acc : 98.47,val_loss : 0.06\n"
     ]
    },
    {
     "name": "stderr",
     "output_type": "stream",
     "text": [
      "100%|██████████| 378/378 [02:23<00:00,  2.64it/s]\n",
      "100%|██████████| 79/79 [00:08<00:00,  9.64it/s]\n",
      "  0%|          | 0/378 [00:00<?, ?it/s]"
     ]
    },
    {
     "name": "stdout",
     "output_type": "stream",
     "text": [
      "time : 151.48, train_loss : 0.01, train_acc : 99.53,val_acc : 98.19,val_loss : 0.07\n"
     ]
    },
    {
     "name": "stderr",
     "output_type": "stream",
     "text": [
      "100%|██████████| 378/378 [02:23<00:00,  2.64it/s]\n",
      "100%|██████████| 79/79 [00:08<00:00,  9.64it/s]\n",
      "  0%|          | 0/378 [00:00<?, ?it/s]"
     ]
    },
    {
     "name": "stdout",
     "output_type": "stream",
     "text": [
      "time : 151.39, train_loss : 0.01, train_acc : 99.66,val_acc : 98.28,val_loss : 0.07\n"
     ]
    },
    {
     "name": "stderr",
     "output_type": "stream",
     "text": [
      "100%|██████████| 378/378 [02:23<00:00,  2.64it/s]\n",
      "100%|██████████| 79/79 [00:08<00:00,  9.57it/s]\n",
      "  0%|          | 0/378 [00:00<?, ?it/s]"
     ]
    },
    {
     "name": "stdout",
     "output_type": "stream",
     "text": [
      "time : 151.56, train_loss : 0.01, train_acc : 99.68,val_acc : 98.38,val_loss : 0.06\n"
     ]
    },
    {
     "name": "stderr",
     "output_type": "stream",
     "text": [
      "100%|██████████| 378/378 [02:23<00:00,  2.64it/s]\n",
      "100%|██████████| 79/79 [00:08<00:00,  9.65it/s]\n",
      "  0%|          | 0/378 [00:00<?, ?it/s]"
     ]
    },
    {
     "name": "stdout",
     "output_type": "stream",
     "text": [
      "time : 151.59, train_loss : 0.01, train_acc : 99.74,val_acc : 98.11,val_loss : 0.07\n"
     ]
    },
    {
     "name": "stderr",
     "output_type": "stream",
     "text": [
      "100%|██████████| 378/378 [02:23<00:00,  2.64it/s]\n",
      "100%|██████████| 79/79 [00:08<00:00,  9.65it/s]\n",
      "  0%|          | 0/378 [00:00<?, ?it/s]"
     ]
    },
    {
     "name": "stdout",
     "output_type": "stream",
     "text": [
      "time : 151.27, train_loss : 0.01, train_acc : 99.58,val_acc : 98.54,val_loss : 0.05\n"
     ]
    },
    {
     "name": "stderr",
     "output_type": "stream",
     "text": [
      "100%|██████████| 378/378 [02:23<00:00,  2.64it/s]\n",
      "100%|██████████| 79/79 [00:08<00:00,  9.60it/s]\n",
      "  0%|          | 0/378 [00:00<?, ?it/s]"
     ]
    },
    {
     "name": "stdout",
     "output_type": "stream",
     "text": [
      "time : 151.42, train_loss : 0.01, train_acc : 99.71,val_acc : 98.12,val_loss : 0.07\n"
     ]
    },
    {
     "name": "stderr",
     "output_type": "stream",
     "text": [
      "100%|██████████| 378/378 [02:23<00:00,  2.64it/s]\n",
      "100%|██████████| 79/79 [00:08<00:00,  9.62it/s]\n",
      "  0%|          | 0/378 [00:00<?, ?it/s]"
     ]
    },
    {
     "name": "stdout",
     "output_type": "stream",
     "text": [
      "time : 151.52, train_loss : 0.01, train_acc : 99.65,val_acc : 98.66,val_loss : 0.05\n"
     ]
    },
    {
     "name": "stderr",
     "output_type": "stream",
     "text": [
      "100%|██████████| 378/378 [02:23<00:00,  2.64it/s]\n",
      "100%|██████████| 79/79 [00:08<00:00,  9.63it/s]\n",
      "  0%|          | 0/378 [00:00<?, ?it/s]"
     ]
    },
    {
     "name": "stdout",
     "output_type": "stream",
     "text": [
      "time : 151.35, train_loss : 0.01, train_acc : 99.75,val_acc : 98.67,val_loss : 0.05\n"
     ]
    },
    {
     "name": "stderr",
     "output_type": "stream",
     "text": [
      "100%|██████████| 378/378 [02:23<00:00,  2.64it/s]\n",
      "100%|██████████| 79/79 [00:08<00:00,  9.62it/s]\n",
      "  0%|          | 0/378 [00:00<?, ?it/s]"
     ]
    },
    {
     "name": "stdout",
     "output_type": "stream",
     "text": [
      "time : 151.25, train_loss : 0.01, train_acc : 99.61,val_acc : 98.48,val_loss : 0.05\n"
     ]
    },
    {
     "name": "stderr",
     "output_type": "stream",
     "text": [
      "100%|██████████| 378/378 [02:23<00:00,  2.64it/s]\n",
      "100%|██████████| 79/79 [00:08<00:00,  9.60it/s]\n",
      "  0%|          | 0/378 [00:00<?, ?it/s]"
     ]
    },
    {
     "name": "stdout",
     "output_type": "stream",
     "text": [
      "time : 151.25, train_loss : 0.01, train_acc : 99.64,val_acc : 98.55,val_loss : 0.06\n"
     ]
    },
    {
     "name": "stderr",
     "output_type": "stream",
     "text": [
      "100%|██████████| 378/378 [02:23<00:00,  2.64it/s]\n",
      "100%|██████████| 79/79 [00:08<00:00,  9.64it/s]\n",
      "  0%|          | 0/378 [00:00<?, ?it/s]"
     ]
    },
    {
     "name": "stdout",
     "output_type": "stream",
     "text": [
      "time : 151.54, train_loss : 0.01, train_acc : 99.78,val_acc : 98.52,val_loss : 0.06\n"
     ]
    },
    {
     "name": "stderr",
     "output_type": "stream",
     "text": [
      "100%|██████████| 378/378 [02:22<00:00,  2.64it/s]\n",
      "100%|██████████| 79/79 [00:08<00:00,  9.68it/s]\n",
      "  0%|          | 0/378 [00:00<?, ?it/s]"
     ]
    },
    {
     "name": "stdout",
     "output_type": "stream",
     "text": [
      "time : 151.11, train_loss : 0.01, train_acc : 99.61,val_acc : 98.67,val_loss : 0.05\n"
     ]
    },
    {
     "name": "stderr",
     "output_type": "stream",
     "text": [
      "100%|██████████| 378/378 [02:23<00:00,  2.64it/s]\n",
      "100%|██████████| 79/79 [00:08<00:00,  9.62it/s]\n",
      "  0%|          | 0/378 [00:00<?, ?it/s]"
     ]
    },
    {
     "name": "stdout",
     "output_type": "stream",
     "text": [
      "time : 151.27, train_loss : 0.01, train_acc : 99.77,val_acc : 98.58,val_loss : 0.06\n"
     ]
    },
    {
     "name": "stderr",
     "output_type": "stream",
     "text": [
      "100%|██████████| 378/378 [02:23<00:00,  2.64it/s]\n",
      "100%|██████████| 79/79 [00:08<00:00,  9.66it/s]\n",
      "  0%|          | 0/378 [00:00<?, ?it/s]"
     ]
    },
    {
     "name": "stdout",
     "output_type": "stream",
     "text": [
      "time : 151.18, train_loss : 0.01, train_acc : 99.72,val_acc : 98.03,val_loss : 0.08\n"
     ]
    },
    {
     "name": "stderr",
     "output_type": "stream",
     "text": [
      "100%|██████████| 378/378 [02:23<00:00,  2.64it/s]\n",
      "100%|██████████| 79/79 [00:08<00:00,  9.66it/s]\n",
      "  0%|          | 0/378 [00:00<?, ?it/s]"
     ]
    },
    {
     "name": "stdout",
     "output_type": "stream",
     "text": [
      "time : 151.37, train_loss : 0.01, train_acc : 99.68,val_acc : 98.73,val_loss : 0.05\n"
     ]
    },
    {
     "name": "stderr",
     "output_type": "stream",
     "text": [
      "100%|██████████| 378/378 [02:23<00:00,  2.64it/s]\n",
      "100%|██████████| 79/79 [00:08<00:00,  9.65it/s]\n",
      "  0%|          | 0/378 [00:00<?, ?it/s]"
     ]
    },
    {
     "name": "stdout",
     "output_type": "stream",
     "text": [
      "time : 151.19, train_loss : 0.01, train_acc : 99.68,val_acc : 97.89,val_loss : 0.08\n"
     ]
    },
    {
     "name": "stderr",
     "output_type": "stream",
     "text": [
      "100%|██████████| 378/378 [02:22<00:00,  2.65it/s]\n",
      "100%|██████████| 79/79 [00:08<00:00,  9.64it/s]\n",
      "  0%|          | 0/378 [00:00<?, ?it/s]"
     ]
    },
    {
     "name": "stdout",
     "output_type": "stream",
     "text": [
      "time : 151.10, train_loss : 0.01, train_acc : 99.66,val_acc : 98.63,val_loss : 0.05\n"
     ]
    },
    {
     "name": "stderr",
     "output_type": "stream",
     "text": [
      "100%|██████████| 378/378 [02:23<00:00,  2.64it/s]\n",
      "100%|██████████| 79/79 [00:08<00:00,  9.65it/s]\n",
      "  0%|          | 0/378 [00:00<?, ?it/s]"
     ]
    },
    {
     "name": "stdout",
     "output_type": "stream",
     "text": [
      "time : 151.26, train_loss : 0.01, train_acc : 99.74,val_acc : 98.15,val_loss : 0.07\n"
     ]
    },
    {
     "name": "stderr",
     "output_type": "stream",
     "text": [
      "100%|██████████| 378/378 [02:23<00:00,  2.64it/s]\n",
      "100%|██████████| 79/79 [00:08<00:00,  9.62it/s]\n",
      "  0%|          | 0/378 [00:00<?, ?it/s]"
     ]
    },
    {
     "name": "stdout",
     "output_type": "stream",
     "text": [
      "time : 151.33, train_loss : 0.01, train_acc : 99.67,val_acc : 98.56,val_loss : 0.05\n"
     ]
    },
    {
     "name": "stderr",
     "output_type": "stream",
     "text": [
      "100%|██████████| 378/378 [02:22<00:00,  2.65it/s]\n",
      "100%|██████████| 79/79 [00:08<00:00,  9.64it/s]\n",
      "  0%|          | 0/378 [00:00<?, ?it/s]"
     ]
    },
    {
     "name": "stdout",
     "output_type": "stream",
     "text": [
      "time : 151.09, train_loss : 0.01, train_acc : 99.72,val_acc : 97.76,val_loss : 0.09\n"
     ]
    },
    {
     "name": "stderr",
     "output_type": "stream",
     "text": [
      "100%|██████████| 378/378 [02:22<00:00,  2.65it/s]\n",
      "100%|██████████| 79/79 [00:08<00:00,  9.66it/s]\n",
      "  0%|          | 0/378 [00:00<?, ?it/s]"
     ]
    },
    {
     "name": "stdout",
     "output_type": "stream",
     "text": [
      "time : 151.09, train_loss : 0.01, train_acc : 99.69,val_acc : 98.62,val_loss : 0.06\n"
     ]
    },
    {
     "name": "stderr",
     "output_type": "stream",
     "text": [
      "100%|██████████| 378/378 [02:22<00:00,  2.64it/s]\n",
      "100%|██████████| 79/79 [00:08<00:00,  9.63it/s]\n",
      "  0%|          | 0/378 [00:00<?, ?it/s]"
     ]
    },
    {
     "name": "stdout",
     "output_type": "stream",
     "text": [
      "time : 151.21, train_loss : 0.01, train_acc : 99.70,val_acc : 98.59,val_loss : 0.05\n"
     ]
    },
    {
     "name": "stderr",
     "output_type": "stream",
     "text": [
      "100%|██████████| 378/378 [02:23<00:00,  2.64it/s]\n",
      "100%|██████████| 79/79 [00:08<00:00,  9.66it/s]\n",
      "  0%|          | 0/378 [00:00<?, ?it/s]"
     ]
    },
    {
     "name": "stdout",
     "output_type": "stream",
     "text": [
      "time : 151.22, train_loss : 0.01, train_acc : 99.73,val_acc : 98.67,val_loss : 0.05\n"
     ]
    },
    {
     "name": "stderr",
     "output_type": "stream",
     "text": [
      "100%|██████████| 378/378 [02:23<00:00,  2.64it/s]\n",
      "100%|██████████| 79/79 [00:08<00:00,  9.68it/s]\n",
      "  0%|          | 0/378 [00:00<?, ?it/s]"
     ]
    },
    {
     "name": "stdout",
     "output_type": "stream",
     "text": [
      "time : 151.18, train_loss : 0.01, train_acc : 99.81,val_acc : 98.69,val_loss : 0.05\n"
     ]
    },
    {
     "name": "stderr",
     "output_type": "stream",
     "text": [
      "100%|██████████| 378/378 [02:22<00:00,  2.64it/s]\n",
      "100%|██████████| 79/79 [00:08<00:00,  9.67it/s]\n",
      "  0%|          | 0/378 [00:00<?, ?it/s]"
     ]
    },
    {
     "name": "stdout",
     "output_type": "stream",
     "text": [
      "time : 151.16, train_loss : 0.01, train_acc : 99.66,val_acc : 98.29,val_loss : 0.06\n"
     ]
    },
    {
     "name": "stderr",
     "output_type": "stream",
     "text": [
      "100%|██████████| 378/378 [02:23<00:00,  2.64it/s]\n",
      "100%|██████████| 79/79 [00:08<00:00,  9.66it/s]\n",
      "  0%|          | 0/378 [00:00<?, ?it/s]"
     ]
    },
    {
     "name": "stdout",
     "output_type": "stream",
     "text": [
      "time : 151.22, train_loss : 0.01, train_acc : 99.75,val_acc : 98.33,val_loss : 0.06\n"
     ]
    },
    {
     "name": "stderr",
     "output_type": "stream",
     "text": [
      "100%|██████████| 378/378 [02:22<00:00,  2.64it/s]\n",
      "100%|██████████| 79/79 [00:08<00:00,  9.68it/s]\n",
      "  0%|          | 0/378 [00:00<?, ?it/s]"
     ]
    },
    {
     "name": "stdout",
     "output_type": "stream",
     "text": [
      "time : 151.16, train_loss : 0.01, train_acc : 99.63,val_acc : 97.91,val_loss : 0.07\n"
     ]
    },
    {
     "name": "stderr",
     "output_type": "stream",
     "text": [
      "100%|██████████| 378/378 [02:23<00:00,  2.64it/s]\n",
      "100%|██████████| 79/79 [00:08<00:00,  9.65it/s]\n",
      "  0%|          | 0/378 [00:00<?, ?it/s]"
     ]
    },
    {
     "name": "stdout",
     "output_type": "stream",
     "text": [
      "time : 151.22, train_loss : 0.01, train_acc : 99.72,val_acc : 98.53,val_loss : 0.05\n"
     ]
    },
    {
     "name": "stderr",
     "output_type": "stream",
     "text": [
      "100%|██████████| 378/378 [02:22<00:00,  2.64it/s]\n",
      "100%|██████████| 79/79 [00:08<00:00,  9.65it/s]\n",
      "  0%|          | 0/378 [00:00<?, ?it/s]"
     ]
    },
    {
     "name": "stdout",
     "output_type": "stream",
     "text": [
      "time : 151.17, train_loss : 0.01, train_acc : 99.77,val_acc : 98.38,val_loss : 0.06\n"
     ]
    },
    {
     "name": "stderr",
     "output_type": "stream",
     "text": [
      "100%|██████████| 378/378 [02:22<00:00,  2.64it/s]\n",
      "100%|██████████| 79/79 [00:08<00:00,  9.66it/s]\n",
      "  0%|          | 0/378 [00:00<?, ?it/s]"
     ]
    },
    {
     "name": "stdout",
     "output_type": "stream",
     "text": [
      "time : 151.18, train_loss : 0.01, train_acc : 99.79,val_acc : 98.42,val_loss : 0.07\n"
     ]
    },
    {
     "name": "stderr",
     "output_type": "stream",
     "text": [
      "100%|██████████| 378/378 [02:22<00:00,  2.65it/s]\n",
      "100%|██████████| 79/79 [00:08<00:00,  9.68it/s]\n",
      "  0%|          | 0/378 [00:00<?, ?it/s]"
     ]
    },
    {
     "name": "stdout",
     "output_type": "stream",
     "text": [
      "time : 151.06, train_loss : 0.01, train_acc : 99.68,val_acc : 98.24,val_loss : 0.07\n"
     ]
    },
    {
     "name": "stderr",
     "output_type": "stream",
     "text": [
      "100%|██████████| 378/378 [02:22<00:00,  2.65it/s]\n",
      "100%|██████████| 79/79 [00:08<00:00,  9.67it/s]\n",
      "  0%|          | 0/378 [00:00<?, ?it/s]"
     ]
    },
    {
     "name": "stdout",
     "output_type": "stream",
     "text": [
      "time : 151.02, train_loss : 0.01, train_acc : 99.71,val_acc : 98.30,val_loss : 0.06\n"
     ]
    },
    {
     "name": "stderr",
     "output_type": "stream",
     "text": [
      "100%|██████████| 378/378 [02:23<00:00,  2.64it/s]\n",
      "100%|██████████| 79/79 [00:08<00:00,  9.66it/s]\n",
      "  0%|          | 0/378 [00:00<?, ?it/s]"
     ]
    },
    {
     "name": "stdout",
     "output_type": "stream",
     "text": [
      "time : 151.22, train_loss : 0.01, train_acc : 99.68,val_acc : 98.65,val_loss : 0.05\n"
     ]
    },
    {
     "name": "stderr",
     "output_type": "stream",
     "text": [
      "100%|██████████| 378/378 [02:22<00:00,  2.64it/s]\n",
      "100%|██████████| 79/79 [00:08<00:00,  9.68it/s]\n",
      "  0%|          | 0/378 [00:00<?, ?it/s]"
     ]
    },
    {
     "name": "stdout",
     "output_type": "stream",
     "text": [
      "time : 151.08, train_loss : 0.01, train_acc : 99.78,val_acc : 98.69,val_loss : 0.05\n"
     ]
    },
    {
     "name": "stderr",
     "output_type": "stream",
     "text": [
      "100%|██████████| 378/378 [02:22<00:00,  2.65it/s]\n",
      "100%|██████████| 79/79 [00:08<00:00,  9.66it/s]\n",
      "  0%|          | 0/378 [00:00<?, ?it/s]"
     ]
    },
    {
     "name": "stdout",
     "output_type": "stream",
     "text": [
      "time : 151.04, train_loss : 0.01, train_acc : 99.75,val_acc : 98.11,val_loss : 0.08\n"
     ]
    },
    {
     "name": "stderr",
     "output_type": "stream",
     "text": [
      "100%|██████████| 378/378 [02:22<00:00,  2.65it/s]\n",
      "100%|██████████| 79/79 [00:08<00:00,  9.67it/s]\n",
      "  0%|          | 0/378 [00:00<?, ?it/s]"
     ]
    },
    {
     "name": "stdout",
     "output_type": "stream",
     "text": [
      "time : 150.96, train_loss : 0.01, train_acc : 99.68,val_acc : 98.36,val_loss : 0.06\n"
     ]
    },
    {
     "name": "stderr",
     "output_type": "stream",
     "text": [
      "100%|██████████| 378/378 [02:22<00:00,  2.65it/s]\n",
      "100%|██████████| 79/79 [00:08<00:00,  9.64it/s]\n",
      "  0%|          | 0/378 [00:00<?, ?it/s]"
     ]
    },
    {
     "name": "stdout",
     "output_type": "stream",
     "text": [
      "time : 150.99, train_loss : 0.01, train_acc : 99.84,val_acc : 98.52,val_loss : 0.06\n"
     ]
    },
    {
     "name": "stderr",
     "output_type": "stream",
     "text": [
      "100%|██████████| 378/378 [02:22<00:00,  2.65it/s]\n",
      "100%|██████████| 79/79 [00:08<00:00,  9.64it/s]\n",
      "  0%|          | 0/378 [00:00<?, ?it/s]"
     ]
    },
    {
     "name": "stdout",
     "output_type": "stream",
     "text": [
      "time : 151.00, train_loss : 0.01, train_acc : 99.67,val_acc : 98.09,val_loss : 0.07\n"
     ]
    },
    {
     "name": "stderr",
     "output_type": "stream",
     "text": [
      "100%|██████████| 378/378 [02:22<00:00,  2.64it/s]\n",
      "100%|██████████| 79/79 [00:08<00:00,  9.66it/s]\n",
      "  0%|          | 0/378 [00:00<?, ?it/s]"
     ]
    },
    {
     "name": "stdout",
     "output_type": "stream",
     "text": [
      "time : 151.16, train_loss : 0.01, train_acc : 99.71,val_acc : 98.42,val_loss : 0.06\n"
     ]
    },
    {
     "name": "stderr",
     "output_type": "stream",
     "text": [
      "100%|██████████| 378/378 [02:22<00:00,  2.65it/s]\n",
      "100%|██████████| 79/79 [00:08<00:00,  9.64it/s]\n",
      "  0%|          | 0/378 [00:00<?, ?it/s]"
     ]
    },
    {
     "name": "stdout",
     "output_type": "stream",
     "text": [
      "time : 151.06, train_loss : 0.00, train_acc : 99.87,val_acc : 98.50,val_loss : 0.06\n"
     ]
    },
    {
     "name": "stderr",
     "output_type": "stream",
     "text": [
      "100%|██████████| 378/378 [02:22<00:00,  2.65it/s]\n",
      "100%|██████████| 79/79 [00:08<00:00,  9.64it/s]\n",
      "  0%|          | 0/378 [00:00<?, ?it/s]"
     ]
    },
    {
     "name": "stdout",
     "output_type": "stream",
     "text": [
      "time : 150.97, train_loss : 0.01, train_acc : 99.67,val_acc : 98.53,val_loss : 0.05\n"
     ]
    },
    {
     "name": "stderr",
     "output_type": "stream",
     "text": [
      "100%|██████████| 378/378 [02:22<00:00,  2.65it/s]\n",
      "100%|██████████| 79/79 [00:08<00:00,  9.66it/s]\n",
      "  0%|          | 0/378 [00:00<?, ?it/s]"
     ]
    },
    {
     "name": "stdout",
     "output_type": "stream",
     "text": [
      "time : 151.00, train_loss : 0.01, train_acc : 99.78,val_acc : 98.74,val_loss : 0.05\n"
     ]
    },
    {
     "name": "stderr",
     "output_type": "stream",
     "text": [
      "100%|██████████| 378/378 [02:22<00:00,  2.65it/s]\n",
      "100%|██████████| 79/79 [00:08<00:00,  9.67it/s]\n",
      "  0%|          | 0/378 [00:00<?, ?it/s]"
     ]
    },
    {
     "name": "stdout",
     "output_type": "stream",
     "text": [
      "time : 150.94, train_loss : 0.01, train_acc : 99.75,val_acc : 98.50,val_loss : 0.06\n"
     ]
    },
    {
     "name": "stderr",
     "output_type": "stream",
     "text": [
      "100%|██████████| 378/378 [02:22<00:00,  2.65it/s]\n",
      "100%|██████████| 79/79 [00:08<00:00,  9.68it/s]\n",
      "  0%|          | 0/378 [00:00<?, ?it/s]"
     ]
    },
    {
     "name": "stdout",
     "output_type": "stream",
     "text": [
      "time : 151.05, train_loss : 0.01, train_acc : 99.69,val_acc : 98.59,val_loss : 0.06\n"
     ]
    },
    {
     "name": "stderr",
     "output_type": "stream",
     "text": [
      "100%|██████████| 378/378 [02:22<00:00,  2.65it/s]\n",
      "100%|██████████| 79/79 [00:08<00:00,  9.69it/s]\n",
      "  0%|          | 0/378 [00:00<?, ?it/s]"
     ]
    },
    {
     "name": "stdout",
     "output_type": "stream",
     "text": [
      "time : 150.94, train_loss : 0.01, train_acc : 99.79,val_acc : 98.64,val_loss : 0.05\n"
     ]
    },
    {
     "name": "stderr",
     "output_type": "stream",
     "text": [
      "100%|██████████| 378/378 [02:22<00:00,  2.65it/s]\n",
      "100%|██████████| 79/79 [00:08<00:00,  9.64it/s]\n",
      "  0%|          | 0/378 [00:00<?, ?it/s]"
     ]
    },
    {
     "name": "stdout",
     "output_type": "stream",
     "text": [
      "time : 150.90, train_loss : 0.01, train_acc : 99.74,val_acc : 98.45,val_loss : 0.06\n"
     ]
    },
    {
     "name": "stderr",
     "output_type": "stream",
     "text": [
      "100%|██████████| 378/378 [02:22<00:00,  2.65it/s]\n",
      "100%|██████████| 79/79 [00:08<00:00,  9.69it/s]\n",
      "  0%|          | 0/378 [00:00<?, ?it/s]"
     ]
    },
    {
     "name": "stdout",
     "output_type": "stream",
     "text": [
      "time : 150.93, train_loss : 0.01, train_acc : 99.67,val_acc : 98.81,val_loss : 0.05\n"
     ]
    },
    {
     "name": "stderr",
     "output_type": "stream",
     "text": [
      "100%|██████████| 378/378 [02:22<00:00,  2.65it/s]\n",
      "100%|██████████| 79/79 [00:08<00:00,  9.65it/s]"
     ]
    },
    {
     "name": "stdout",
     "output_type": "stream",
     "text": [
      "time : 150.91, train_loss : 0.01, train_acc : 99.81,val_acc : 98.84,val_loss : 0.05\n"
     ]
    },
    {
     "name": "stderr",
     "output_type": "stream",
     "text": [
      "\n"
     ]
    }
   ],
   "source": [
    "seed = 123\n",
    "np.random.seed(seed)\n",
    "torch.manual_seed(seed)\n",
    "net = resnet34()\n",
    "net.cuda()\n",
    "criterion=nn.CrossEntropyLoss()\n",
    "optimizer = optim.Adam(net.parameters(), lr=0.0015, weight_decay=0.00001)\n",
    "train_losses=[]\n",
    "val_losses=[]\n",
    "train_accs=[]\n",
    "val_accs=[]\n",
    "for epoch in range(100):\n",
    "    ts=time.time()\n",
    "    net, train_loss,train_acc=train(net, partition, optimizer, criterion)\n",
    "    val_loss, val_acc = validate(net, partition, criterion)\n",
    "    te=time.time()\n",
    "    print('time : {:2.2f}, train_loss : {:2.2f}, train_acc : {:2.2f},val_acc : {:2.2f},val_loss : {:2.2f}'.format(te-ts,train_loss,train_acc,val_acc,val_loss))\n",
    "    train_loss=round(train_loss,2)\n",
    "    val_loss=round(val_loss,2)\n",
    "    train_acc=round(train_acc,2)\n",
    "    val_acc=round(val_acc,2)\n",
    "    train_losses.append(train_loss)\n",
    "    val_losses.append(val_loss)\n",
    "    train_accs.append(train_acc)\n",
    "    val_accs.append(val_acc)"
   ]
  },
  {
   "cell_type": "code",
   "execution_count": 29,
   "id": "encouraging-discrimination",
   "metadata": {},
   "outputs": [
    {
     "name": "stderr",
     "output_type": "stream",
     "text": [
      "100%|██████████| 79/79 [00:07<00:00, 10.09it/s]\n"
     ]
    }
   ],
   "source": [
    "test_acc=test(net)"
   ]
  },
  {
   "cell_type": "code",
   "execution_count": 30,
   "id": "automated-question",
   "metadata": {},
   "outputs": [
    {
     "data": {
      "text/plain": [
       "98.975"
      ]
     },
     "execution_count": 30,
     "metadata": {},
     "output_type": "execute_result"
    }
   ],
   "source": [
    "test_acc"
   ]
  },
  {
   "cell_type": "code",
   "execution_count": 32,
   "id": "thick-period",
   "metadata": {},
   "outputs": [],
   "source": [
    "np.save(\"ResNet_trainloss\",train_losses)\n",
    "np.save(\"ResNet_valloss\",val_losses)\n",
    "np.save(\"ResNet_trainaccs\",train_accs)\n",
    "np.save(\"ResNet_valloss\",val_accs)"
   ]
  },
  {
   "cell_type": "code",
   "execution_count": 33,
   "id": "quick-contractor",
   "metadata": {},
   "outputs": [],
   "source": [
    "vggtri=np.load(\"ResNet_trainloss.npy\")"
   ]
  },
  {
   "cell_type": "code",
   "execution_count": null,
   "id": "brave-keyboard",
   "metadata": {},
   "outputs": [],
   "source": [
    "vggtri"
   ]
  },
  {
   "cell_type": "code",
   "execution_count": null,
   "id": "fitting-hello",
   "metadata": {},
   "outputs": [],
   "source": []
  }
 ],
 "metadata": {
  "kernelspec": {
   "display_name": "Python 3",
   "language": "python",
   "name": "python3"
  },
  "language_info": {
   "codemirror_mode": {
    "name": "ipython",
    "version": 3
   },
   "file_extension": ".py",
   "mimetype": "text/x-python",
   "name": "python",
   "nbconvert_exporter": "python",
   "pygments_lexer": "ipython3",
   "version": "3.6.12"
  }
 },
 "nbformat": 4,
 "nbformat_minor": 5
}
