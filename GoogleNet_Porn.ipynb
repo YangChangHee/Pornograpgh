{
 "cells": [
  {
   "cell_type": "code",
   "execution_count": 1,
   "id": "abroad-deposit",
   "metadata": {},
   "outputs": [],
   "source": [
    "import torch\n",
    "import torch.nn as nn"
   ]
  },
  {
   "cell_type": "code",
   "execution_count": 2,
   "id": "regulation-alarm",
   "metadata": {},
   "outputs": [],
   "source": [
    "class Inception(nn.Module):\n",
    "    \n",
    "    def __init__(self, in_planes, kernel_1_x, \n",
    "                 kernel_3_in, kernel_3_x, kernel_5_in, kernel_5_x, pool_planes):\n",
    "        super(Inception, self).__init__()\n",
    "        \n",
    "        ############### 1x1 conv brance ########################\n",
    "        # nn,Conv2d(in_dim, out_Dim, filter) stride=1 padding=1\n",
    "        self.b1 =nn.Sequential(\n",
    "        nn.Conv2d(in_planes, kernel_1_x, kernel_size=1),\n",
    "        nn.BatchNorm2d(kernel_1_x),\n",
    "        nn.ReLU(True),\n",
    "        )\n",
    "        ############### 1x1 conv => 3x3 conv brance ########################\n",
    "        self.b2 = nn.Sequential(\n",
    "            nn.Conv2d(in_planes,kernel_3_in,kernel_size=1),\n",
    "            nn.BatchNorm2d(kernel_3_in),\n",
    "            nn.ReLU(True),\n",
    "            nn.Conv2d(kernel_3_in,kernel_3_x,kernel_size=3,padding=1),\n",
    "            nn.BatchNorm2d(kernel_3_x),\n",
    "            nn.ReLU(True),\n",
    "        )\n",
    "        ############### 1x1 conv => 3x3 conv => 3x3 conv brance ############\n",
    "        self.b3 = nn.Sequential(\n",
    "            nn.Conv2d(in_planes, kernel_5_in,kernel_size=1),\n",
    "            nn.BatchNorm2d(kernel_5_in),\n",
    "            nn.ReLU(True),\n",
    "            nn.Conv2d(kernel_5_in,kernel_5_x,kernel_size=3,padding=1),\n",
    "            nn.BatchNorm2d(kernel_5_x),\n",
    "            nn.ReLU(True),\n",
    "            nn.Conv2d(kernel_5_x,kernel_5_x,kernel_size=3,padding=1),\n",
    "            nn.BatchNorm2d(kernel_5_x),\n",
    "            nn.ReLU(True),\n",
    "        )\n",
    "        self.b4=nn.Sequential(\n",
    "            nn.MaxPool2d(3, stride=1, padding=1),\n",
    "            nn.Conv2d(in_planes, pool_planes, kernel_size=1),\n",
    "            nn.BatchNorm2d(pool_planes),\n",
    "            nn.ReLU(True),\n",
    "        )\n",
    "    def forward(self,x):\n",
    "        y1=self.b1(x) #2 64 227 227\n",
    "        y2=self.b2(x) #2 128 227 227 => y1+y2= 2 192 227 227\n",
    "        y3=self.b3(x) #2 32 227 227 => y1+y2+y3 = 2 224 227 227\n",
    "        y4=self.b4(x) #2 32 227 227 => 2 256 227 227\n",
    "        return torch.cat([y1,y2,y3,y4],1)"
   ]
  },
  {
   "cell_type": "code",
   "execution_count": 3,
   "id": "casual-floor",
   "metadata": {},
   "outputs": [],
   "source": [
    "def dimension_check():\n",
    "    net=Inception(3,  64,  96, 128, 16, 32, 32)\n",
    "    x= torch.randn(2,3,50,50)\n",
    "    y=net(x)\n",
    "    print(y.size())"
   ]
  },
  {
   "cell_type": "code",
   "execution_count": 4,
   "id": "electoral-concert",
   "metadata": {},
   "outputs": [
    {
     "name": "stdout",
     "output_type": "stream",
     "text": [
      "torch.Size([2, 256, 50, 50])\n"
     ]
    }
   ],
   "source": [
    "dimension_check()"
   ]
  },
  {
   "cell_type": "code",
   "execution_count": 5,
   "id": "wanted-liberal",
   "metadata": {},
   "outputs": [],
   "source": [
    "class GoogleNet(nn.Module):\n",
    "    def __init__(self):\n",
    "        super(GoogleNet,self).__init__()\n",
    "        self.pre_layers= nn.Sequential(\n",
    "            nn.Conv2d(3,192,kernel_size=3,padding=1),\n",
    "            nn.BatchNorm2d(192),\n",
    "            nn.ReLU(True),\n",
    "        )\n",
    "        self.a3= Inception(192, 64, 96, 128, 16, 32, 32) # 64 128 32 32 = 256\n",
    "        self.b3 = Inception(256, 128, 128, 192, 32, 96, 64) # 128 192 96 64 = 480\n",
    "        \n",
    "        self.max_pool = nn.MaxPool2d(3,stride=2,padding=1)\n",
    "        self.a4 = Inception(480, 192,  96, 208, 16,  48,  64)# 192 208 48 64 = 512\n",
    "        self.b4 = Inception(512, 160, 112, 224, 24,  64,  64)\n",
    "        self.c4 = Inception(512, 128, 128, 256, 24,  64,  64)\n",
    "        self.d4 = Inception(512, 112, 144, 288, 32,  64,  64)\n",
    "        self.e4 = Inception(528, 256, 160, 320, 32, 128, 128)\n",
    "        self.a5 = Inception(832, 256, 160, 320, 32, 128, 128)\n",
    "        self.b5 = Inception(832, 384, 192, 384, 48, 128, 128)\n",
    "        \n",
    "        self.avgpool = nn.AvgPool2d(8, stride=1)\n",
    "        self.linear = nn.Linear(36864, 2)\n",
    "        \n",
    "    def forward(self,x):\n",
    "        x= self.pre_layers(x)\n",
    "        x= self.a3(x)       # 2 256 50 50\n",
    "        x= self.b3(x)       # 2 480 50 50\n",
    "        x= self.max_pool(x) # 2 480 25 25\n",
    "        x = self.a4(x)      # 2 512 25 25\n",
    "        x = self.b4(x)      # 2 512 25 25\n",
    "        x = self.c4(x)      # 2 512 25 25\n",
    "        x = self.d4(x)      # 2 528 25 25\n",
    "        x = self.e4(x)      # 2 832 25 25\n",
    "        x = self.max_pool(x)# 2 832 12 12\n",
    "        x = self.a5(x)      # 2 832 12 12\n",
    "        x = self.b5(x)      # 2 1024 12 12\n",
    "        x = self.avgpool(x) # 2 1024 6 6\n",
    "        x = x.view(x.size(0), -1) # 36864\n",
    "        x = self.linear(x)  # 10\n",
    "        return x"
   ]
  },
  {
   "cell_type": "code",
   "execution_count": 6,
   "id": "absent-finder",
   "metadata": {},
   "outputs": [],
   "source": [
    "def dimension_check():\n",
    "    net=GoogleNet()\n",
    "    x= torch.randn(1,3,50,50)\n",
    "    y=net(x)\n",
    "    print(y.size())"
   ]
  },
  {
   "cell_type": "code",
   "execution_count": 7,
   "id": "fixed-lancaster",
   "metadata": {},
   "outputs": [
    {
     "name": "stdout",
     "output_type": "stream",
     "text": [
      "torch.Size([1, 2])\n"
     ]
    }
   ],
   "source": [
    "dimension_check()"
   ]
  },
  {
   "cell_type": "code",
   "execution_count": 8,
   "id": "limiting-template",
   "metadata": {},
   "outputs": [],
   "source": [
    "import matplotlib.pyplot as plt\n",
    "import numpy as np\n",
    "import random\n",
    "import torch\n",
    "import torchvision\n",
    "import torchvision.transforms as transforms\n",
    "import torch.nn as nn\n",
    "import torch.nn.functional as F\n",
    "import torch.optim as optim\n",
    "import argparse\n",
    "import numpy as np\n",
    "import time\n",
    "from copy import deepcopy\n",
    "import seaborn as sns \n",
    "import matplotlib.pyplot as plt"
   ]
  },
  {
   "cell_type": "code",
   "execution_count": 9,
   "id": "sharing-caution",
   "metadata": {},
   "outputs": [],
   "source": [
    "Porn=np.load(\"Porn_data.npy\")\n",
    "Non_Porn=np.load(\"Non_Porn_data.npy\")"
   ]
  },
  {
   "cell_type": "code",
   "execution_count": 10,
   "id": "checked-credits",
   "metadata": {},
   "outputs": [
    {
     "data": {
      "text/plain": [
       "((71302, 50, 50, 3), (65379, 50, 50, 3))"
      ]
     },
     "execution_count": 10,
     "metadata": {},
     "output_type": "execute_result"
    }
   ],
   "source": [
    "Porn.shape, Non_Porn.shape"
   ]
  },
  {
   "cell_type": "code",
   "execution_count": 11,
   "id": "crazy-pregnancy",
   "metadata": {},
   "outputs": [],
   "source": [
    "input_data=[]\n",
    "for i in range(2):\n",
    "    if i == 0:\n",
    "        for j in range(len(Non_Porn)):\n",
    "            input_data.append(Non_Porn[j])\n",
    "    else :\n",
    "        for j in range(len(Porn)):\n",
    "            input_data.append(Porn[j])"
   ]
  },
  {
   "cell_type": "code",
   "execution_count": 12,
   "id": "chubby-telephone",
   "metadata": {},
   "outputs": [],
   "source": [
    "input_data=np.array(input_data)"
   ]
  },
  {
   "cell_type": "code",
   "execution_count": 13,
   "id": "published-effort",
   "metadata": {},
   "outputs": [],
   "source": [
    "label=[]\n",
    "for i in range(len(Non_Porn)+len(Porn)):\n",
    "    if i>len(Non_Porn):\n",
    "        label.append(0)\n",
    "    else:\n",
    "        label.append(1)"
   ]
  },
  {
   "cell_type": "code",
   "execution_count": 14,
   "id": "duplicate-replacement",
   "metadata": {},
   "outputs": [],
   "source": [
    "label=np.array(label)"
   ]
  },
  {
   "cell_type": "code",
   "execution_count": 15,
   "id": "dirty-policy",
   "metadata": {},
   "outputs": [],
   "source": [
    "input_data= (input_data*(1/256)-0.5)/0.5"
   ]
  },
  {
   "cell_type": "code",
   "execution_count": 16,
   "id": "modern-desire",
   "metadata": {},
   "outputs": [],
   "source": [
    "input_data=torch.FloatTensor(input_data)\n",
    "label=torch.LongTensor(label)"
   ]
  },
  {
   "cell_type": "code",
   "execution_count": 17,
   "id": "republican-terminology",
   "metadata": {},
   "outputs": [],
   "source": [
    "input_data=input_data.transpose(1,3)"
   ]
  },
  {
   "cell_type": "code",
   "execution_count": 18,
   "id": "composite-nevada",
   "metadata": {},
   "outputs": [],
   "source": [
    "from torch.utils.data import TensorDataset\n",
    "from torch.utils.data import DataLoader\n",
    "dataset = TensorDataset(input_data,label)"
   ]
  },
  {
   "cell_type": "code",
   "execution_count": 19,
   "id": "located-rebate",
   "metadata": {},
   "outputs": [],
   "source": [
    "trainset,valset=torch.utils.data.random_split(dataset,[116681,20000])\n",
    "trainset,testset=torch.utils.data.random_split(trainset,[96681,20000])\n",
    "\n",
    "partition={'train':trainset,'val':valset,'test':testset}"
   ]
  },
  {
   "cell_type": "code",
   "execution_count": 20,
   "id": "athletic-fruit",
   "metadata": {},
   "outputs": [],
   "source": [
    "def train(net,partition,optimizer,criterion):\n",
    "    trainloader = torch.utils.data.DataLoader(partition['train'],\n",
    "                                             batch_size=64,\n",
    "                                             shuffle=True)\n",
    "    net.train()\n",
    "    correct = 0\n",
    "    total =0\n",
    "    train_loss = 0.0\n",
    "    for i, data in enumerate(tqdm(trainloader, 0)):\n",
    "        time.sleep(0.0000001)\n",
    "        optimizer.zero_grad()\n",
    "        inputs, labels = data\n",
    "        inputs = inputs.cuda()\n",
    "        labels = labels.cuda()\n",
    "        outputs = net(inputs)\n",
    "        #break\n",
    "        loss = criterion(outputs, labels)\n",
    "        loss.backward()\n",
    "        optimizer.step()\n",
    "        \n",
    "        train_loss += loss.item()\n",
    "        _, predicted = torch.max(outputs.data, 1)\n",
    "        total += labels.size(0)\n",
    "        correct += (predicted == labels).sum().item()\n",
    "        #if i % 200 == 0:\n",
    "        #    print(correct,train_loss)\n",
    "    train_loss = train_loss / len(trainloader)\n",
    "    train_acc = 100 * correct / total\n",
    "    return net, train_loss, train_acc"
   ]
  },
  {
   "cell_type": "code",
   "execution_count": 21,
   "id": "alternative-secret",
   "metadata": {},
   "outputs": [],
   "source": [
    "def test(net, partition):\n",
    "    testloader = torch.utils.data.DataLoader(partition['test'], \n",
    "                                             batch_size=64, \n",
    "                                             shuffle=False, num_workers=2)\n",
    "    net.eval()\n",
    "    \n",
    "    correct = 0\n",
    "    total = 0\n",
    "    with torch.no_grad():\n",
    "        for data in tqdm(testloader):\n",
    "            time.sleep(0.0000001)\n",
    "            images, labels = data\n",
    "            images = images.cuda()\n",
    "            labels = labels.cuda()\n",
    "\n",
    "            outputs = net(images)\n",
    "            _, predicted = torch.max(outputs.data, 1)\n",
    "            total += labels.size(0)\n",
    "            correct += (predicted == labels).sum().item()\n",
    "\n",
    "        test_acc = 100 * correct / total\n",
    "    return test_acc"
   ]
  },
  {
   "cell_type": "code",
   "execution_count": 22,
   "id": "strange-beast",
   "metadata": {},
   "outputs": [],
   "source": [
    "def validate(net, partition, criterion):\n",
    "    valloader = torch.utils.data.DataLoader(partition['val'], \n",
    "                                            batch_size=64, \n",
    "                                            shuffle=False, num_workers=2)\n",
    "    net.eval()\n",
    "\n",
    "    correct = 0\n",
    "    total = 0\n",
    "    val_loss = 0 \n",
    "    with torch.no_grad():\n",
    "        for data in tqdm(valloader):\n",
    "            time.sleep(0.0000001)\n",
    "            images, labels = data\n",
    "            images = images.cuda()\n",
    "            labels = labels.cuda()\n",
    "            outputs = net(images)\n",
    "\n",
    "            loss = criterion(outputs, labels)\n",
    "            \n",
    "            val_loss += loss.item()\n",
    "            _, predicted = torch.max(outputs.data, 1)\n",
    "            total += labels.size(0)\n",
    "            correct += (predicted == labels).sum().item()\n",
    "\n",
    "        val_loss = val_loss / len(valloader)\n",
    "        val_acc = 100 * correct / total\n",
    "    return val_loss, val_acc"
   ]
  },
  {
   "cell_type": "code",
   "execution_count": 23,
   "id": "shaped-prison",
   "metadata": {},
   "outputs": [],
   "source": [
    "from tqdm import tqdm, tqdm_notebook\n",
    "from tqdm import trange\n",
    "import time"
   ]
  },
  {
   "cell_type": "code",
   "execution_count": 24,
   "id": "sealed-share",
   "metadata": {},
   "outputs": [
    {
     "name": "stderr",
     "output_type": "stream",
     "text": [
      "100%|██████████| 1511/1511 [06:40<00:00,  3.78it/s]\n",
      "100%|██████████| 313/313 [00:22<00:00, 13.62it/s]\n",
      "  0%|          | 0/1511 [00:00<?, ?it/s]"
     ]
    },
    {
     "name": "stdout",
     "output_type": "stream",
     "text": [
      "time : 423.10, train_loss : 0.43, train_acc : 85.54,val_acc : 88.03,val_loss : 0.28\n"
     ]
    },
    {
     "name": "stderr",
     "output_type": "stream",
     "text": [
      "100%|██████████| 1511/1511 [06:41<00:00,  3.76it/s]\n",
      "100%|██████████| 313/313 [00:22<00:00, 13.63it/s]\n",
      "  0%|          | 0/1511 [00:00<?, ?it/s]"
     ]
    },
    {
     "name": "stdout",
     "output_type": "stream",
     "text": [
      "time : 424.57, train_loss : 0.25, train_acc : 90.47,val_acc : 91.42,val_loss : 0.22\n"
     ]
    },
    {
     "name": "stderr",
     "output_type": "stream",
     "text": [
      "100%|██████████| 1511/1511 [06:41<00:00,  3.77it/s]\n",
      "100%|██████████| 313/313 [00:23<00:00, 13.56it/s]\n",
      "  0%|          | 0/1511 [00:00<?, ?it/s]"
     ]
    },
    {
     "name": "stdout",
     "output_type": "stream",
     "text": [
      "time : 424.34, train_loss : 0.21, train_acc : 92.06,val_acc : 88.39,val_loss : 0.28\n"
     ]
    },
    {
     "name": "stderr",
     "output_type": "stream",
     "text": [
      "100%|██████████| 1511/1511 [06:41<00:00,  3.76it/s]\n",
      "100%|██████████| 313/313 [00:23<00:00, 13.55it/s]\n",
      "  0%|          | 0/1511 [00:00<?, ?it/s]"
     ]
    },
    {
     "name": "stdout",
     "output_type": "stream",
     "text": [
      "time : 424.64, train_loss : 0.18, train_acc : 93.32,val_acc : 93.64,val_loss : 0.17\n"
     ]
    },
    {
     "name": "stderr",
     "output_type": "stream",
     "text": [
      "100%|██████████| 1511/1511 [06:41<00:00,  3.77it/s]\n",
      "100%|██████████| 313/313 [00:23<00:00, 13.59it/s]\n",
      "  0%|          | 0/1511 [00:00<?, ?it/s]"
     ]
    },
    {
     "name": "stdout",
     "output_type": "stream",
     "text": [
      "time : 424.08, train_loss : 0.19, train_acc : 93.34,val_acc : 94.49,val_loss : 0.15\n"
     ]
    },
    {
     "name": "stderr",
     "output_type": "stream",
     "text": [
      "100%|██████████| 1511/1511 [06:40<00:00,  3.77it/s]\n",
      "100%|██████████| 313/313 [00:22<00:00, 13.67it/s]\n",
      "  0%|          | 0/1511 [00:00<?, ?it/s]"
     ]
    },
    {
     "name": "stdout",
     "output_type": "stream",
     "text": [
      "time : 423.78, train_loss : 0.15, train_acc : 94.47,val_acc : 94.83,val_loss : 0.14\n"
     ]
    },
    {
     "name": "stderr",
     "output_type": "stream",
     "text": [
      "100%|██████████| 1511/1511 [06:40<00:00,  3.77it/s]\n",
      "100%|██████████| 313/313 [00:22<00:00, 13.65it/s]\n",
      "  0%|          | 0/1511 [00:00<?, ?it/s]"
     ]
    },
    {
     "name": "stdout",
     "output_type": "stream",
     "text": [
      "time : 423.32, train_loss : 0.15, train_acc : 94.42,val_acc : 94.27,val_loss : 0.16\n"
     ]
    },
    {
     "name": "stderr",
     "output_type": "stream",
     "text": [
      "100%|██████████| 1511/1511 [06:39<00:00,  3.78it/s]\n",
      "100%|██████████| 313/313 [00:22<00:00, 13.68it/s]\n",
      "  0%|          | 0/1511 [00:00<?, ?it/s]"
     ]
    },
    {
     "name": "stdout",
     "output_type": "stream",
     "text": [
      "time : 422.55, train_loss : 0.12, train_acc : 95.76,val_acc : 96.28,val_loss : 0.10\n"
     ]
    },
    {
     "name": "stderr",
     "output_type": "stream",
     "text": [
      "100%|██████████| 1511/1511 [06:39<00:00,  3.78it/s]\n",
      "100%|██████████| 313/313 [00:22<00:00, 13.71it/s]\n",
      "  0%|          | 0/1511 [00:00<?, ?it/s]"
     ]
    },
    {
     "name": "stdout",
     "output_type": "stream",
     "text": [
      "time : 422.06, train_loss : 0.10, train_acc : 96.37,val_acc : 97.26,val_loss : 0.08\n"
     ]
    },
    {
     "name": "stderr",
     "output_type": "stream",
     "text": [
      "100%|██████████| 1511/1511 [06:38<00:00,  3.79it/s]\n",
      "100%|██████████| 313/313 [00:22<00:00, 13.69it/s]\n",
      "  0%|          | 0/1511 [00:00<?, ?it/s]"
     ]
    },
    {
     "name": "stdout",
     "output_type": "stream",
     "text": [
      "time : 421.33, train_loss : 0.11, train_acc : 96.07,val_acc : 97.25,val_loss : 0.08\n"
     ]
    },
    {
     "name": "stderr",
     "output_type": "stream",
     "text": [
      "100%|██████████| 1511/1511 [06:37<00:00,  3.80it/s]\n",
      "100%|██████████| 313/313 [00:22<00:00, 13.70it/s]\n",
      "  0%|          | 0/1511 [00:00<?, ?it/s]"
     ]
    },
    {
     "name": "stdout",
     "output_type": "stream",
     "text": [
      "time : 420.71, train_loss : 0.08, train_acc : 97.02,val_acc : 97.36,val_loss : 0.07\n"
     ]
    },
    {
     "name": "stderr",
     "output_type": "stream",
     "text": [
      "100%|██████████| 1511/1511 [06:37<00:00,  3.80it/s]\n",
      "100%|██████████| 313/313 [00:22<00:00, 13.72it/s]\n",
      "  0%|          | 0/1511 [00:00<?, ?it/s]"
     ]
    },
    {
     "name": "stdout",
     "output_type": "stream",
     "text": [
      "time : 420.14, train_loss : 0.07, train_acc : 97.59,val_acc : 96.84,val_loss : 0.09\n"
     ]
    },
    {
     "name": "stderr",
     "output_type": "stream",
     "text": [
      "100%|██████████| 1511/1511 [06:36<00:00,  3.81it/s]\n",
      "100%|██████████| 313/313 [00:22<00:00, 13.73it/s]\n",
      "  0%|          | 0/1511 [00:00<?, ?it/s]"
     ]
    },
    {
     "name": "stdout",
     "output_type": "stream",
     "text": [
      "time : 419.58, train_loss : 0.06, train_acc : 97.86,val_acc : 97.89,val_loss : 0.06\n"
     ]
    },
    {
     "name": "stderr",
     "output_type": "stream",
     "text": [
      "100%|██████████| 1511/1511 [06:37<00:00,  3.80it/s]\n",
      "100%|██████████| 313/313 [00:22<00:00, 13.69it/s]\n",
      "  0%|          | 0/1511 [00:00<?, ?it/s]"
     ]
    },
    {
     "name": "stdout",
     "output_type": "stream",
     "text": [
      "time : 420.33, train_loss : 0.06, train_acc : 98.03,val_acc : 97.27,val_loss : 0.08\n"
     ]
    },
    {
     "name": "stderr",
     "output_type": "stream",
     "text": [
      "100%|██████████| 1511/1511 [06:37<00:00,  3.80it/s]\n",
      "100%|██████████| 313/313 [00:22<00:00, 13.69it/s]\n",
      "  0%|          | 0/1511 [00:00<?, ?it/s]"
     ]
    },
    {
     "name": "stdout",
     "output_type": "stream",
     "text": [
      "time : 420.52, train_loss : 0.05, train_acc : 98.19,val_acc : 97.22,val_loss : 0.09\n"
     ]
    },
    {
     "name": "stderr",
     "output_type": "stream",
     "text": [
      "100%|██████████| 1511/1511 [06:36<00:00,  3.81it/s]\n",
      "100%|██████████| 313/313 [00:22<00:00, 13.70it/s]\n",
      "  0%|          | 0/1511 [00:00<?, ?it/s]"
     ]
    },
    {
     "name": "stdout",
     "output_type": "stream",
     "text": [
      "time : 419.84, train_loss : 0.05, train_acc : 98.41,val_acc : 98.39,val_loss : 0.05\n"
     ]
    },
    {
     "name": "stderr",
     "output_type": "stream",
     "text": [
      "100%|██████████| 1511/1511 [06:36<00:00,  3.81it/s]\n",
      "100%|██████████| 313/313 [00:22<00:00, 13.70it/s]\n",
      "  0%|          | 0/1511 [00:00<?, ?it/s]"
     ]
    },
    {
     "name": "stdout",
     "output_type": "stream",
     "text": [
      "time : 419.47, train_loss : 0.04, train_acc : 98.51,val_acc : 98.28,val_loss : 0.05\n"
     ]
    },
    {
     "name": "stderr",
     "output_type": "stream",
     "text": [
      "100%|██████████| 1511/1511 [06:36<00:00,  3.81it/s]\n",
      "100%|██████████| 313/313 [00:22<00:00, 13.75it/s]\n",
      "  0%|          | 0/1511 [00:00<?, ?it/s]"
     ]
    },
    {
     "name": "stdout",
     "output_type": "stream",
     "text": [
      "time : 419.04, train_loss : 0.04, train_acc : 98.60,val_acc : 97.57,val_loss : 0.07\n"
     ]
    },
    {
     "name": "stderr",
     "output_type": "stream",
     "text": [
      "100%|██████████| 1511/1511 [06:36<00:00,  3.81it/s]\n",
      "100%|██████████| 313/313 [00:22<00:00, 13.78it/s]\n",
      "  0%|          | 0/1511 [00:00<?, ?it/s]"
     ]
    },
    {
     "name": "stdout",
     "output_type": "stream",
     "text": [
      "time : 419.10, train_loss : 0.04, train_acc : 98.75,val_acc : 98.00,val_loss : 0.06\n"
     ]
    },
    {
     "name": "stderr",
     "output_type": "stream",
     "text": [
      "100%|██████████| 1511/1511 [06:36<00:00,  3.81it/s]\n",
      "100%|██████████| 313/313 [00:22<00:00, 13.78it/s]\n",
      "  0%|          | 0/1511 [00:00<?, ?it/s]"
     ]
    },
    {
     "name": "stdout",
     "output_type": "stream",
     "text": [
      "time : 418.93, train_loss : 0.03, train_acc : 98.77,val_acc : 96.39,val_loss : 0.10\n"
     ]
    },
    {
     "name": "stderr",
     "output_type": "stream",
     "text": [
      "100%|██████████| 1511/1511 [06:36<00:00,  3.81it/s]\n",
      "100%|██████████| 313/313 [00:22<00:00, 13.80it/s]\n",
      "  0%|          | 0/1511 [00:00<?, ?it/s]"
     ]
    },
    {
     "name": "stdout",
     "output_type": "stream",
     "text": [
      "time : 418.82, train_loss : 0.03, train_acc : 98.85,val_acc : 98.64,val_loss : 0.04\n"
     ]
    },
    {
     "name": "stderr",
     "output_type": "stream",
     "text": [
      "100%|██████████| 1511/1511 [06:35<00:00,  3.82it/s]\n",
      "100%|██████████| 313/313 [00:22<00:00, 13.80it/s]\n",
      "  0%|          | 0/1511 [00:00<?, ?it/s]"
     ]
    },
    {
     "name": "stdout",
     "output_type": "stream",
     "text": [
      "time : 418.66, train_loss : 0.03, train_acc : 98.89,val_acc : 97.95,val_loss : 0.06\n"
     ]
    },
    {
     "name": "stderr",
     "output_type": "stream",
     "text": [
      "100%|██████████| 1511/1511 [06:36<00:00,  3.82it/s]\n",
      "100%|██████████| 313/313 [00:22<00:00, 13.79it/s]\n",
      "  0%|          | 0/1511 [00:00<?, ?it/s]"
     ]
    },
    {
     "name": "stdout",
     "output_type": "stream",
     "text": [
      "time : 418.74, train_loss : 0.03, train_acc : 98.97,val_acc : 98.33,val_loss : 0.05\n"
     ]
    },
    {
     "name": "stderr",
     "output_type": "stream",
     "text": [
      "100%|██████████| 1511/1511 [06:35<00:00,  3.82it/s]\n",
      "100%|██████████| 313/313 [00:22<00:00, 13.75it/s]\n",
      "  0%|          | 0/1511 [00:00<?, ?it/s]"
     ]
    },
    {
     "name": "stdout",
     "output_type": "stream",
     "text": [
      "time : 418.58, train_loss : 0.03, train_acc : 99.05,val_acc : 98.63,val_loss : 0.04\n"
     ]
    },
    {
     "name": "stderr",
     "output_type": "stream",
     "text": [
      "100%|██████████| 1511/1511 [06:35<00:00,  3.82it/s]\n",
      "100%|██████████| 313/313 [00:22<00:00, 13.76it/s]\n",
      "  0%|          | 0/1511 [00:00<?, ?it/s]"
     ]
    },
    {
     "name": "stdout",
     "output_type": "stream",
     "text": [
      "time : 418.24, train_loss : 0.03, train_acc : 99.08,val_acc : 98.14,val_loss : 0.06\n"
     ]
    },
    {
     "name": "stderr",
     "output_type": "stream",
     "text": [
      "100%|██████████| 1511/1511 [06:35<00:00,  3.82it/s]\n",
      "100%|██████████| 313/313 [00:22<00:00, 13.81it/s]\n",
      "  0%|          | 0/1511 [00:00<?, ?it/s]"
     ]
    },
    {
     "name": "stdout",
     "output_type": "stream",
     "text": [
      "time : 418.09, train_loss : 0.03, train_acc : 99.09,val_acc : 97.39,val_loss : 0.08\n"
     ]
    },
    {
     "name": "stderr",
     "output_type": "stream",
     "text": [
      "100%|██████████| 1511/1511 [06:35<00:00,  3.83it/s]\n",
      "100%|██████████| 313/313 [00:22<00:00, 13.81it/s]\n",
      "  0%|          | 0/1511 [00:00<?, ?it/s]"
     ]
    },
    {
     "name": "stdout",
     "output_type": "stream",
     "text": [
      "time : 417.68, train_loss : 0.03, train_acc : 99.07,val_acc : 98.35,val_loss : 0.05\n"
     ]
    },
    {
     "name": "stderr",
     "output_type": "stream",
     "text": [
      "100%|██████████| 1511/1511 [06:35<00:00,  3.82it/s]\n",
      "100%|██████████| 313/313 [00:22<00:00, 13.80it/s]\n",
      "  0%|          | 0/1511 [00:00<?, ?it/s]"
     ]
    },
    {
     "name": "stdout",
     "output_type": "stream",
     "text": [
      "time : 417.89, train_loss : 0.02, train_acc : 99.18,val_acc : 98.82,val_loss : 0.04\n"
     ]
    },
    {
     "name": "stderr",
     "output_type": "stream",
     "text": [
      "100%|██████████| 1511/1511 [06:35<00:00,  3.82it/s]\n",
      "100%|██████████| 313/313 [00:22<00:00, 13.81it/s]\n",
      "  0%|          | 0/1511 [00:00<?, ?it/s]"
     ]
    },
    {
     "name": "stdout",
     "output_type": "stream",
     "text": [
      "time : 417.91, train_loss : 0.02, train_acc : 99.19,val_acc : 98.60,val_loss : 0.04\n"
     ]
    },
    {
     "name": "stderr",
     "output_type": "stream",
     "text": [
      "100%|██████████| 1511/1511 [06:35<00:00,  3.83it/s]\n",
      "100%|██████████| 313/313 [00:22<00:00, 13.82it/s]\n",
      "  0%|          | 0/1511 [00:00<?, ?it/s]"
     ]
    },
    {
     "name": "stdout",
     "output_type": "stream",
     "text": [
      "time : 417.67, train_loss : 0.02, train_acc : 99.17,val_acc : 98.92,val_loss : 0.03\n"
     ]
    },
    {
     "name": "stderr",
     "output_type": "stream",
     "text": [
      "100%|██████████| 1511/1511 [06:34<00:00,  3.83it/s]\n",
      "100%|██████████| 313/313 [00:22<00:00, 13.79it/s]\n",
      "  0%|          | 0/1511 [00:00<?, ?it/s]"
     ]
    },
    {
     "name": "stdout",
     "output_type": "stream",
     "text": [
      "time : 417.39, train_loss : 0.02, train_acc : 99.25,val_acc : 98.72,val_loss : 0.04\n"
     ]
    },
    {
     "name": "stderr",
     "output_type": "stream",
     "text": [
      "100%|██████████| 1511/1511 [06:34<00:00,  3.83it/s]\n",
      "100%|██████████| 313/313 [00:22<00:00, 13.84it/s]\n",
      "  0%|          | 0/1511 [00:00<?, ?it/s]"
     ]
    },
    {
     "name": "stdout",
     "output_type": "stream",
     "text": [
      "time : 417.36, train_loss : 0.02, train_acc : 99.27,val_acc : 98.85,val_loss : 0.04\n"
     ]
    },
    {
     "name": "stderr",
     "output_type": "stream",
     "text": [
      "100%|██████████| 1511/1511 [06:35<00:00,  3.82it/s]\n",
      "100%|██████████| 313/313 [00:22<00:00, 13.80it/s]\n",
      "  0%|          | 0/1511 [00:00<?, ?it/s]"
     ]
    },
    {
     "name": "stdout",
     "output_type": "stream",
     "text": [
      "time : 417.73, train_loss : 0.02, train_acc : 99.22,val_acc : 98.88,val_loss : 0.04\n"
     ]
    },
    {
     "name": "stderr",
     "output_type": "stream",
     "text": [
      "100%|██████████| 1511/1511 [06:34<00:00,  3.83it/s]\n",
      "100%|██████████| 313/313 [00:22<00:00, 13.83it/s]\n",
      "  0%|          | 0/1511 [00:00<?, ?it/s]"
     ]
    },
    {
     "name": "stdout",
     "output_type": "stream",
     "text": [
      "time : 417.38, train_loss : 0.02, train_acc : 99.28,val_acc : 98.75,val_loss : 0.04\n"
     ]
    },
    {
     "name": "stderr",
     "output_type": "stream",
     "text": [
      "100%|██████████| 1511/1511 [06:34<00:00,  3.83it/s]\n",
      "100%|██████████| 313/313 [00:22<00:00, 13.82it/s]\n",
      "  0%|          | 0/1511 [00:00<?, ?it/s]"
     ]
    },
    {
     "name": "stdout",
     "output_type": "stream",
     "text": [
      "time : 417.38, train_loss : 0.02, train_acc : 99.26,val_acc : 98.94,val_loss : 0.03\n"
     ]
    },
    {
     "name": "stderr",
     "output_type": "stream",
     "text": [
      "100%|██████████| 1511/1511 [06:34<00:00,  3.83it/s]\n",
      "100%|██████████| 313/313 [00:22<00:00, 13.80it/s]\n",
      "  0%|          | 0/1511 [00:00<?, ?it/s]"
     ]
    },
    {
     "name": "stdout",
     "output_type": "stream",
     "text": [
      "time : 417.32, train_loss : 0.02, train_acc : 99.33,val_acc : 98.59,val_loss : 0.05\n"
     ]
    },
    {
     "name": "stderr",
     "output_type": "stream",
     "text": [
      "100%|██████████| 1511/1511 [06:34<00:00,  3.83it/s]\n",
      "100%|██████████| 313/313 [00:22<00:00, 13.82it/s]\n",
      "  0%|          | 0/1511 [00:00<?, ?it/s]"
     ]
    },
    {
     "name": "stdout",
     "output_type": "stream",
     "text": [
      "time : 417.03, train_loss : 0.02, train_acc : 99.32,val_acc : 98.75,val_loss : 0.04\n"
     ]
    },
    {
     "name": "stderr",
     "output_type": "stream",
     "text": [
      "100%|██████████| 1511/1511 [06:34<00:00,  3.83it/s]\n",
      "100%|██████████| 313/313 [00:22<00:00, 13.83it/s]\n",
      "  0%|          | 0/1511 [00:00<?, ?it/s]"
     ]
    },
    {
     "name": "stdout",
     "output_type": "stream",
     "text": [
      "time : 417.09, train_loss : 0.02, train_acc : 99.32,val_acc : 97.95,val_loss : 0.07\n"
     ]
    },
    {
     "name": "stderr",
     "output_type": "stream",
     "text": [
      "100%|██████████| 1511/1511 [06:34<00:00,  3.83it/s]\n",
      "100%|██████████| 313/313 [00:22<00:00, 13.83it/s]\n",
      "  0%|          | 0/1511 [00:00<?, ?it/s]"
     ]
    },
    {
     "name": "stdout",
     "output_type": "stream",
     "text": [
      "time : 417.22, train_loss : 0.02, train_acc : 99.35,val_acc : 98.98,val_loss : 0.03\n"
     ]
    },
    {
     "name": "stderr",
     "output_type": "stream",
     "text": [
      "100%|██████████| 1511/1511 [06:34<00:00,  3.83it/s]\n",
      "100%|██████████| 313/313 [00:22<00:00, 13.81it/s]\n",
      "  0%|          | 0/1511 [00:00<?, ?it/s]"
     ]
    },
    {
     "name": "stdout",
     "output_type": "stream",
     "text": [
      "time : 417.10, train_loss : 0.02, train_acc : 99.36,val_acc : 98.50,val_loss : 0.05\n"
     ]
    },
    {
     "name": "stderr",
     "output_type": "stream",
     "text": [
      "100%|██████████| 1511/1511 [06:34<00:00,  3.83it/s]\n",
      "100%|██████████| 313/313 [00:22<00:00, 13.81it/s]\n",
      "  0%|          | 0/1511 [00:00<?, ?it/s]"
     ]
    },
    {
     "name": "stdout",
     "output_type": "stream",
     "text": [
      "time : 417.07, train_loss : 0.02, train_acc : 99.35,val_acc : 98.97,val_loss : 0.03\n"
     ]
    },
    {
     "name": "stderr",
     "output_type": "stream",
     "text": [
      "100%|██████████| 1511/1511 [06:34<00:00,  3.83it/s]\n",
      "100%|██████████| 313/313 [00:22<00:00, 13.81it/s]\n",
      "  0%|          | 0/1511 [00:00<?, ?it/s]"
     ]
    },
    {
     "name": "stdout",
     "output_type": "stream",
     "text": [
      "time : 417.15, train_loss : 0.02, train_acc : 99.43,val_acc : 95.04,val_loss : 0.15\n"
     ]
    },
    {
     "name": "stderr",
     "output_type": "stream",
     "text": [
      "100%|██████████| 1511/1511 [06:34<00:00,  3.83it/s]\n",
      "100%|██████████| 313/313 [00:22<00:00, 13.83it/s]\n",
      "  0%|          | 0/1511 [00:00<?, ?it/s]"
     ]
    },
    {
     "name": "stdout",
     "output_type": "stream",
     "text": [
      "time : 417.00, train_loss : 0.02, train_acc : 99.40,val_acc : 95.95,val_loss : 0.14\n"
     ]
    },
    {
     "name": "stderr",
     "output_type": "stream",
     "text": [
      "100%|██████████| 1511/1511 [06:34<00:00,  3.83it/s]\n",
      "100%|██████████| 313/313 [00:22<00:00, 13.82it/s]\n",
      "  0%|          | 0/1511 [00:00<?, ?it/s]"
     ]
    },
    {
     "name": "stdout",
     "output_type": "stream",
     "text": [
      "time : 417.14, train_loss : 0.02, train_acc : 99.40,val_acc : 98.92,val_loss : 0.04\n"
     ]
    },
    {
     "name": "stderr",
     "output_type": "stream",
     "text": [
      "100%|██████████| 1511/1511 [06:34<00:00,  3.83it/s]\n",
      "100%|██████████| 313/313 [00:22<00:00, 13.81it/s]\n",
      "  0%|          | 0/1511 [00:00<?, ?it/s]"
     ]
    },
    {
     "name": "stdout",
     "output_type": "stream",
     "text": [
      "time : 416.79, train_loss : 0.02, train_acc : 99.46,val_acc : 99.03,val_loss : 0.03\n"
     ]
    },
    {
     "name": "stderr",
     "output_type": "stream",
     "text": [
      "100%|██████████| 1511/1511 [06:34<00:00,  3.83it/s]\n",
      "100%|██████████| 313/313 [00:22<00:00, 13.83it/s]\n",
      "  0%|          | 0/1511 [00:00<?, ?it/s]"
     ]
    },
    {
     "name": "stdout",
     "output_type": "stream",
     "text": [
      "time : 416.82, train_loss : 0.02, train_acc : 99.43,val_acc : 98.86,val_loss : 0.04\n"
     ]
    },
    {
     "name": "stderr",
     "output_type": "stream",
     "text": [
      "100%|██████████| 1511/1511 [06:34<00:00,  3.83it/s]\n",
      "100%|██████████| 313/313 [00:22<00:00, 13.83it/s]\n",
      "  0%|          | 0/1511 [00:00<?, ?it/s]"
     ]
    },
    {
     "name": "stdout",
     "output_type": "stream",
     "text": [
      "time : 416.69, train_loss : 0.02, train_acc : 99.44,val_acc : 98.78,val_loss : 0.04\n"
     ]
    },
    {
     "name": "stderr",
     "output_type": "stream",
     "text": [
      "100%|██████████| 1511/1511 [06:34<00:00,  3.83it/s]\n",
      "100%|██████████| 313/313 [00:22<00:00, 13.83it/s]\n",
      "  0%|          | 0/1511 [00:00<?, ?it/s]"
     ]
    },
    {
     "name": "stdout",
     "output_type": "stream",
     "text": [
      "time : 416.87, train_loss : 0.02, train_acc : 99.46,val_acc : 98.96,val_loss : 0.03\n"
     ]
    },
    {
     "name": "stderr",
     "output_type": "stream",
     "text": [
      "100%|██████████| 1511/1511 [06:34<00:00,  3.83it/s]\n",
      "100%|██████████| 313/313 [00:22<00:00, 13.84it/s]\n",
      "  0%|          | 0/1511 [00:00<?, ?it/s]"
     ]
    },
    {
     "name": "stdout",
     "output_type": "stream",
     "text": [
      "time : 416.70, train_loss : 0.02, train_acc : 99.49,val_acc : 98.42,val_loss : 0.05\n"
     ]
    },
    {
     "name": "stderr",
     "output_type": "stream",
     "text": [
      "100%|██████████| 1511/1511 [06:33<00:00,  3.84it/s]\n",
      "100%|██████████| 313/313 [00:22<00:00, 13.83it/s]\n",
      "  0%|          | 0/1511 [00:00<?, ?it/s]"
     ]
    },
    {
     "name": "stdout",
     "output_type": "stream",
     "text": [
      "time : 416.63, train_loss : 0.02, train_acc : 99.47,val_acc : 99.14,val_loss : 0.03\n"
     ]
    },
    {
     "name": "stderr",
     "output_type": "stream",
     "text": [
      "100%|██████████| 1511/1511 [06:34<00:00,  3.83it/s]\n",
      "100%|██████████| 313/313 [00:22<00:00, 13.86it/s]\n",
      "  0%|          | 0/1511 [00:00<?, ?it/s]"
     ]
    },
    {
     "name": "stdout",
     "output_type": "stream",
     "text": [
      "time : 416.63, train_loss : 0.02, train_acc : 99.44,val_acc : 97.97,val_loss : 0.07\n"
     ]
    },
    {
     "name": "stderr",
     "output_type": "stream",
     "text": [
      "100%|██████████| 1511/1511 [06:33<00:00,  3.84it/s]\n",
      "100%|██████████| 313/313 [00:22<00:00, 13.84it/s]\n",
      "  0%|          | 0/1511 [00:00<?, ?it/s]"
     ]
    },
    {
     "name": "stdout",
     "output_type": "stream",
     "text": [
      "time : 416.33, train_loss : 0.01, train_acc : 99.47,val_acc : 99.06,val_loss : 0.03\n"
     ]
    },
    {
     "name": "stderr",
     "output_type": "stream",
     "text": [
      "100%|██████████| 1511/1511 [06:33<00:00,  3.84it/s]\n",
      "100%|██████████| 313/313 [00:22<00:00, 13.83it/s]\n",
      "  0%|          | 0/1511 [00:00<?, ?it/s]"
     ]
    },
    {
     "name": "stdout",
     "output_type": "stream",
     "text": [
      "time : 416.26, train_loss : 0.02, train_acc : 99.45,val_acc : 98.31,val_loss : 0.05\n"
     ]
    },
    {
     "name": "stderr",
     "output_type": "stream",
     "text": [
      "100%|██████████| 1511/1511 [06:34<00:00,  3.83it/s]\n",
      "100%|██████████| 313/313 [00:22<00:00, 13.84it/s]\n",
      "  0%|          | 0/1511 [00:00<?, ?it/s]"
     ]
    },
    {
     "name": "stdout",
     "output_type": "stream",
     "text": [
      "time : 416.62, train_loss : 0.01, train_acc : 99.51,val_acc : 99.16,val_loss : 0.03\n"
     ]
    },
    {
     "name": "stderr",
     "output_type": "stream",
     "text": [
      "100%|██████████| 1511/1511 [06:34<00:00,  3.83it/s]\n",
      "100%|██████████| 313/313 [00:22<00:00, 13.82it/s]\n",
      "  0%|          | 0/1511 [00:00<?, ?it/s]"
     ]
    },
    {
     "name": "stdout",
     "output_type": "stream",
     "text": [
      "time : 416.66, train_loss : 0.01, train_acc : 99.54,val_acc : 99.11,val_loss : 0.03\n"
     ]
    },
    {
     "name": "stderr",
     "output_type": "stream",
     "text": [
      "100%|██████████| 1511/1511 [06:33<00:00,  3.84it/s]\n",
      "100%|██████████| 313/313 [00:22<00:00, 13.83it/s]\n",
      "  0%|          | 0/1511 [00:00<?, ?it/s]"
     ]
    },
    {
     "name": "stdout",
     "output_type": "stream",
     "text": [
      "time : 416.56, train_loss : 0.02, train_acc : 99.49,val_acc : 99.08,val_loss : 0.03\n"
     ]
    },
    {
     "name": "stderr",
     "output_type": "stream",
     "text": [
      "100%|██████████| 1511/1511 [06:33<00:00,  3.84it/s]\n",
      "100%|██████████| 313/313 [00:22<00:00, 13.86it/s]\n",
      "  0%|          | 0/1511 [00:00<?, ?it/s]"
     ]
    },
    {
     "name": "stdout",
     "output_type": "stream",
     "text": [
      "time : 416.42, train_loss : 0.01, train_acc : 99.49,val_acc : 98.86,val_loss : 0.04\n"
     ]
    },
    {
     "name": "stderr",
     "output_type": "stream",
     "text": [
      "100%|██████████| 1511/1511 [06:33<00:00,  3.84it/s]\n",
      "100%|██████████| 313/313 [00:22<00:00, 13.81it/s]\n",
      "  0%|          | 0/1511 [00:00<?, ?it/s]"
     ]
    },
    {
     "name": "stdout",
     "output_type": "stream",
     "text": [
      "time : 416.65, train_loss : 0.01, train_acc : 99.52,val_acc : 98.86,val_loss : 0.04\n"
     ]
    },
    {
     "name": "stderr",
     "output_type": "stream",
     "text": [
      "100%|██████████| 1511/1511 [06:33<00:00,  3.84it/s]\n",
      "100%|██████████| 313/313 [00:22<00:00, 13.84it/s]\n",
      "  0%|          | 0/1511 [00:00<?, ?it/s]"
     ]
    },
    {
     "name": "stdout",
     "output_type": "stream",
     "text": [
      "time : 416.44, train_loss : 0.01, train_acc : 99.51,val_acc : 95.30,val_loss : 0.19\n"
     ]
    },
    {
     "name": "stderr",
     "output_type": "stream",
     "text": [
      "100%|██████████| 1511/1511 [06:33<00:00,  3.84it/s]\n",
      "100%|██████████| 313/313 [00:22<00:00, 13.82it/s]\n",
      "  0%|          | 0/1511 [00:00<?, ?it/s]"
     ]
    },
    {
     "name": "stdout",
     "output_type": "stream",
     "text": [
      "time : 416.59, train_loss : 0.01, train_acc : 99.52,val_acc : 98.92,val_loss : 0.04\n"
     ]
    },
    {
     "name": "stderr",
     "output_type": "stream",
     "text": [
      "100%|██████████| 1511/1511 [06:33<00:00,  3.84it/s]\n",
      "100%|██████████| 313/313 [00:22<00:00, 13.85it/s]\n",
      "  0%|          | 0/1511 [00:00<?, ?it/s]"
     ]
    },
    {
     "name": "stdout",
     "output_type": "stream",
     "text": [
      "time : 416.22, train_loss : 0.01, train_acc : 99.52,val_acc : 98.92,val_loss : 0.04\n"
     ]
    },
    {
     "name": "stderr",
     "output_type": "stream",
     "text": [
      "100%|██████████| 1511/1511 [06:33<00:00,  3.84it/s]\n",
      "100%|██████████| 313/313 [00:22<00:00, 13.84it/s]\n",
      "  0%|          | 0/1511 [00:00<?, ?it/s]"
     ]
    },
    {
     "name": "stdout",
     "output_type": "stream",
     "text": [
      "time : 416.28, train_loss : 0.01, train_acc : 99.55,val_acc : 98.89,val_loss : 0.04\n"
     ]
    },
    {
     "name": "stderr",
     "output_type": "stream",
     "text": [
      "100%|██████████| 1511/1511 [06:33<00:00,  3.84it/s]\n",
      "100%|██████████| 313/313 [00:22<00:00, 13.83it/s]\n",
      "  0%|          | 0/1511 [00:00<?, ?it/s]"
     ]
    },
    {
     "name": "stdout",
     "output_type": "stream",
     "text": [
      "time : 416.06, train_loss : 0.01, train_acc : 99.52,val_acc : 98.97,val_loss : 0.04\n"
     ]
    },
    {
     "name": "stderr",
     "output_type": "stream",
     "text": [
      "100%|██████████| 1511/1511 [06:33<00:00,  3.84it/s]\n",
      "100%|██████████| 313/313 [00:22<00:00, 13.87it/s]\n",
      "  0%|          | 0/1511 [00:00<?, ?it/s]"
     ]
    },
    {
     "name": "stdout",
     "output_type": "stream",
     "text": [
      "time : 416.15, train_loss : 0.01, train_acc : 99.49,val_acc : 99.08,val_loss : 0.03\n"
     ]
    },
    {
     "name": "stderr",
     "output_type": "stream",
     "text": [
      "100%|██████████| 1511/1511 [06:33<00:00,  3.84it/s]\n",
      "100%|██████████| 313/313 [00:22<00:00, 13.84it/s]\n",
      "  0%|          | 0/1511 [00:00<?, ?it/s]"
     ]
    },
    {
     "name": "stdout",
     "output_type": "stream",
     "text": [
      "time : 416.03, train_loss : 0.01, train_acc : 99.56,val_acc : 98.33,val_loss : 0.06\n"
     ]
    },
    {
     "name": "stderr",
     "output_type": "stream",
     "text": [
      "100%|██████████| 1511/1511 [06:33<00:00,  3.84it/s]\n",
      "100%|██████████| 313/313 [00:22<00:00, 13.87it/s]\n",
      "  0%|          | 0/1511 [00:00<?, ?it/s]"
     ]
    },
    {
     "name": "stdout",
     "output_type": "stream",
     "text": [
      "time : 416.38, train_loss : 0.01, train_acc : 99.56,val_acc : 96.86,val_loss : 0.12\n"
     ]
    },
    {
     "name": "stderr",
     "output_type": "stream",
     "text": [
      "100%|██████████| 1511/1511 [06:33<00:00,  3.84it/s]\n",
      "100%|██████████| 313/313 [00:22<00:00, 13.85it/s]\n",
      "  0%|          | 0/1511 [00:00<?, ?it/s]"
     ]
    },
    {
     "name": "stdout",
     "output_type": "stream",
     "text": [
      "time : 416.23, train_loss : 0.01, train_acc : 99.53,val_acc : 98.59,val_loss : 0.05\n"
     ]
    },
    {
     "name": "stderr",
     "output_type": "stream",
     "text": [
      "100%|██████████| 1511/1511 [06:33<00:00,  3.84it/s]\n",
      "100%|██████████| 313/313 [00:22<00:00, 13.84it/s]\n",
      "  0%|          | 0/1511 [00:00<?, ?it/s]"
     ]
    },
    {
     "name": "stdout",
     "output_type": "stream",
     "text": [
      "time : 415.86, train_loss : 0.01, train_acc : 99.55,val_acc : 98.29,val_loss : 0.05\n"
     ]
    },
    {
     "name": "stderr",
     "output_type": "stream",
     "text": [
      "100%|██████████| 1511/1511 [06:33<00:00,  3.84it/s]\n",
      "100%|██████████| 313/313 [00:22<00:00, 13.85it/s]\n",
      "  0%|          | 0/1511 [00:00<?, ?it/s]"
     ]
    },
    {
     "name": "stdout",
     "output_type": "stream",
     "text": [
      "time : 416.19, train_loss : 0.01, train_acc : 99.52,val_acc : 99.31,val_loss : 0.03\n"
     ]
    },
    {
     "name": "stderr",
     "output_type": "stream",
     "text": [
      "100%|██████████| 1511/1511 [06:33<00:00,  3.84it/s]\n",
      "100%|██████████| 313/313 [00:22<00:00, 13.81it/s]\n",
      "  0%|          | 0/1511 [00:00<?, ?it/s]"
     ]
    },
    {
     "name": "stdout",
     "output_type": "stream",
     "text": [
      "time : 416.07, train_loss : 0.01, train_acc : 99.53,val_acc : 99.00,val_loss : 0.04\n"
     ]
    },
    {
     "name": "stderr",
     "output_type": "stream",
     "text": [
      "100%|██████████| 1511/1511 [06:33<00:00,  3.84it/s]\n",
      "100%|██████████| 313/313 [00:22<00:00, 13.83it/s]\n",
      "  0%|          | 0/1511 [00:00<?, ?it/s]"
     ]
    },
    {
     "name": "stdout",
     "output_type": "stream",
     "text": [
      "time : 416.00, train_loss : 0.01, train_acc : 99.59,val_acc : 98.86,val_loss : 0.04\n"
     ]
    },
    {
     "name": "stderr",
     "output_type": "stream",
     "text": [
      "100%|██████████| 1511/1511 [06:33<00:00,  3.84it/s]\n",
      "100%|██████████| 313/313 [00:22<00:00, 13.84it/s]\n",
      "  0%|          | 0/1511 [00:00<?, ?it/s]"
     ]
    },
    {
     "name": "stdout",
     "output_type": "stream",
     "text": [
      "time : 415.99, train_loss : 0.01, train_acc : 99.53,val_acc : 98.98,val_loss : 0.04\n"
     ]
    },
    {
     "name": "stderr",
     "output_type": "stream",
     "text": [
      "100%|██████████| 1511/1511 [06:33<00:00,  3.84it/s]\n",
      "100%|██████████| 313/313 [00:22<00:00, 13.84it/s]\n",
      "  0%|          | 0/1511 [00:00<?, ?it/s]"
     ]
    },
    {
     "name": "stdout",
     "output_type": "stream",
     "text": [
      "time : 415.86, train_loss : 0.01, train_acc : 99.57,val_acc : 99.11,val_loss : 0.03\n"
     ]
    },
    {
     "name": "stderr",
     "output_type": "stream",
     "text": [
      "100%|██████████| 1511/1511 [06:33<00:00,  3.84it/s]\n",
      "100%|██████████| 313/313 [00:22<00:00, 13.84it/s]\n",
      "  0%|          | 0/1511 [00:00<?, ?it/s]"
     ]
    },
    {
     "name": "stdout",
     "output_type": "stream",
     "text": [
      "time : 415.92, train_loss : 0.01, train_acc : 99.60,val_acc : 98.19,val_loss : 0.06\n"
     ]
    },
    {
     "name": "stderr",
     "output_type": "stream",
     "text": [
      "100%|██████████| 1511/1511 [06:33<00:00,  3.84it/s]\n",
      "100%|██████████| 313/313 [00:22<00:00, 13.85it/s]\n",
      "  0%|          | 0/1511 [00:00<?, ?it/s]"
     ]
    },
    {
     "name": "stdout",
     "output_type": "stream",
     "text": [
      "time : 415.97, train_loss : 0.01, train_acc : 99.54,val_acc : 99.05,val_loss : 0.03\n"
     ]
    },
    {
     "name": "stderr",
     "output_type": "stream",
     "text": [
      "100%|██████████| 1511/1511 [06:33<00:00,  3.84it/s]\n",
      "100%|██████████| 313/313 [00:22<00:00, 13.83it/s]\n",
      "  0%|          | 0/1511 [00:00<?, ?it/s]"
     ]
    },
    {
     "name": "stdout",
     "output_type": "stream",
     "text": [
      "time : 416.11, train_loss : 0.01, train_acc : 99.58,val_acc : 99.08,val_loss : 0.03\n"
     ]
    },
    {
     "name": "stderr",
     "output_type": "stream",
     "text": [
      "100%|██████████| 1511/1511 [06:33<00:00,  3.84it/s]\n",
      "100%|██████████| 313/313 [00:22<00:00, 13.84it/s]\n",
      "  0%|          | 0/1511 [00:00<?, ?it/s]"
     ]
    },
    {
     "name": "stdout",
     "output_type": "stream",
     "text": [
      "time : 416.08, train_loss : 0.01, train_acc : 99.56,val_acc : 98.61,val_loss : 0.05\n"
     ]
    },
    {
     "name": "stderr",
     "output_type": "stream",
     "text": [
      "100%|██████████| 1511/1511 [06:33<00:00,  3.84it/s]\n",
      "100%|██████████| 313/313 [00:22<00:00, 13.84it/s]\n",
      "  0%|          | 0/1511 [00:00<?, ?it/s]"
     ]
    },
    {
     "name": "stdout",
     "output_type": "stream",
     "text": [
      "time : 415.84, train_loss : 0.01, train_acc : 99.58,val_acc : 98.92,val_loss : 0.03\n"
     ]
    },
    {
     "name": "stderr",
     "output_type": "stream",
     "text": [
      "100%|██████████| 1511/1511 [06:33<00:00,  3.84it/s]\n",
      "100%|██████████| 313/313 [00:22<00:00, 13.85it/s]\n",
      "  0%|          | 0/1511 [00:00<?, ?it/s]"
     ]
    },
    {
     "name": "stdout",
     "output_type": "stream",
     "text": [
      "time : 415.88, train_loss : 0.01, train_acc : 99.59,val_acc : 98.86,val_loss : 0.04\n"
     ]
    },
    {
     "name": "stderr",
     "output_type": "stream",
     "text": [
      "100%|██████████| 1511/1511 [06:33<00:00,  3.84it/s]\n",
      "100%|██████████| 313/313 [00:22<00:00, 13.82it/s]\n",
      "  0%|          | 0/1511 [00:00<?, ?it/s]"
     ]
    },
    {
     "name": "stdout",
     "output_type": "stream",
     "text": [
      "time : 415.82, train_loss : 0.01, train_acc : 99.65,val_acc : 98.83,val_loss : 0.04\n"
     ]
    },
    {
     "name": "stderr",
     "output_type": "stream",
     "text": [
      "100%|██████████| 1511/1511 [06:33<00:00,  3.84it/s]\n",
      "100%|██████████| 313/313 [00:22<00:00, 13.82it/s]\n",
      "  0%|          | 0/1511 [00:00<?, ?it/s]"
     ]
    },
    {
     "name": "stdout",
     "output_type": "stream",
     "text": [
      "time : 416.23, train_loss : 0.01, train_acc : 99.53,val_acc : 98.92,val_loss : 0.04\n"
     ]
    },
    {
     "name": "stderr",
     "output_type": "stream",
     "text": [
      "100%|██████████| 1511/1511 [06:33<00:00,  3.84it/s]\n",
      "100%|██████████| 313/313 [00:22<00:00, 13.85it/s]\n",
      "  0%|          | 0/1511 [00:00<?, ?it/s]"
     ]
    },
    {
     "name": "stdout",
     "output_type": "stream",
     "text": [
      "time : 416.15, train_loss : 0.01, train_acc : 99.56,val_acc : 98.71,val_loss : 0.05\n"
     ]
    },
    {
     "name": "stderr",
     "output_type": "stream",
     "text": [
      "100%|██████████| 1511/1511 [06:33<00:00,  3.84it/s]\n",
      "100%|██████████| 313/313 [00:22<00:00, 13.85it/s]\n",
      "  0%|          | 0/1511 [00:00<?, ?it/s]"
     ]
    },
    {
     "name": "stdout",
     "output_type": "stream",
     "text": [
      "time : 416.06, train_loss : 0.01, train_acc : 99.63,val_acc : 99.06,val_loss : 0.03\n"
     ]
    },
    {
     "name": "stderr",
     "output_type": "stream",
     "text": [
      "100%|██████████| 1511/1511 [06:33<00:00,  3.84it/s]\n",
      "100%|██████████| 313/313 [00:22<00:00, 13.85it/s]\n",
      "  0%|          | 0/1511 [00:00<?, ?it/s]"
     ]
    },
    {
     "name": "stdout",
     "output_type": "stream",
     "text": [
      "time : 415.82, train_loss : 0.01, train_acc : 99.61,val_acc : 99.16,val_loss : 0.03\n"
     ]
    },
    {
     "name": "stderr",
     "output_type": "stream",
     "text": [
      "100%|██████████| 1511/1511 [06:33<00:00,  3.84it/s]\n",
      "100%|██████████| 313/313 [00:22<00:00, 13.82it/s]\n",
      "  0%|          | 0/1511 [00:00<?, ?it/s]"
     ]
    },
    {
     "name": "stdout",
     "output_type": "stream",
     "text": [
      "time : 416.05, train_loss : 0.01, train_acc : 99.62,val_acc : 98.90,val_loss : 0.04\n"
     ]
    },
    {
     "name": "stderr",
     "output_type": "stream",
     "text": [
      "100%|██████████| 1511/1511 [06:33<00:00,  3.84it/s]\n",
      "100%|██████████| 313/313 [00:22<00:00, 13.83it/s]\n",
      "  0%|          | 0/1511 [00:00<?, ?it/s]"
     ]
    },
    {
     "name": "stdout",
     "output_type": "stream",
     "text": [
      "time : 416.06, train_loss : 0.01, train_acc : 99.58,val_acc : 98.30,val_loss : 0.06\n"
     ]
    },
    {
     "name": "stderr",
     "output_type": "stream",
     "text": [
      "100%|██████████| 1511/1511 [06:33<00:00,  3.84it/s]\n",
      "100%|██████████| 313/313 [00:22<00:00, 13.86it/s]\n",
      "  0%|          | 0/1511 [00:00<?, ?it/s]"
     ]
    },
    {
     "name": "stdout",
     "output_type": "stream",
     "text": [
      "time : 415.94, train_loss : 0.01, train_acc : 99.62,val_acc : 98.81,val_loss : 0.04\n"
     ]
    },
    {
     "name": "stderr",
     "output_type": "stream",
     "text": [
      "100%|██████████| 1511/1511 [06:33<00:00,  3.84it/s]\n",
      "100%|██████████| 313/313 [00:22<00:00, 13.84it/s]\n",
      "  0%|          | 0/1511 [00:00<?, ?it/s]"
     ]
    },
    {
     "name": "stdout",
     "output_type": "stream",
     "text": [
      "time : 415.93, train_loss : 0.01, train_acc : 99.62,val_acc : 98.61,val_loss : 0.05\n"
     ]
    },
    {
     "name": "stderr",
     "output_type": "stream",
     "text": [
      "100%|██████████| 1511/1511 [06:33<00:00,  3.84it/s]\n",
      "100%|██████████| 313/313 [00:22<00:00, 13.85it/s]\n",
      "  0%|          | 0/1511 [00:00<?, ?it/s]"
     ]
    },
    {
     "name": "stdout",
     "output_type": "stream",
     "text": [
      "time : 415.79, train_loss : 0.01, train_acc : 99.62,val_acc : 98.55,val_loss : 0.05\n"
     ]
    },
    {
     "name": "stderr",
     "output_type": "stream",
     "text": [
      "100%|██████████| 1511/1511 [06:33<00:00,  3.84it/s]\n",
      "100%|██████████| 313/313 [00:22<00:00, 13.87it/s]\n",
      "  0%|          | 0/1511 [00:00<?, ?it/s]"
     ]
    },
    {
     "name": "stdout",
     "output_type": "stream",
     "text": [
      "time : 415.90, train_loss : 0.01, train_acc : 99.60,val_acc : 99.09,val_loss : 0.03\n"
     ]
    },
    {
     "name": "stderr",
     "output_type": "stream",
     "text": [
      "100%|██████████| 1511/1511 [06:33<00:00,  3.84it/s]\n",
      "100%|██████████| 313/313 [00:22<00:00, 13.84it/s]\n",
      "  0%|          | 0/1511 [00:00<?, ?it/s]"
     ]
    },
    {
     "name": "stdout",
     "output_type": "stream",
     "text": [
      "time : 415.94, train_loss : 0.01, train_acc : 99.60,val_acc : 98.81,val_loss : 0.05\n"
     ]
    },
    {
     "name": "stderr",
     "output_type": "stream",
     "text": [
      "100%|██████████| 1511/1511 [06:33<00:00,  3.84it/s]\n",
      "100%|██████████| 313/313 [00:22<00:00, 13.84it/s]\n",
      "  0%|          | 0/1511 [00:00<?, ?it/s]"
     ]
    },
    {
     "name": "stdout",
     "output_type": "stream",
     "text": [
      "time : 415.99, train_loss : 0.01, train_acc : 99.61,val_acc : 97.25,val_loss : 0.10\n"
     ]
    },
    {
     "name": "stderr",
     "output_type": "stream",
     "text": [
      "100%|██████████| 1511/1511 [06:33<00:00,  3.84it/s]\n",
      "100%|██████████| 313/313 [00:22<00:00, 13.84it/s]\n",
      "  0%|          | 0/1511 [00:00<?, ?it/s]"
     ]
    },
    {
     "name": "stdout",
     "output_type": "stream",
     "text": [
      "time : 415.88, train_loss : 0.01, train_acc : 99.61,val_acc : 97.66,val_loss : 0.08\n"
     ]
    },
    {
     "name": "stderr",
     "output_type": "stream",
     "text": [
      "100%|██████████| 1511/1511 [06:33<00:00,  3.84it/s]\n",
      "100%|██████████| 313/313 [00:22<00:00, 13.85it/s]\n",
      "  0%|          | 0/1511 [00:00<?, ?it/s]"
     ]
    },
    {
     "name": "stdout",
     "output_type": "stream",
     "text": [
      "time : 415.67, train_loss : 0.01, train_acc : 99.64,val_acc : 98.86,val_loss : 0.04\n"
     ]
    },
    {
     "name": "stderr",
     "output_type": "stream",
     "text": [
      "100%|██████████| 1511/1511 [06:33<00:00,  3.84it/s]\n",
      "100%|██████████| 313/313 [00:22<00:00, 13.85it/s]\n",
      "  0%|          | 0/1511 [00:00<?, ?it/s]"
     ]
    },
    {
     "name": "stdout",
     "output_type": "stream",
     "text": [
      "time : 415.93, train_loss : 0.01, train_acc : 99.57,val_acc : 99.08,val_loss : 0.03\n"
     ]
    },
    {
     "name": "stderr",
     "output_type": "stream",
     "text": [
      "100%|██████████| 1511/1511 [06:33<00:00,  3.84it/s]\n",
      "100%|██████████| 313/313 [00:22<00:00, 13.83it/s]\n",
      "  0%|          | 0/1511 [00:00<?, ?it/s]"
     ]
    },
    {
     "name": "stdout",
     "output_type": "stream",
     "text": [
      "time : 415.94, train_loss : 0.01, train_acc : 99.64,val_acc : 98.80,val_loss : 0.04\n"
     ]
    },
    {
     "name": "stderr",
     "output_type": "stream",
     "text": [
      "100%|██████████| 1511/1511 [06:33<00:00,  3.84it/s]\n",
      "100%|██████████| 313/313 [00:22<00:00, 13.86it/s]\n",
      "  0%|          | 0/1511 [00:00<?, ?it/s]"
     ]
    },
    {
     "name": "stdout",
     "output_type": "stream",
     "text": [
      "time : 415.96, train_loss : 0.01, train_acc : 99.64,val_acc : 99.11,val_loss : 0.03\n"
     ]
    },
    {
     "name": "stderr",
     "output_type": "stream",
     "text": [
      "100%|██████████| 1511/1511 [06:33<00:00,  3.84it/s]\n",
      "100%|██████████| 313/313 [00:22<00:00, 13.83it/s]\n",
      "  0%|          | 0/1511 [00:00<?, ?it/s]"
     ]
    },
    {
     "name": "stdout",
     "output_type": "stream",
     "text": [
      "time : 415.75, train_loss : 0.01, train_acc : 99.62,val_acc : 97.25,val_loss : 0.11\n"
     ]
    },
    {
     "name": "stderr",
     "output_type": "stream",
     "text": [
      "100%|██████████| 1511/1511 [06:33<00:00,  3.84it/s]\n",
      "100%|██████████| 313/313 [00:22<00:00, 13.83it/s]\n",
      "  0%|          | 0/1511 [00:00<?, ?it/s]"
     ]
    },
    {
     "name": "stdout",
     "output_type": "stream",
     "text": [
      "time : 415.71, train_loss : 0.01, train_acc : 99.67,val_acc : 97.83,val_loss : 0.08\n"
     ]
    },
    {
     "name": "stderr",
     "output_type": "stream",
     "text": [
      "100%|██████████| 1511/1511 [06:33<00:00,  3.84it/s]\n",
      "100%|██████████| 313/313 [00:22<00:00, 13.83it/s]\n",
      "  0%|          | 0/313 [00:00<?, ?it/s]"
     ]
    },
    {
     "name": "stdout",
     "output_type": "stream",
     "text": [
      "time : 415.92, train_loss : 0.01, train_acc : 99.60,val_acc : 99.14,val_loss : 0.03\n"
     ]
    },
    {
     "name": "stderr",
     "output_type": "stream",
     "text": [
      "100%|██████████| 313/313 [00:22<00:00, 13.86it/s]\n"
     ]
    }
   ],
   "source": [
    "seed = 123\n",
    "np.random.seed(seed)\n",
    "torch.manual_seed(seed)\n",
    "net=GoogleNet()\n",
    "net.cuda()\n",
    "criterion=nn.CrossEntropyLoss()\n",
    "optimizer = optim.Adam(net.parameters(), lr=0.0015, weight_decay=0.00001)\n",
    "train_losses=[]\n",
    "val_losses=[]\n",
    "train_accs=[]\n",
    "val_accs=[]\n",
    "for epoch in range(100):\n",
    "    ts=time.time()\n",
    "    net, train_loss,train_acc=train(net, partition, optimizer, criterion)\n",
    "    val_loss, val_acc = validate(net, partition, criterion)\n",
    "    te=time.time()\n",
    "    print('time : {:2.2f}, train_loss : {:2.2f}, train_acc : {:2.2f},val_acc : {:2.2f},val_loss : {:2.2f}'.format(te-ts,train_loss,train_acc,val_acc,val_loss))\n",
    "    train_loss=round(train_loss,2)\n",
    "    val_loss=round(val_loss,2)\n",
    "    train_acc=round(train_acc,2)\n",
    "    val_acc=round(val_acc,2)\n",
    "    train_losses.append(train_loss)\n",
    "    val_losses.append(val_loss)\n",
    "    train_accs.append(train_acc)\n",
    "    val_accs.append(val_acc)\n",
    "test_acc = test(net,partition)\n",
    "test_acc=round(test_acc,2)"
   ]
  },
  {
   "cell_type": "code",
   "execution_count": 25,
   "id": "automated-rainbow",
   "metadata": {},
   "outputs": [
    {
     "data": {
      "text/plain": [
       "99.06"
      ]
     },
     "execution_count": 25,
     "metadata": {},
     "output_type": "execute_result"
    }
   ],
   "source": [
    "test_acc"
   ]
  },
  {
   "cell_type": "code",
   "execution_count": 29,
   "id": "black-bulgaria",
   "metadata": {},
   "outputs": [],
   "source": [
    "np.save(\"GoogleNet_trainloss\",train_losses)"
   ]
  },
  {
   "cell_type": "code",
   "execution_count": 30,
   "id": "sensitive-backing",
   "metadata": {},
   "outputs": [],
   "source": [
    "np.save(\"GoogleNet_valloss\",val_losses)\n",
    "np.save(\"GoogleNet_trainaccs\",train_accs)\n",
    "np.save(\"GoogleNet_valloss\",val_accs)"
   ]
  },
  {
   "cell_type": "code",
   "execution_count": null,
   "id": "comic-artist",
   "metadata": {},
   "outputs": [],
   "source": []
  }
 ],
 "metadata": {
  "kernelspec": {
   "display_name": "Python 3",
   "language": "python",
   "name": "python3"
  },
  "language_info": {
   "codemirror_mode": {
    "name": "ipython",
    "version": 3
   },
   "file_extension": ".py",
   "mimetype": "text/x-python",
   "name": "python",
   "nbconvert_exporter": "python",
   "pygments_lexer": "ipython3",
   "version": "3.6.12"
  }
 },
 "nbformat": 4,
 "nbformat_minor": 5
}
