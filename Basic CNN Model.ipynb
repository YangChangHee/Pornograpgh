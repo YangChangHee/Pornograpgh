{
 "cells": [
  {
   "cell_type": "code",
   "execution_count": 1,
   "id": "medical-companion",
   "metadata": {},
   "outputs": [],
   "source": [
    "import matplotlib.pyplot as plt\n",
    "import numpy as np\n",
    "import random\n",
    "import torch\n",
    "import torchvision\n",
    "import torchvision.transforms as transforms\n",
    "import torch.nn as nn\n",
    "import torch.nn.functional as F\n",
    "import torch.optim as optim\n",
    "import argparse\n",
    "import numpy as np\n",
    "import time\n",
    "from copy import deepcopy\n",
    "import seaborn as sns \n",
    "import matplotlib.pyplot as plt"
   ]
  },
  {
   "cell_type": "code",
   "execution_count": 2,
   "id": "statutory-arcade",
   "metadata": {},
   "outputs": [],
   "source": [
    "Porn=np.load(\"Porn_data.npy\")"
   ]
  },
  {
   "cell_type": "code",
   "execution_count": 3,
   "id": "creative-lafayette",
   "metadata": {},
   "outputs": [],
   "source": [
    "Non_Porn=np.load(\"Non_Porn_data.npy\")"
   ]
  },
  {
   "cell_type": "code",
   "execution_count": 4,
   "id": "declared-accordance",
   "metadata": {},
   "outputs": [
    {
     "data": {
      "text/plain": [
       "((71302, 50, 50, 3), (65379, 50, 50, 3))"
      ]
     },
     "execution_count": 4,
     "metadata": {},
     "output_type": "execute_result"
    }
   ],
   "source": [
    "Porn.shape, Non_Porn.shape"
   ]
  },
  {
   "cell_type": "code",
   "execution_count": 5,
   "id": "innovative-aspect",
   "metadata": {},
   "outputs": [],
   "source": [
    "input_data=[]\n",
    "for i in range(2):\n",
    "    if i == 0:\n",
    "        for j in range(len(Non_Porn)):\n",
    "            input_data.append(Non_Porn[j])\n",
    "    else :\n",
    "        for j in range(len(Porn)):\n",
    "            input_data.append(Porn[j])"
   ]
  },
  {
   "cell_type": "code",
   "execution_count": 6,
   "id": "integrated-judges",
   "metadata": {},
   "outputs": [],
   "source": [
    "input_data=np.array(input_data)"
   ]
  },
  {
   "cell_type": "code",
   "execution_count": 7,
   "id": "hungry-happiness",
   "metadata": {},
   "outputs": [],
   "source": [
    "label=[]\n",
    "for i in range(len(Non_Porn)+len(Porn)):\n",
    "    if i>len(Non_Porn):\n",
    "        label.append(0)\n",
    "    else:\n",
    "        label.append(1)"
   ]
  },
  {
   "cell_type": "code",
   "execution_count": 8,
   "id": "mighty-craps",
   "metadata": {},
   "outputs": [],
   "source": [
    "label=np.array(label)"
   ]
  },
  {
   "cell_type": "code",
   "execution_count": 9,
   "id": "worth-england",
   "metadata": {},
   "outputs": [],
   "source": [
    "input_data= (input_data*(1/256)-0.5)/0.5"
   ]
  },
  {
   "cell_type": "code",
   "execution_count": 11,
   "id": "sharp-indianapolis",
   "metadata": {},
   "outputs": [],
   "source": [
    "input_data=torch.FloatTensor(input_data)\n",
    "label=torch.LongTensor(label)"
   ]
  },
  {
   "cell_type": "code",
   "execution_count": 12,
   "id": "developed-complexity",
   "metadata": {},
   "outputs": [],
   "source": [
    "input_data=input_data.transpose(1,3)"
   ]
  },
  {
   "cell_type": "code",
   "execution_count": 13,
   "id": "difficult-documentary",
   "metadata": {},
   "outputs": [
    {
     "data": {
      "text/plain": [
       "torch.Size([136681, 3, 50, 50])"
      ]
     },
     "execution_count": 13,
     "metadata": {},
     "output_type": "execute_result"
    }
   ],
   "source": [
    "input_data.shape"
   ]
  },
  {
   "cell_type": "code",
   "execution_count": 14,
   "id": "compatible-shade",
   "metadata": {},
   "outputs": [],
   "source": [
    "from torch.utils.data import TensorDataset\n",
    "from torch.utils.data import DataLoader\n",
    "dataset = TensorDataset(input_data,label)"
   ]
  },
  {
   "cell_type": "code",
   "execution_count": 15,
   "id": "registered-mustang",
   "metadata": {},
   "outputs": [],
   "source": [
    "trainset,valset=torch.utils.data.random_split(dataset,[116681,20000])\n",
    "trainset,testset=torch.utils.data.random_split(trainset,[96681,20000])\n",
    "\n",
    "partition={'train':trainset,'val':valset,'test':testset}"
   ]
  },
  {
   "cell_type": "code",
   "execution_count": 16,
   "id": "alleged-delivery",
   "metadata": {},
   "outputs": [],
   "source": [
    "class CNN(nn.Module):\n",
    "    \n",
    "    def __init__(self):\n",
    "        super(CNN, self).__init__()\n",
    "        \n",
    "        self.conv1=nn.Conv2d(in_channels=3,\n",
    "                            out_channels=32,\n",
    "                            kernel_size=8,\n",
    "                            stride=2,\n",
    "                            padding=2) # 32 28 28\n",
    "        self.conv2=nn.Conv2d(in_channels=32, \n",
    "                            out_channels=64,\n",
    "                            kernel_size=6,\n",
    "                            stride=1,\n",
    "                            padding=2) # 64 60 64\n",
    "        self.conv3=nn.Conv2d(in_channels=64,\n",
    "                            out_channels=128,\n",
    "                            kernel_size=3,\n",
    "                            stride=1,\n",
    "                            padding=1) # 25 30 128\n",
    "        self.act=nn.ReLU()\n",
    "        self.maxpool1=nn.MaxPool2d(kernel_size=2,\n",
    "                                  stride=2)\n",
    "        self.fc=nn.Linear(512,2)\n",
    "    def forward(self,x):\n",
    "        x=self.conv1(x)\n",
    "        x=self.act(x)\n",
    "        x=self.maxpool1(x)\n",
    "        x=self.conv2(x)\n",
    "        x=self.act(x)\n",
    "        x=self.maxpool1(x)\n",
    "        x=self.conv3(x)\n",
    "        x=self.act(x)\n",
    "        x=self.maxpool1(x)\n",
    "        x=x.view(x.size(0),-1)\n",
    "        x=self.fc(x)\n",
    "        return x"
   ]
  },
  {
   "cell_type": "code",
   "execution_count": 17,
   "id": "roman-stupid",
   "metadata": {},
   "outputs": [],
   "source": [
    "def dimension_check():\n",
    "    net=CNN()\n",
    "    x=torch.randn(1,3,50,50)\n",
    "    y=net(x)\n",
    "    print(y.size())"
   ]
  },
  {
   "cell_type": "code",
   "execution_count": 18,
   "id": "incomplete-ordering",
   "metadata": {},
   "outputs": [
    {
     "name": "stdout",
     "output_type": "stream",
     "text": [
      "torch.Size([1, 2])\n"
     ]
    }
   ],
   "source": [
    "dimension_check()"
   ]
  },
  {
   "cell_type": "code",
   "execution_count": 19,
   "id": "welsh-being",
   "metadata": {},
   "outputs": [],
   "source": [
    "def train(net,partition,optimizer,criterion):\n",
    "    trainloader = torch.utils.data.DataLoader(partition['train'],\n",
    "                                             batch_size=4096,\n",
    "                                             shuffle=True)\n",
    "    net.train()\n",
    "    correct = 0\n",
    "    total =0\n",
    "    train_loss = 0.0\n",
    "    for i, data in enumerate(tqdm(trainloader, 0)):\n",
    "        time.sleep(0.0000001)\n",
    "        optimizer.zero_grad()\n",
    "        inputs, labels = data\n",
    "        inputs = inputs.cuda()\n",
    "        labels = labels.cuda()\n",
    "        outputs = net(inputs)\n",
    "        #break\n",
    "        loss = criterion(outputs, labels)\n",
    "        loss.backward()\n",
    "        optimizer.step()\n",
    "        \n",
    "        train_loss += loss.item()\n",
    "        _, predicted = torch.max(outputs.data, 1)\n",
    "        total += labels.size(0)\n",
    "        correct += (predicted == labels).sum().item()\n",
    "        #if i % 200 == 0:\n",
    "        #    print(correct,train_loss)\n",
    "    train_loss = train_loss / len(trainloader)\n",
    "    train_acc = 100 * correct / total\n",
    "    return net, train_loss, train_acc"
   ]
  },
  {
   "cell_type": "code",
   "execution_count": 25,
   "id": "auburn-accreditation",
   "metadata": {},
   "outputs": [],
   "source": [
    "def test(net):\n",
    "    testloader = torch.utils.data.DataLoader(partition['test'], \n",
    "                                             batch_size=4096, \n",
    "                                             shuffle=False, num_workers=2)\n",
    "    net.eval()\n",
    "    \n",
    "    correct = 0\n",
    "    total = 0\n",
    "    with torch.no_grad():\n",
    "        for data in tqdm(testloader):\n",
    "            time.sleep(0.0000001)\n",
    "            images, labels = data\n",
    "            images = images.cuda()\n",
    "            labels = labels.cuda()\n",
    "\n",
    "            outputs = net(images)\n",
    "            _, predicted = torch.max(outputs.data, 1)\n",
    "            total += labels.size(0)\n",
    "            correct += (predicted == labels).sum().item()\n",
    "\n",
    "        test_acc = 100 * correct / total\n",
    "    return test_acc"
   ]
  },
  {
   "cell_type": "code",
   "execution_count": 21,
   "id": "hawaiian-quebec",
   "metadata": {},
   "outputs": [],
   "source": [
    "def validate(net, partition, criterion):\n",
    "    valloader = torch.utils.data.DataLoader(partition['val'], \n",
    "                                            batch_size=4096, \n",
    "                                            shuffle=False, num_workers=2)\n",
    "    net.eval()\n",
    "\n",
    "    correct = 0\n",
    "    total = 0\n",
    "    val_loss = 0 \n",
    "    with torch.no_grad():\n",
    "        for data in tqdm(valloader):\n",
    "            time.sleep(0.0000001)\n",
    "            images, labels = data\n",
    "            images = images.cuda()\n",
    "            labels = labels.cuda()\n",
    "            outputs = net(images)\n",
    "\n",
    "            loss = criterion(outputs, labels)\n",
    "            \n",
    "            val_loss += loss.item()\n",
    "            _, predicted = torch.max(outputs.data, 1)\n",
    "            total += labels.size(0)\n",
    "            correct += (predicted == labels).sum().item()\n",
    "\n",
    "        val_loss = val_loss / len(valloader)\n",
    "        val_acc = 100 * correct / total\n",
    "    return val_loss, val_acc"
   ]
  },
  {
   "cell_type": "code",
   "execution_count": 22,
   "id": "sudden-experiment",
   "metadata": {},
   "outputs": [],
   "source": [
    "from tqdm import tqdm, tqdm_notebook\n",
    "from tqdm import trange\n",
    "import time"
   ]
  },
  {
   "cell_type": "code",
   "execution_count": 23,
   "id": "operating-parliament",
   "metadata": {},
   "outputs": [
    {
     "name": "stderr",
     "output_type": "stream",
     "text": [
      "100%|██████████| 24/24 [00:03<00:00,  6.49it/s]\n",
      "100%|██████████| 5/5 [00:00<00:00, 11.01it/s]\n",
      "  4%|▍         | 1/24 [00:00<00:03,  6.47it/s]"
     ]
    },
    {
     "name": "stdout",
     "output_type": "stream",
     "text": [
      "time : 4.16, train_loss : 0.48, train_acc : 78.21,val_acc : 82.06,val_loss : 0.43\n"
     ]
    },
    {
     "name": "stderr",
     "output_type": "stream",
     "text": [
      "100%|██████████| 24/24 [00:03<00:00,  6.99it/s]\n",
      "100%|██████████| 5/5 [00:00<00:00, 11.89it/s]\n",
      "  4%|▍         | 1/24 [00:00<00:03,  5.86it/s]"
     ]
    },
    {
     "name": "stdout",
     "output_type": "stream",
     "text": [
      "time : 3.87, train_loss : 0.40, train_acc : 83.07,val_acc : 83.77,val_loss : 0.38\n"
     ]
    },
    {
     "name": "stderr",
     "output_type": "stream",
     "text": [
      "100%|██████████| 24/24 [00:03<00:00,  7.10it/s]\n",
      "100%|██████████| 5/5 [00:00<00:00, 10.58it/s]\n",
      "  4%|▍         | 1/24 [00:00<00:03,  6.95it/s]"
     ]
    },
    {
     "name": "stdout",
     "output_type": "stream",
     "text": [
      "time : 3.87, train_loss : 0.36, train_acc : 84.99,val_acc : 85.92,val_loss : 0.34\n"
     ]
    },
    {
     "name": "stderr",
     "output_type": "stream",
     "text": [
      "100%|██████████| 24/24 [00:03<00:00,  6.91it/s]\n",
      "100%|██████████| 5/5 [00:00<00:00, 10.01it/s]\n",
      "  4%|▍         | 1/24 [00:00<00:03,  6.97it/s]"
     ]
    },
    {
     "name": "stdout",
     "output_type": "stream",
     "text": [
      "time : 3.99, train_loss : 0.33, train_acc : 86.66,val_acc : 87.67,val_loss : 0.30\n"
     ]
    },
    {
     "name": "stderr",
     "output_type": "stream",
     "text": [
      "100%|██████████| 24/24 [00:03<00:00,  6.93it/s]\n",
      "100%|██████████| 5/5 [00:00<00:00,  9.59it/s]\n",
      "  4%|▍         | 1/24 [00:00<00:03,  5.79it/s]"
     ]
    },
    {
     "name": "stdout",
     "output_type": "stream",
     "text": [
      "time : 4.00, train_loss : 0.30, train_acc : 87.84,val_acc : 88.32,val_loss : 0.29\n"
     ]
    },
    {
     "name": "stderr",
     "output_type": "stream",
     "text": [
      "100%|██████████| 24/24 [00:03<00:00,  6.92it/s]\n",
      "100%|██████████| 5/5 [00:00<00:00, 10.26it/s]\n",
      "  4%|▍         | 1/24 [00:00<00:03,  6.94it/s]"
     ]
    },
    {
     "name": "stdout",
     "output_type": "stream",
     "text": [
      "time : 3.97, train_loss : 0.28, train_acc : 88.95,val_acc : 89.67,val_loss : 0.26\n"
     ]
    },
    {
     "name": "stderr",
     "output_type": "stream",
     "text": [
      "100%|██████████| 24/24 [00:03<00:00,  7.01it/s]\n",
      "100%|██████████| 5/5 [00:00<00:00, 10.14it/s]\n",
      "  4%|▍         | 1/24 [00:00<00:04,  5.32it/s]"
     ]
    },
    {
     "name": "stdout",
     "output_type": "stream",
     "text": [
      "time : 3.93, train_loss : 0.27, train_acc : 89.45,val_acc : 89.73,val_loss : 0.26\n"
     ]
    },
    {
     "name": "stderr",
     "output_type": "stream",
     "text": [
      "100%|██████████| 24/24 [00:03<00:00,  6.87it/s]\n",
      "100%|██████████| 5/5 [00:00<00:00, 10.15it/s]\n",
      "  0%|          | 0/24 [00:00<?, ?it/s]"
     ]
    },
    {
     "name": "stdout",
     "output_type": "stream",
     "text": [
      "time : 4.00, train_loss : 0.25, train_acc : 90.01,val_acc : 90.00,val_loss : 0.25\n"
     ]
    },
    {
     "name": "stderr",
     "output_type": "stream",
     "text": [
      "100%|██████████| 24/24 [00:03<00:00,  6.90it/s]\n",
      "100%|██████████| 5/5 [00:00<00:00, 10.42it/s]\n",
      "  4%|▍         | 1/24 [00:00<00:03,  5.81it/s]"
     ]
    },
    {
     "name": "stdout",
     "output_type": "stream",
     "text": [
      "time : 3.97, train_loss : 0.23, train_acc : 90.85,val_acc : 90.98,val_loss : 0.23\n"
     ]
    },
    {
     "name": "stderr",
     "output_type": "stream",
     "text": [
      "100%|██████████| 24/24 [00:03<00:00,  6.92it/s]\n",
      "100%|██████████| 5/5 [00:00<00:00, 10.68it/s]\n",
      "  4%|▍         | 1/24 [00:00<00:03,  5.76it/s]"
     ]
    },
    {
     "name": "stdout",
     "output_type": "stream",
     "text": [
      "time : 3.95, train_loss : 0.23, train_acc : 90.98,val_acc : 91.62,val_loss : 0.22\n"
     ]
    },
    {
     "name": "stderr",
     "output_type": "stream",
     "text": [
      "100%|██████████| 24/24 [00:03<00:00,  6.90it/s]\n",
      "100%|██████████| 5/5 [00:00<00:00, 11.67it/s]\n",
      "  4%|▍         | 1/24 [00:00<00:03,  7.14it/s]"
     ]
    },
    {
     "name": "stdout",
     "output_type": "stream",
     "text": [
      "time : 3.93, train_loss : 0.22, train_acc : 91.59,val_acc : 91.89,val_loss : 0.21\n"
     ]
    },
    {
     "name": "stderr",
     "output_type": "stream",
     "text": [
      "100%|██████████| 24/24 [00:03<00:00,  7.14it/s]\n",
      "100%|██████████| 5/5 [00:00<00:00, 11.38it/s]\n",
      "  4%|▍         | 1/24 [00:00<00:03,  6.30it/s]"
     ]
    },
    {
     "name": "stdout",
     "output_type": "stream",
     "text": [
      "time : 3.82, train_loss : 0.21, train_acc : 91.92,val_acc : 91.87,val_loss : 0.22\n"
     ]
    },
    {
     "name": "stderr",
     "output_type": "stream",
     "text": [
      "100%|██████████| 24/24 [00:03<00:00,  7.08it/s]\n",
      "100%|██████████| 5/5 [00:00<00:00, 10.13it/s]\n",
      "  4%|▍         | 1/24 [00:00<00:03,  5.79it/s]"
     ]
    },
    {
     "name": "stdout",
     "output_type": "stream",
     "text": [
      "time : 3.90, train_loss : 0.20, train_acc : 92.51,val_acc : 92.19,val_loss : 0.20\n"
     ]
    },
    {
     "name": "stderr",
     "output_type": "stream",
     "text": [
      "100%|██████████| 24/24 [00:03<00:00,  6.98it/s]\n",
      "100%|██████████| 5/5 [00:00<00:00, 11.59it/s]\n",
      "  4%|▍         | 1/24 [00:00<00:03,  6.63it/s]"
     ]
    },
    {
     "name": "stdout",
     "output_type": "stream",
     "text": [
      "time : 3.88, train_loss : 0.18, train_acc : 93.21,val_acc : 92.89,val_loss : 0.19\n"
     ]
    },
    {
     "name": "stderr",
     "output_type": "stream",
     "text": [
      "100%|██████████| 24/24 [00:03<00:00,  6.92it/s]\n",
      "100%|██████████| 5/5 [00:00<00:00, 10.01it/s]\n",
      "  4%|▍         | 1/24 [00:00<00:03,  6.92it/s]"
     ]
    },
    {
     "name": "stdout",
     "output_type": "stream",
     "text": [
      "time : 3.99, train_loss : 0.17, train_acc : 93.47,val_acc : 93.43,val_loss : 0.18\n"
     ]
    },
    {
     "name": "stderr",
     "output_type": "stream",
     "text": [
      "100%|██████████| 24/24 [00:03<00:00,  6.92it/s]\n",
      "100%|██████████| 5/5 [00:00<00:00,  9.56it/s]\n",
      "  4%|▍         | 1/24 [00:00<00:04,  5.61it/s]"
     ]
    },
    {
     "name": "stdout",
     "output_type": "stream",
     "text": [
      "time : 4.01, train_loss : 0.17, train_acc : 93.67,val_acc : 92.44,val_loss : 0.20\n"
     ]
    },
    {
     "name": "stderr",
     "output_type": "stream",
     "text": [
      "100%|██████████| 24/24 [00:03<00:00,  6.79it/s]\n",
      "100%|██████████| 5/5 [00:00<00:00, 10.12it/s]\n",
      "  4%|▍         | 1/24 [00:00<00:03,  6.93it/s]"
     ]
    },
    {
     "name": "stdout",
     "output_type": "stream",
     "text": [
      "time : 4.04, train_loss : 0.17, train_acc : 93.69,val_acc : 93.33,val_loss : 0.18\n"
     ]
    },
    {
     "name": "stderr",
     "output_type": "stream",
     "text": [
      "100%|██████████| 24/24 [00:03<00:00,  6.92it/s]\n",
      "100%|██████████| 5/5 [00:00<00:00, 10.18it/s]\n",
      "  4%|▍         | 1/24 [00:00<00:03,  7.04it/s]"
     ]
    },
    {
     "name": "stdout",
     "output_type": "stream",
     "text": [
      "time : 3.98, train_loss : 0.14, train_acc : 94.63,val_acc : 93.03,val_loss : 0.18\n"
     ]
    },
    {
     "name": "stderr",
     "output_type": "stream",
     "text": [
      "100%|██████████| 24/24 [00:03<00:00,  7.02it/s]\n",
      "100%|██████████| 5/5 [00:00<00:00, 10.09it/s]\n",
      "  0%|          | 0/24 [00:00<?, ?it/s]"
     ]
    },
    {
     "name": "stdout",
     "output_type": "stream",
     "text": [
      "time : 3.93, train_loss : 0.14, train_acc : 94.96,val_acc : 93.75,val_loss : 0.17\n"
     ]
    },
    {
     "name": "stderr",
     "output_type": "stream",
     "text": [
      "100%|██████████| 24/24 [00:03<00:00,  6.97it/s]\n",
      "100%|██████████| 5/5 [00:00<00:00, 10.55it/s]\n",
      "  4%|▍         | 1/24 [00:00<00:04,  5.38it/s]"
     ]
    },
    {
     "name": "stdout",
     "output_type": "stream",
     "text": [
      "time : 3.93, train_loss : 0.13, train_acc : 95.34,val_acc : 93.86,val_loss : 0.16\n"
     ]
    },
    {
     "name": "stderr",
     "output_type": "stream",
     "text": [
      "100%|██████████| 24/24 [00:03<00:00,  6.84it/s]\n",
      "100%|██████████| 5/5 [00:00<00:00, 11.15it/s]\n",
      "  4%|▍         | 1/24 [00:00<00:03,  6.43it/s]"
     ]
    },
    {
     "name": "stdout",
     "output_type": "stream",
     "text": [
      "time : 3.98, train_loss : 0.13, train_acc : 95.30,val_acc : 93.97,val_loss : 0.16\n"
     ]
    },
    {
     "name": "stderr",
     "output_type": "stream",
     "text": [
      "100%|██████████| 24/24 [00:03<00:00,  6.99it/s]\n",
      "100%|██████████| 5/5 [00:00<00:00, 10.72it/s]\n",
      "  4%|▍         | 1/24 [00:00<00:03,  6.87it/s]"
     ]
    },
    {
     "name": "stdout",
     "output_type": "stream",
     "text": [
      "time : 3.92, train_loss : 0.12, train_acc : 95.68,val_acc : 94.15,val_loss : 0.16\n"
     ]
    },
    {
     "name": "stderr",
     "output_type": "stream",
     "text": [
      "100%|██████████| 24/24 [00:03<00:00,  6.93it/s]\n",
      "100%|██████████| 5/5 [00:00<00:00, 11.32it/s]\n",
      "  4%|▍         | 1/24 [00:00<00:03,  5.76it/s]"
     ]
    },
    {
     "name": "stdout",
     "output_type": "stream",
     "text": [
      "time : 3.92, train_loss : 0.12, train_acc : 95.60,val_acc : 94.13,val_loss : 0.16\n"
     ]
    },
    {
     "name": "stderr",
     "output_type": "stream",
     "text": [
      "100%|██████████| 24/24 [00:03<00:00,  6.95it/s]\n",
      "100%|██████████| 5/5 [00:00<00:00, 11.13it/s]\n",
      "  4%|▍         | 1/24 [00:00<00:04,  5.69it/s]"
     ]
    },
    {
     "name": "stdout",
     "output_type": "stream",
     "text": [
      "time : 3.92, train_loss : 0.11, train_acc : 95.91,val_acc : 94.45,val_loss : 0.15\n"
     ]
    },
    {
     "name": "stderr",
     "output_type": "stream",
     "text": [
      "100%|██████████| 24/24 [00:03<00:00,  6.87it/s]\n",
      "100%|██████████| 5/5 [00:00<00:00, 11.66it/s]\n",
      "  4%|▍         | 1/24 [00:00<00:03,  7.11it/s]"
     ]
    },
    {
     "name": "stdout",
     "output_type": "stream",
     "text": [
      "time : 3.93, train_loss : 0.10, train_acc : 96.59,val_acc : 94.67,val_loss : 0.15\n"
     ]
    },
    {
     "name": "stderr",
     "output_type": "stream",
     "text": [
      "100%|██████████| 24/24 [00:03<00:00,  7.12it/s]\n",
      "100%|██████████| 5/5 [00:00<00:00, 11.36it/s]\n",
      "  4%|▍         | 1/24 [00:00<00:04,  5.63it/s]"
     ]
    },
    {
     "name": "stdout",
     "output_type": "stream",
     "text": [
      "time : 3.82, train_loss : 0.09, train_acc : 96.92,val_acc : 94.72,val_loss : 0.15\n"
     ]
    },
    {
     "name": "stderr",
     "output_type": "stream",
     "text": [
      "100%|██████████| 24/24 [00:03<00:00,  6.86it/s]\n",
      "100%|██████████| 5/5 [00:00<00:00, 10.07it/s]\n",
      "  4%|▍         | 1/24 [00:00<00:03,  7.00it/s]"
     ]
    },
    {
     "name": "stdout",
     "output_type": "stream",
     "text": [
      "time : 4.01, train_loss : 0.09, train_acc : 96.81,val_acc : 94.47,val_loss : 0.15\n"
     ]
    },
    {
     "name": "stderr",
     "output_type": "stream",
     "text": [
      "100%|██████████| 24/24 [00:03<00:00,  6.98it/s]\n",
      "100%|██████████| 5/5 [00:00<00:00, 10.19it/s]\n",
      "  4%|▍         | 1/24 [00:00<00:03,  6.44it/s]"
     ]
    },
    {
     "name": "stdout",
     "output_type": "stream",
     "text": [
      "time : 3.95, train_loss : 0.09, train_acc : 96.62,val_acc : 94.49,val_loss : 0.15\n"
     ]
    },
    {
     "name": "stderr",
     "output_type": "stream",
     "text": [
      "100%|██████████| 24/24 [00:03<00:00,  6.91it/s]\n",
      "100%|██████████| 5/5 [00:00<00:00,  9.32it/s]\n",
      "  4%|▍         | 1/24 [00:00<00:03,  6.94it/s]"
     ]
    },
    {
     "name": "stdout",
     "output_type": "stream",
     "text": [
      "time : 4.02, train_loss : 0.09, train_acc : 96.84,val_acc : 94.74,val_loss : 0.15\n"
     ]
    },
    {
     "name": "stderr",
     "output_type": "stream",
     "text": [
      "100%|██████████| 24/24 [00:03<00:00,  6.92it/s]\n",
      "100%|██████████| 5/5 [00:00<00:00,  9.54it/s]\n",
      "  4%|▍         | 1/24 [00:00<00:03,  5.80it/s]"
     ]
    },
    {
     "name": "stdout",
     "output_type": "stream",
     "text": [
      "time : 4.01, train_loss : 0.08, train_acc : 97.19,val_acc : 94.87,val_loss : 0.15\n"
     ]
    },
    {
     "name": "stderr",
     "output_type": "stream",
     "text": [
      "100%|██████████| 24/24 [00:03<00:00,  7.02it/s]\n",
      "100%|██████████| 5/5 [00:00<00:00,  9.74it/s]\n",
      "  4%|▍         | 1/24 [00:00<00:04,  5.30it/s]"
     ]
    },
    {
     "name": "stdout",
     "output_type": "stream",
     "text": [
      "time : 3.95, train_loss : 0.07, train_acc : 97.64,val_acc : 95.08,val_loss : 0.14\n"
     ]
    },
    {
     "name": "stderr",
     "output_type": "stream",
     "text": [
      "100%|██████████| 24/24 [00:03<00:00,  7.01it/s]\n",
      "100%|██████████| 5/5 [00:00<00:00,  9.96it/s]\n",
      "  4%|▍         | 1/24 [00:00<00:04,  5.47it/s]"
     ]
    },
    {
     "name": "stdout",
     "output_type": "stream",
     "text": [
      "time : 3.94, train_loss : 0.06, train_acc : 97.95,val_acc : 94.94,val_loss : 0.15\n"
     ]
    },
    {
     "name": "stderr",
     "output_type": "stream",
     "text": [
      "100%|██████████| 24/24 [00:03<00:00,  6.93it/s]\n",
      "100%|██████████| 5/5 [00:00<00:00, 10.38it/s]\n",
      "  4%|▍         | 1/24 [00:00<00:04,  5.40it/s]"
     ]
    },
    {
     "name": "stdout",
     "output_type": "stream",
     "text": [
      "time : 3.96, train_loss : 0.06, train_acc : 97.99,val_acc : 95.03,val_loss : 0.14\n"
     ]
    },
    {
     "name": "stderr",
     "output_type": "stream",
     "text": [
      "100%|██████████| 24/24 [00:03<00:00,  6.90it/s]\n",
      "100%|██████████| 5/5 [00:00<00:00, 11.08it/s]\n",
      "  4%|▍         | 1/24 [00:00<00:04,  5.74it/s]"
     ]
    },
    {
     "name": "stdout",
     "output_type": "stream",
     "text": [
      "time : 3.94, train_loss : 0.07, train_acc : 97.40,val_acc : 95.13,val_loss : 0.14\n"
     ]
    },
    {
     "name": "stderr",
     "output_type": "stream",
     "text": [
      "100%|██████████| 24/24 [00:03<00:00,  6.82it/s]\n",
      "100%|██████████| 5/5 [00:00<00:00, 11.47it/s]\n",
      "  4%|▍         | 1/24 [00:00<00:03,  6.86it/s]"
     ]
    },
    {
     "name": "stdout",
     "output_type": "stream",
     "text": [
      "time : 3.97, train_loss : 0.06, train_acc : 98.18,val_acc : 95.09,val_loss : 0.15\n"
     ]
    },
    {
     "name": "stderr",
     "output_type": "stream",
     "text": [
      "100%|██████████| 24/24 [00:03<00:00,  6.88it/s]\n",
      "100%|██████████| 5/5 [00:00<00:00, 11.48it/s]\n",
      "  4%|▍         | 1/24 [00:00<00:04,  5.66it/s]"
     ]
    },
    {
     "name": "stdout",
     "output_type": "stream",
     "text": [
      "time : 3.94, train_loss : 0.05, train_acc : 98.17,val_acc : 95.11,val_loss : 0.15\n"
     ]
    },
    {
     "name": "stderr",
     "output_type": "stream",
     "text": [
      "100%|██████████| 24/24 [00:03<00:00,  6.82it/s]\n",
      "100%|██████████| 5/5 [00:00<00:00, 10.67it/s]\n",
      "  4%|▍         | 1/24 [00:00<00:04,  5.67it/s]"
     ]
    },
    {
     "name": "stdout",
     "output_type": "stream",
     "text": [
      "time : 4.00, train_loss : 0.05, train_acc : 98.40,val_acc : 95.19,val_loss : 0.14\n"
     ]
    },
    {
     "name": "stderr",
     "output_type": "stream",
     "text": [
      "100%|██████████| 24/24 [00:03<00:00,  6.87it/s]\n",
      "100%|██████████| 5/5 [00:00<00:00, 10.98it/s]\n",
      "  4%|▍         | 1/24 [00:00<00:03,  7.03it/s]"
     ]
    },
    {
     "name": "stdout",
     "output_type": "stream",
     "text": [
      "time : 3.96, train_loss : 0.05, train_acc : 98.37,val_acc : 95.34,val_loss : 0.14\n"
     ]
    },
    {
     "name": "stderr",
     "output_type": "stream",
     "text": [
      "100%|██████████| 24/24 [00:03<00:00,  6.96it/s]\n",
      "100%|██████████| 5/5 [00:00<00:00, 10.09it/s]\n",
      "  4%|▍         | 1/24 [00:00<00:03,  7.09it/s]"
     ]
    },
    {
     "name": "stdout",
     "output_type": "stream",
     "text": [
      "time : 3.96, train_loss : 0.07, train_acc : 97.34,val_acc : 94.68,val_loss : 0.17\n"
     ]
    },
    {
     "name": "stderr",
     "output_type": "stream",
     "text": [
      "100%|██████████| 24/24 [00:03<00:00,  6.93it/s]\n",
      "100%|██████████| 5/5 [00:00<00:00,  9.29it/s]\n",
      "  4%|▍         | 1/24 [00:00<00:03,  7.05it/s]"
     ]
    },
    {
     "name": "stdout",
     "output_type": "stream",
     "text": [
      "time : 4.02, train_loss : 0.04, train_acc : 98.69,val_acc : 95.52,val_loss : 0.14\n"
     ]
    },
    {
     "name": "stderr",
     "output_type": "stream",
     "text": [
      "100%|██████████| 24/24 [00:03<00:00,  7.08it/s]\n",
      "100%|██████████| 5/5 [00:00<00:00,  9.57it/s]\n",
      "  4%|▍         | 1/24 [00:00<00:04,  5.57it/s]"
     ]
    },
    {
     "name": "stdout",
     "output_type": "stream",
     "text": [
      "time : 3.93, train_loss : 0.03, train_acc : 98.99,val_acc : 95.44,val_loss : 0.14\n"
     ]
    },
    {
     "name": "stderr",
     "output_type": "stream",
     "text": [
      "100%|██████████| 24/24 [00:03<00:00,  7.01it/s]\n",
      "100%|██████████| 5/5 [00:00<00:00, 10.06it/s]\n",
      "  4%|▍         | 1/24 [00:00<00:03,  7.06it/s]"
     ]
    },
    {
     "name": "stdout",
     "output_type": "stream",
     "text": [
      "time : 3.94, train_loss : 0.03, train_acc : 99.09,val_acc : 95.47,val_loss : 0.15\n"
     ]
    },
    {
     "name": "stderr",
     "output_type": "stream",
     "text": [
      "100%|██████████| 24/24 [00:03<00:00,  7.05it/s]\n",
      "100%|██████████| 5/5 [00:00<00:00,  9.91it/s]\n",
      "  4%|▍         | 1/24 [00:00<00:04,  5.14it/s]"
     ]
    },
    {
     "name": "stdout",
     "output_type": "stream",
     "text": [
      "time : 3.93, train_loss : 0.03, train_acc : 99.19,val_acc : 95.47,val_loss : 0.15\n"
     ]
    },
    {
     "name": "stderr",
     "output_type": "stream",
     "text": [
      "100%|██████████| 24/24 [00:03<00:00,  7.02it/s]\n",
      "100%|██████████| 5/5 [00:00<00:00,  9.91it/s]\n",
      "  0%|          | 0/24 [00:00<?, ?it/s]"
     ]
    },
    {
     "name": "stdout",
     "output_type": "stream",
     "text": [
      "time : 3.94, train_loss : 0.03, train_acc : 99.22,val_acc : 94.90,val_loss : 0.17\n"
     ]
    },
    {
     "name": "stderr",
     "output_type": "stream",
     "text": [
      "100%|██████████| 24/24 [00:03<00:00,  6.71it/s]\n",
      "100%|██████████| 5/5 [00:00<00:00, 10.41it/s]\n",
      "  4%|▍         | 1/24 [00:00<00:03,  6.13it/s]"
     ]
    },
    {
     "name": "stdout",
     "output_type": "stream",
     "text": [
      "time : 4.07, train_loss : 0.04, train_acc : 98.64,val_acc : 94.47,val_loss : 0.18\n"
     ]
    },
    {
     "name": "stderr",
     "output_type": "stream",
     "text": [
      "100%|██████████| 24/24 [00:03<00:00,  7.01it/s]\n",
      "100%|██████████| 5/5 [00:00<00:00, 11.06it/s]\n",
      "  4%|▍         | 1/24 [00:00<00:04,  5.65it/s]"
     ]
    },
    {
     "name": "stdout",
     "output_type": "stream",
     "text": [
      "time : 3.90, train_loss : 0.03, train_acc : 98.88,val_acc : 95.32,val_loss : 0.15\n"
     ]
    },
    {
     "name": "stderr",
     "output_type": "stream",
     "text": [
      "100%|██████████| 24/24 [00:03<00:00,  7.01it/s]\n",
      "100%|██████████| 5/5 [00:00<00:00, 10.65it/s]\n",
      "  4%|▍         | 1/24 [00:00<00:03,  5.77it/s]"
     ]
    },
    {
     "name": "stdout",
     "output_type": "stream",
     "text": [
      "time : 3.91, train_loss : 0.02, train_acc : 99.39,val_acc : 95.49,val_loss : 0.15\n"
     ]
    },
    {
     "name": "stderr",
     "output_type": "stream",
     "text": [
      "100%|██████████| 24/24 [00:03<00:00,  6.93it/s]\n",
      "100%|██████████| 5/5 [00:00<00:00, 11.39it/s]\n",
      "  4%|▍         | 1/24 [00:00<00:03,  6.85it/s]"
     ]
    },
    {
     "name": "stdout",
     "output_type": "stream",
     "text": [
      "time : 3.92, train_loss : 0.02, train_acc : 99.48,val_acc : 95.39,val_loss : 0.16\n"
     ]
    },
    {
     "name": "stderr",
     "output_type": "stream",
     "text": [
      "100%|██████████| 24/24 [00:03<00:00,  6.88it/s]\n",
      "100%|██████████| 5/5 [00:00<00:00, 11.21it/s]\n",
      "  4%|▍         | 1/24 [00:00<00:03,  6.87it/s]"
     ]
    },
    {
     "name": "stdout",
     "output_type": "stream",
     "text": [
      "time : 3.95, train_loss : 0.02, train_acc : 99.30,val_acc : 95.25,val_loss : 0.17\n"
     ]
    },
    {
     "name": "stderr",
     "output_type": "stream",
     "text": [
      "100%|██████████| 24/24 [00:03<00:00,  6.91it/s]\n",
      "100%|██████████| 5/5 [00:00<00:00, 10.77it/s]\n",
      "  4%|▍         | 1/24 [00:00<00:03,  6.35it/s]"
     ]
    },
    {
     "name": "stdout",
     "output_type": "stream",
     "text": [
      "time : 3.95, train_loss : 0.02, train_acc : 99.35,val_acc : 95.52,val_loss : 0.16\n"
     ]
    },
    {
     "name": "stderr",
     "output_type": "stream",
     "text": [
      "100%|██████████| 24/24 [00:03<00:00,  6.79it/s]\n",
      "100%|██████████| 5/5 [00:00<00:00, 10.16it/s]\n",
      "  4%|▍         | 1/24 [00:00<00:03,  5.78it/s]"
     ]
    },
    {
     "name": "stdout",
     "output_type": "stream",
     "text": [
      "time : 4.04, train_loss : 0.02, train_acc : 99.56,val_acc : 95.19,val_loss : 0.17\n"
     ]
    },
    {
     "name": "stderr",
     "output_type": "stream",
     "text": [
      "100%|██████████| 24/24 [00:03<00:00,  6.93it/s]\n",
      "100%|██████████| 5/5 [00:00<00:00,  9.95it/s]\n",
      "  4%|▍         | 1/24 [00:00<00:03,  6.93it/s]"
     ]
    },
    {
     "name": "stdout",
     "output_type": "stream",
     "text": [
      "time : 3.98, train_loss : 0.02, train_acc : 99.65,val_acc : 95.22,val_loss : 0.17\n"
     ]
    },
    {
     "name": "stderr",
     "output_type": "stream",
     "text": [
      "100%|██████████| 24/24 [00:03<00:00,  6.89it/s]\n",
      "100%|██████████| 5/5 [00:00<00:00, 10.29it/s]\n",
      "  4%|▍         | 1/24 [00:00<00:03,  6.83it/s]"
     ]
    },
    {
     "name": "stdout",
     "output_type": "stream",
     "text": [
      "time : 3.98, train_loss : 0.02, train_acc : 99.66,val_acc : 95.47,val_loss : 0.17\n"
     ]
    },
    {
     "name": "stderr",
     "output_type": "stream",
     "text": [
      "100%|██████████| 24/24 [00:03<00:00,  6.89it/s]\n",
      "100%|██████████| 5/5 [00:00<00:00, 10.27it/s]\n",
      "  4%|▍         | 1/24 [00:00<00:04,  5.66it/s]"
     ]
    },
    {
     "name": "stdout",
     "output_type": "stream",
     "text": [
      "time : 3.98, train_loss : 0.01, train_acc : 99.73,val_acc : 95.50,val_loss : 0.18\n"
     ]
    },
    {
     "name": "stderr",
     "output_type": "stream",
     "text": [
      "100%|██████████| 24/24 [00:03<00:00,  6.80it/s]\n",
      "100%|██████████| 5/5 [00:00<00:00, 10.10it/s]\n",
      "  4%|▍         | 1/24 [00:00<00:04,  5.07it/s]"
     ]
    },
    {
     "name": "stdout",
     "output_type": "stream",
     "text": [
      "time : 4.04, train_loss : 0.01, train_acc : 99.75,val_acc : 95.16,val_loss : 0.17\n"
     ]
    },
    {
     "name": "stderr",
     "output_type": "stream",
     "text": [
      "100%|██████████| 24/24 [00:03<00:00,  6.98it/s]\n",
      "100%|██████████| 5/5 [00:00<00:00, 10.34it/s]\n",
      "  0%|          | 0/24 [00:00<?, ?it/s]"
     ]
    },
    {
     "name": "stdout",
     "output_type": "stream",
     "text": [
      "time : 3.94, train_loss : 0.01, train_acc : 99.67,val_acc : 95.46,val_loss : 0.17\n"
     ]
    },
    {
     "name": "stderr",
     "output_type": "stream",
     "text": [
      "100%|██████████| 24/24 [00:03<00:00,  6.93it/s]\n",
      "100%|██████████| 5/5 [00:00<00:00, 11.62it/s]\n",
      "  4%|▍         | 1/24 [00:00<00:03,  6.51it/s]"
     ]
    },
    {
     "name": "stdout",
     "output_type": "stream",
     "text": [
      "time : 3.91, train_loss : 0.01, train_acc : 99.78,val_acc : 95.41,val_loss : 0.17\n"
     ]
    },
    {
     "name": "stderr",
     "output_type": "stream",
     "text": [
      "100%|██████████| 24/24 [00:03<00:00,  6.99it/s]\n",
      "100%|██████████| 5/5 [00:00<00:00, 10.14it/s]\n",
      "  4%|▍         | 1/24 [00:00<00:04,  5.63it/s]"
     ]
    },
    {
     "name": "stdout",
     "output_type": "stream",
     "text": [
      "time : 3.94, train_loss : 0.01, train_acc : 99.75,val_acc : 95.27,val_loss : 0.19\n"
     ]
    },
    {
     "name": "stderr",
     "output_type": "stream",
     "text": [
      "100%|██████████| 24/24 [00:03<00:00,  6.82it/s]\n",
      "100%|██████████| 5/5 [00:00<00:00, 11.33it/s]\n",
      "  4%|▍         | 1/24 [00:00<00:04,  5.60it/s]"
     ]
    },
    {
     "name": "stdout",
     "output_type": "stream",
     "text": [
      "time : 3.98, train_loss : 0.01, train_acc : 99.77,val_acc : 95.42,val_loss : 0.18\n"
     ]
    },
    {
     "name": "stderr",
     "output_type": "stream",
     "text": [
      "100%|██████████| 24/24 [00:03<00:00,  6.82it/s]\n",
      "100%|██████████| 5/5 [00:00<00:00, 10.23it/s]\n",
      "  4%|▍         | 1/24 [00:00<00:04,  5.61it/s]"
     ]
    },
    {
     "name": "stdout",
     "output_type": "stream",
     "text": [
      "time : 4.02, train_loss : 0.01, train_acc : 99.84,val_acc : 95.47,val_loss : 0.18\n"
     ]
    },
    {
     "name": "stderr",
     "output_type": "stream",
     "text": [
      "100%|██████████| 24/24 [00:03<00:00,  6.75it/s]\n",
      "100%|██████████| 5/5 [00:00<00:00, 10.75it/s]\n",
      "  4%|▍         | 1/24 [00:00<00:03,  5.76it/s]"
     ]
    },
    {
     "name": "stdout",
     "output_type": "stream",
     "text": [
      "time : 4.03, train_loss : 0.01, train_acc : 99.84,val_acc : 95.34,val_loss : 0.19\n"
     ]
    },
    {
     "name": "stderr",
     "output_type": "stream",
     "text": [
      "100%|██████████| 24/24 [00:03<00:00,  6.94it/s]\n",
      "100%|██████████| 5/5 [00:00<00:00, 11.32it/s]\n",
      "  4%|▍         | 1/24 [00:00<00:03,  6.41it/s]"
     ]
    },
    {
     "name": "stdout",
     "output_type": "stream",
     "text": [
      "time : 3.91, train_loss : 0.01, train_acc : 99.85,val_acc : 95.48,val_loss : 0.19\n"
     ]
    },
    {
     "name": "stderr",
     "output_type": "stream",
     "text": [
      "100%|██████████| 24/24 [00:03<00:00,  6.98it/s]\n",
      "100%|██████████| 5/5 [00:00<00:00, 11.10it/s]\n",
      "  4%|▍         | 1/24 [00:00<00:03,  6.91it/s]"
     ]
    },
    {
     "name": "stdout",
     "output_type": "stream",
     "text": [
      "time : 3.90, train_loss : 0.01, train_acc : 99.86,val_acc : 95.31,val_loss : 0.19\n"
     ]
    },
    {
     "name": "stderr",
     "output_type": "stream",
     "text": [
      "100%|██████████| 24/24 [00:03<00:00,  6.99it/s]\n",
      "100%|██████████| 5/5 [00:00<00:00, 10.20it/s]\n",
      "  4%|▍         | 1/24 [00:00<00:03,  6.91it/s]"
     ]
    },
    {
     "name": "stdout",
     "output_type": "stream",
     "text": [
      "time : 3.94, train_loss : 0.01, train_acc : 99.86,val_acc : 95.28,val_loss : 0.19\n"
     ]
    },
    {
     "name": "stderr",
     "output_type": "stream",
     "text": [
      "100%|██████████| 24/24 [00:03<00:00,  6.85it/s]\n",
      "100%|██████████| 5/5 [00:00<00:00, 10.15it/s]\n",
      "  4%|▍         | 1/24 [00:00<00:03,  6.90it/s]"
     ]
    },
    {
     "name": "stdout",
     "output_type": "stream",
     "text": [
      "time : 4.02, train_loss : 1.11, train_acc : 84.34,val_acc : 74.42,val_loss : 0.58\n"
     ]
    },
    {
     "name": "stderr",
     "output_type": "stream",
     "text": [
      "100%|██████████| 24/24 [00:03<00:00,  6.90it/s]\n",
      "100%|██████████| 5/5 [00:00<00:00, 10.31it/s]\n",
      "  4%|▍         | 1/24 [00:00<00:03,  5.83it/s]"
     ]
    },
    {
     "name": "stdout",
     "output_type": "stream",
     "text": [
      "time : 3.98, train_loss : 0.44, train_acc : 80.76,val_acc : 84.30,val_loss : 0.38\n"
     ]
    },
    {
     "name": "stderr",
     "output_type": "stream",
     "text": [
      "100%|██████████| 24/24 [00:03<00:00,  7.02it/s]\n",
      "100%|██████████| 5/5 [00:00<00:00,  9.31it/s]\n",
      "  0%|          | 0/24 [00:00<?, ?it/s]"
     ]
    },
    {
     "name": "stdout",
     "output_type": "stream",
     "text": [
      "time : 3.97, train_loss : 0.35, train_acc : 85.03,val_acc : 85.97,val_loss : 0.33\n"
     ]
    },
    {
     "name": "stderr",
     "output_type": "stream",
     "text": [
      "100%|██████████| 24/24 [00:03<00:00,  6.93it/s]\n",
      "100%|██████████| 5/5 [00:00<00:00,  9.20it/s]\n",
      "  4%|▍         | 1/24 [00:00<00:04,  5.54it/s]"
     ]
    },
    {
     "name": "stdout",
     "output_type": "stream",
     "text": [
      "time : 4.02, train_loss : 0.32, train_acc : 86.62,val_acc : 86.91,val_loss : 0.31\n"
     ]
    },
    {
     "name": "stderr",
     "output_type": "stream",
     "text": [
      "100%|██████████| 24/24 [00:03<00:00,  7.08it/s]\n",
      "100%|██████████| 5/5 [00:00<00:00,  9.92it/s]\n",
      "  4%|▍         | 1/24 [00:00<00:04,  5.45it/s]"
     ]
    },
    {
     "name": "stdout",
     "output_type": "stream",
     "text": [
      "time : 3.91, train_loss : 0.30, train_acc : 87.62,val_acc : 88.36,val_loss : 0.29\n"
     ]
    },
    {
     "name": "stderr",
     "output_type": "stream",
     "text": [
      "100%|██████████| 24/24 [00:03<00:00,  6.83it/s]\n",
      "100%|██████████| 5/5 [00:00<00:00, 11.31it/s]\n",
      "  4%|▍         | 1/24 [00:00<00:03,  5.84it/s]"
     ]
    },
    {
     "name": "stdout",
     "output_type": "stream",
     "text": [
      "time : 3.97, train_loss : 0.28, train_acc : 88.58,val_acc : 88.43,val_loss : 0.29\n"
     ]
    },
    {
     "name": "stderr",
     "output_type": "stream",
     "text": [
      "100%|██████████| 24/24 [00:03<00:00,  7.00it/s]\n",
      "100%|██████████| 5/5 [00:00<00:00, 10.12it/s]\n",
      "  4%|▍         | 1/24 [00:00<00:04,  5.65it/s]"
     ]
    },
    {
     "name": "stdout",
     "output_type": "stream",
     "text": [
      "time : 3.94, train_loss : 0.27, train_acc : 89.12,val_acc : 89.16,val_loss : 0.27\n"
     ]
    },
    {
     "name": "stderr",
     "output_type": "stream",
     "text": [
      "100%|██████████| 24/24 [00:03<00:00,  6.98it/s]\n",
      "100%|██████████| 5/5 [00:00<00:00, 10.22it/s]\n",
      "  4%|▍         | 1/24 [00:00<00:03,  7.11it/s]"
     ]
    },
    {
     "name": "stdout",
     "output_type": "stream",
     "text": [
      "time : 3.95, train_loss : 0.26, train_acc : 89.66,val_acc : 89.51,val_loss : 0.26\n"
     ]
    },
    {
     "name": "stderr",
     "output_type": "stream",
     "text": [
      "100%|██████████| 24/24 [00:03<00:00,  7.08it/s]\n",
      "100%|██████████| 5/5 [00:00<00:00, 10.86it/s]\n",
      "  4%|▍         | 1/24 [00:00<00:03,  7.07it/s]"
     ]
    },
    {
     "name": "stdout",
     "output_type": "stream",
     "text": [
      "time : 3.86, train_loss : 0.25, train_acc : 90.05,val_acc : 89.88,val_loss : 0.26\n"
     ]
    },
    {
     "name": "stderr",
     "output_type": "stream",
     "text": [
      "100%|██████████| 24/24 [00:03<00:00,  7.06it/s]\n",
      "100%|██████████| 5/5 [00:00<00:00, 10.58it/s]\n",
      "  4%|▍         | 1/24 [00:00<00:03,  6.20it/s]"
     ]
    },
    {
     "name": "stdout",
     "output_type": "stream",
     "text": [
      "time : 3.89, train_loss : 0.24, train_acc : 90.55,val_acc : 90.20,val_loss : 0.25\n"
     ]
    },
    {
     "name": "stderr",
     "output_type": "stream",
     "text": [
      "100%|██████████| 24/24 [00:03<00:00,  6.89it/s]\n",
      "100%|██████████| 5/5 [00:00<00:00, 11.46it/s]\n",
      "  4%|▍         | 1/24 [00:00<00:03,  6.91it/s]"
     ]
    },
    {
     "name": "stdout",
     "output_type": "stream",
     "text": [
      "time : 3.94, train_loss : 0.23, train_acc : 90.89,val_acc : 90.95,val_loss : 0.24\n"
     ]
    },
    {
     "name": "stderr",
     "output_type": "stream",
     "text": [
      "100%|██████████| 24/24 [00:03<00:00,  6.90it/s]\n",
      "100%|██████████| 5/5 [00:00<00:00, 10.17it/s]\n",
      "  4%|▍         | 1/24 [00:00<00:04,  5.66it/s]"
     ]
    },
    {
     "name": "stdout",
     "output_type": "stream",
     "text": [
      "time : 3.98, train_loss : 0.23, train_acc : 90.87,val_acc : 90.97,val_loss : 0.23\n"
     ]
    },
    {
     "name": "stderr",
     "output_type": "stream",
     "text": [
      "100%|██████████| 24/24 [00:03<00:00,  6.82it/s]\n",
      "100%|██████████| 5/5 [00:00<00:00, 10.42it/s]\n",
      "  4%|▍         | 1/24 [00:00<00:03,  6.34it/s]"
     ]
    },
    {
     "name": "stdout",
     "output_type": "stream",
     "text": [
      "time : 4.01, train_loss : 0.22, train_acc : 91.28,val_acc : 91.19,val_loss : 0.23\n"
     ]
    },
    {
     "name": "stderr",
     "output_type": "stream",
     "text": [
      "100%|██████████| 24/24 [00:03<00:00,  6.87it/s]\n",
      "100%|██████████| 5/5 [00:00<00:00, 10.62it/s]\n",
      "  4%|▍         | 1/24 [00:00<00:03,  6.59it/s]"
     ]
    },
    {
     "name": "stdout",
     "output_type": "stream",
     "text": [
      "time : 3.97, train_loss : 0.22, train_acc : 91.56,val_acc : 91.05,val_loss : 0.22\n"
     ]
    },
    {
     "name": "stderr",
     "output_type": "stream",
     "text": [
      "100%|██████████| 24/24 [00:03<00:00,  6.82it/s]\n",
      "100%|██████████| 5/5 [00:00<00:00,  9.34it/s]\n",
      "  4%|▍         | 1/24 [00:00<00:04,  5.62it/s]"
     ]
    },
    {
     "name": "stdout",
     "output_type": "stream",
     "text": [
      "time : 4.06, train_loss : 0.21, train_acc : 91.94,val_acc : 91.34,val_loss : 0.22\n"
     ]
    },
    {
     "name": "stderr",
     "output_type": "stream",
     "text": [
      "100%|██████████| 24/24 [00:03<00:00,  6.83it/s]\n",
      "100%|██████████| 5/5 [00:00<00:00, 10.09it/s]\n",
      "  4%|▍         | 1/24 [00:00<00:04,  5.50it/s]"
     ]
    },
    {
     "name": "stdout",
     "output_type": "stream",
     "text": [
      "time : 4.03, train_loss : 0.20, train_acc : 92.06,val_acc : 91.45,val_loss : 0.22\n"
     ]
    },
    {
     "name": "stderr",
     "output_type": "stream",
     "text": [
      "100%|██████████| 24/24 [00:03<00:00,  7.02it/s]\n",
      "100%|██████████| 5/5 [00:00<00:00, 10.00it/s]\n",
      "  4%|▍         | 1/24 [00:00<00:04,  5.38it/s]"
     ]
    },
    {
     "name": "stdout",
     "output_type": "stream",
     "text": [
      "time : 3.94, train_loss : 0.20, train_acc : 92.36,val_acc : 91.65,val_loss : 0.21\n"
     ]
    },
    {
     "name": "stderr",
     "output_type": "stream",
     "text": [
      "100%|██████████| 24/24 [00:03<00:00,  6.81it/s]\n",
      "100%|██████████| 5/5 [00:00<00:00, 10.79it/s]\n",
      "  4%|▍         | 1/24 [00:00<00:03,  5.96it/s]"
     ]
    },
    {
     "name": "stdout",
     "output_type": "stream",
     "text": [
      "time : 4.00, train_loss : 0.19, train_acc : 92.48,val_acc : 92.12,val_loss : 0.21\n"
     ]
    },
    {
     "name": "stderr",
     "output_type": "stream",
     "text": [
      "100%|██████████| 24/24 [00:03<00:00,  7.03it/s]\n",
      "100%|██████████| 5/5 [00:00<00:00, 10.53it/s]\n",
      "  4%|▍         | 1/24 [00:00<00:04,  5.60it/s]"
     ]
    },
    {
     "name": "stdout",
     "output_type": "stream",
     "text": [
      "time : 3.90, train_loss : 0.19, train_acc : 92.68,val_acc : 92.11,val_loss : 0.21\n"
     ]
    },
    {
     "name": "stderr",
     "output_type": "stream",
     "text": [
      "100%|██████████| 24/24 [00:03<00:00,  6.76it/s]\n",
      "100%|██████████| 5/5 [00:00<00:00, 11.22it/s]\n",
      "  4%|▍         | 1/24 [00:00<00:03,  6.66it/s]"
     ]
    },
    {
     "name": "stdout",
     "output_type": "stream",
     "text": [
      "time : 4.01, train_loss : 0.19, train_acc : 92.57,val_acc : 91.93,val_loss : 0.21\n"
     ]
    },
    {
     "name": "stderr",
     "output_type": "stream",
     "text": [
      "100%|██████████| 24/24 [00:03<00:00,  6.82it/s]\n",
      "100%|██████████| 5/5 [00:00<00:00, 11.39it/s]\n",
      "  4%|▍         | 1/24 [00:00<00:04,  5.57it/s]"
     ]
    },
    {
     "name": "stdout",
     "output_type": "stream",
     "text": [
      "time : 3.98, train_loss : 0.18, train_acc : 93.05,val_acc : 91.97,val_loss : 0.21\n"
     ]
    },
    {
     "name": "stderr",
     "output_type": "stream",
     "text": [
      "100%|██████████| 24/24 [00:03<00:00,  6.97it/s]\n",
      "100%|██████████| 5/5 [00:00<00:00, 10.99it/s]\n",
      "  4%|▍         | 1/24 [00:00<00:03,  7.03it/s]"
     ]
    },
    {
     "name": "stdout",
     "output_type": "stream",
     "text": [
      "time : 3.91, train_loss : 0.18, train_acc : 93.03,val_acc : 92.33,val_loss : 0.20\n"
     ]
    },
    {
     "name": "stderr",
     "output_type": "stream",
     "text": [
      "100%|██████████| 24/24 [00:03<00:00,  7.08it/s]\n",
      "100%|██████████| 5/5 [00:00<00:00, 11.09it/s]\n",
      "  4%|▍         | 1/24 [00:00<00:03,  6.59it/s]"
     ]
    },
    {
     "name": "stdout",
     "output_type": "stream",
     "text": [
      "time : 3.85, train_loss : 0.18, train_acc : 93.28,val_acc : 92.16,val_loss : 0.20\n"
     ]
    },
    {
     "name": "stderr",
     "output_type": "stream",
     "text": [
      "100%|██████████| 24/24 [00:03<00:00,  6.81it/s]\n",
      "100%|██████████| 5/5 [00:00<00:00,  8.97it/s]\n",
      "  4%|▍         | 1/24 [00:00<00:03,  5.79it/s]"
     ]
    },
    {
     "name": "stdout",
     "output_type": "stream",
     "text": [
      "time : 4.10, train_loss : 0.17, train_acc : 93.31,val_acc : 92.50,val_loss : 0.19\n"
     ]
    },
    {
     "name": "stderr",
     "output_type": "stream",
     "text": [
      "100%|██████████| 24/24 [00:03<00:00,  7.02it/s]\n",
      "100%|██████████| 5/5 [00:00<00:00, 10.05it/s]\n",
      "  4%|▍         | 1/24 [00:00<00:03,  6.82it/s]"
     ]
    },
    {
     "name": "stdout",
     "output_type": "stream",
     "text": [
      "time : 3.93, train_loss : 0.17, train_acc : 93.38,val_acc : 92.14,val_loss : 0.20\n"
     ]
    },
    {
     "name": "stderr",
     "output_type": "stream",
     "text": [
      "100%|██████████| 24/24 [00:03<00:00,  6.84it/s]\n",
      "100%|██████████| 5/5 [00:00<00:00,  9.35it/s]\n",
      "  4%|▍         | 1/24 [00:00<00:03,  5.78it/s]"
     ]
    },
    {
     "name": "stdout",
     "output_type": "stream",
     "text": [
      "time : 4.06, train_loss : 0.17, train_acc : 93.69,val_acc : 92.61,val_loss : 0.19\n"
     ]
    },
    {
     "name": "stderr",
     "output_type": "stream",
     "text": [
      "100%|██████████| 24/24 [00:03<00:00,  6.92it/s]\n",
      "100%|██████████| 5/5 [00:00<00:00,  9.62it/s]\n",
      "  4%|▍         | 1/24 [00:00<00:03,  6.35it/s]"
     ]
    },
    {
     "name": "stdout",
     "output_type": "stream",
     "text": [
      "time : 4.00, train_loss : 0.16, train_acc : 93.79,val_acc : 92.56,val_loss : 0.19\n"
     ]
    },
    {
     "name": "stderr",
     "output_type": "stream",
     "text": [
      "100%|██████████| 24/24 [00:03<00:00,  7.03it/s]\n",
      "100%|██████████| 5/5 [00:00<00:00, 10.22it/s]\n",
      "  4%|▍         | 1/24 [00:00<00:04,  5.09it/s]"
     ]
    },
    {
     "name": "stdout",
     "output_type": "stream",
     "text": [
      "time : 3.92, train_loss : 0.16, train_acc : 94.02,val_acc : 92.68,val_loss : 0.19\n"
     ]
    },
    {
     "name": "stderr",
     "output_type": "stream",
     "text": [
      "100%|██████████| 24/24 [00:03<00:00,  6.86it/s]\n",
      "100%|██████████| 5/5 [00:00<00:00,  9.99it/s]\n",
      "  4%|▍         | 1/24 [00:00<00:04,  5.15it/s]"
     ]
    },
    {
     "name": "stdout",
     "output_type": "stream",
     "text": [
      "time : 4.02, train_loss : 0.16, train_acc : 94.12,val_acc : 92.75,val_loss : 0.19\n"
     ]
    },
    {
     "name": "stderr",
     "output_type": "stream",
     "text": [
      "100%|██████████| 24/24 [00:03<00:00,  6.75it/s]\n",
      "100%|██████████| 5/5 [00:00<00:00,  9.66it/s]\n",
      "  4%|▍         | 1/24 [00:00<00:03,  6.64it/s]"
     ]
    },
    {
     "name": "stdout",
     "output_type": "stream",
     "text": [
      "time : 4.09, train_loss : 0.15, train_acc : 94.19,val_acc : 93.06,val_loss : 0.19\n"
     ]
    },
    {
     "name": "stderr",
     "output_type": "stream",
     "text": [
      "100%|██████████| 24/24 [00:03<00:00,  6.86it/s]\n",
      "100%|██████████| 5/5 [00:00<00:00, 11.24it/s]\n",
      "  4%|▍         | 1/24 [00:00<00:03,  6.87it/s]"
     ]
    },
    {
     "name": "stdout",
     "output_type": "stream",
     "text": [
      "time : 3.96, train_loss : 0.15, train_acc : 94.27,val_acc : 92.83,val_loss : 0.19\n"
     ]
    },
    {
     "name": "stderr",
     "output_type": "stream",
     "text": [
      "100%|██████████| 24/24 [00:03<00:00,  6.83it/s]\n",
      "100%|██████████| 5/5 [00:00<00:00, 11.20it/s]\n",
      "  4%|▍         | 1/24 [00:00<00:04,  5.70it/s]"
     ]
    },
    {
     "name": "stdout",
     "output_type": "stream",
     "text": [
      "time : 3.98, train_loss : 0.15, train_acc : 94.23,val_acc : 93.22,val_loss : 0.18\n"
     ]
    },
    {
     "name": "stderr",
     "output_type": "stream",
     "text": [
      "100%|██████████| 24/24 [00:03<00:00,  6.80it/s]\n",
      "100%|██████████| 5/5 [00:00<00:00, 11.16it/s]\n",
      "  4%|▍         | 1/24 [00:00<00:03,  6.82it/s]"
     ]
    },
    {
     "name": "stdout",
     "output_type": "stream",
     "text": [
      "time : 3.99, train_loss : 0.15, train_acc : 94.53,val_acc : 93.17,val_loss : 0.18\n"
     ]
    },
    {
     "name": "stderr",
     "output_type": "stream",
     "text": [
      "100%|██████████| 24/24 [00:03<00:00,  7.01it/s]\n",
      "100%|██████████| 5/5 [00:00<00:00, 11.30it/s]\n",
      "  4%|▍         | 1/24 [00:00<00:04,  5.58it/s]"
     ]
    },
    {
     "name": "stdout",
     "output_type": "stream",
     "text": [
      "time : 3.88, train_loss : 0.14, train_acc : 94.69,val_acc : 92.83,val_loss : 0.19\n"
     ]
    },
    {
     "name": "stderr",
     "output_type": "stream",
     "text": [
      "100%|██████████| 24/24 [00:03<00:00,  6.98it/s]\n",
      "100%|██████████| 5/5 [00:00<00:00, 11.41it/s]\n",
      "  4%|▍         | 1/24 [00:00<00:03,  6.82it/s]"
     ]
    },
    {
     "name": "stdout",
     "output_type": "stream",
     "text": [
      "time : 3.89, train_loss : 0.14, train_acc : 94.56,val_acc : 92.56,val_loss : 0.20\n"
     ]
    },
    {
     "name": "stderr",
     "output_type": "stream",
     "text": [
      "100%|██████████| 24/24 [00:03<00:00,  6.81it/s]\n",
      "100%|██████████| 5/5 [00:00<00:00,  9.15it/s]\n",
      "  0%|          | 0/5 [00:00<?, ?it/s]"
     ]
    },
    {
     "name": "stdout",
     "output_type": "stream",
     "text": [
      "time : 4.08, train_loss : 0.14, train_acc : 94.86,val_acc : 93.36,val_loss : 0.18\n"
     ]
    },
    {
     "name": "stderr",
     "output_type": "stream",
     "text": [
      "100%|██████████| 5/5 [00:00<00:00,  9.83it/s]\n"
     ]
    }
   ],
   "source": [
    "seed = 123\n",
    "np.random.seed(seed)\n",
    "torch.manual_seed(seed)\n",
    "net=CNN()\n",
    "net.cuda()\n",
    "criterion=nn.CrossEntropyLoss()\n",
    "optimizer = optim.Adam(net.parameters(), lr=0.0015, weight_decay=0.00001)\n",
    "train_losses=[]\n",
    "val_losses=[]\n",
    "train_accs=[]\n",
    "val_accs=[]\n",
    "for epoch in range(100):\n",
    "    ts=time.time()\n",
    "    net, train_loss,train_acc=train(net, partition, optimizer, criterion)\n",
    "    val_loss, val_acc = validate(net, partition, criterion)\n",
    "    te=time.time()\n",
    "    print('time : {:2.2f}, train_loss : {:2.2f}, train_acc : {:2.2f},val_acc : {:2.2f},val_loss : {:2.2f}'.format(te-ts,train_loss,train_acc,val_acc,val_loss))\n",
    "    train_loss=round(train_loss,2)\n",
    "    val_loss=round(val_loss,2)\n",
    "    train_acc=round(train_acc,2)\n",
    "    val_acc=round(val_acc,2)\n",
    "    train_losses.append(train_loss)\n",
    "    val_losses.append(val_loss)\n",
    "    train_accs.append(train_acc)\n",
    "    val_accs.append(val_acc)\n"
   ]
  },
  {
   "cell_type": "code",
   "execution_count": 26,
   "id": "electric-walter",
   "metadata": {},
   "outputs": [
    {
     "name": "stderr",
     "output_type": "stream",
     "text": [
      "100%|██████████| 5/5 [00:00<00:00,  9.89it/s]\n"
     ]
    }
   ],
   "source": [
    "test_acc = test(net)\n",
    "test_acc=round(test_acc,2)"
   ]
  },
  {
   "cell_type": "code",
   "execution_count": 27,
   "id": "prescription-discipline",
   "metadata": {},
   "outputs": [
    {
     "data": {
      "text/plain": [
       "93.11"
      ]
     },
     "execution_count": 27,
     "metadata": {},
     "output_type": "execute_result"
    }
   ],
   "source": [
    "test_acc"
   ]
  },
  {
   "cell_type": "code",
   "execution_count": 28,
   "id": "lesbian-ambassador",
   "metadata": {},
   "outputs": [],
   "source": [
    "np.save(\"basic_train_accs\",train_accs)\n",
    "np.save(\"basic_val_accs\",val_accs)\n",
    "np.save(\"basic_train_losses\",train_losses)\n",
    "np.save(\"basic_val_losses\",train_losses)"
   ]
  },
  {
   "cell_type": "code",
   "execution_count": null,
   "id": "macro-simulation",
   "metadata": {},
   "outputs": [],
   "source": []
  }
 ],
 "metadata": {
  "kernelspec": {
   "display_name": "Python 3",
   "language": "python",
   "name": "python3"
  },
  "language_info": {
   "codemirror_mode": {
    "name": "ipython",
    "version": 3
   },
   "file_extension": ".py",
   "mimetype": "text/x-python",
   "name": "python",
   "nbconvert_exporter": "python",
   "pygments_lexer": "ipython3",
   "version": "3.6.12"
  }
 },
 "nbformat": 4,
 "nbformat_minor": 5
}
